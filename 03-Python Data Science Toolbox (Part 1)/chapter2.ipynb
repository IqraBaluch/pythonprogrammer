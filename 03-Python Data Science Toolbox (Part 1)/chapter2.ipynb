{
 "cells": [
  {
   "cell_type": "markdown",
   "id": "66b66ac3",
   "metadata": {},
   "source": [
    "# Default arguments, variable-length arguments and scope\n",
    "\n",
    "### Ideal scope in the context of user defined functions\n",
    "\n",
    "we have defined a lot of variables and used them when needed but \n",
    "\n",
    "###### not all objects are accesable everywhere in the script\n",
    "\n",
    "## Scope\n",
    "\n",
    "are part of the programe, whcih tell us where an object can be accessable. \n",
    "\n",
    "\n",
    "### there are three types of scops\n",
    "\n",
    "1. Global scope : object/variable out side of function. in the main body of the script\n",
    "\n",
    "2. local scope: inside the function body and can not be accessed outside of the function defination.\n",
    "\n",
    "3. Builtin scope: module, builtin functions from modules. Print(), sum()\n",
    "\n",
    "## Global VS Local\n"
   ]
  },
  {
   "cell_type": "markdown",
   "id": "5f2a7826",
   "metadata": {},
   "source": [
    "# Local Scope of Variable"
   ]
  },
  {
   "cell_type": "code",
   "execution_count": 7,
   "id": "588207d7",
   "metadata": {},
   "outputs": [],
   "source": [
    "def square(word1):\n",
    "    \n",
    "    square_wored  = word1 ** 2\n",
    "    \n",
    "    return square_wored"
   ]
  },
  {
   "cell_type": "code",
   "execution_count": 9,
   "id": "515f02c8",
   "metadata": {},
   "outputs": [
    {
     "data": {
      "text/plain": [
       "6"
      ]
     },
     "execution_count": 9,
     "metadata": {},
     "output_type": "execute_result"
    }
   ],
   "source": [
    "square(3)"
   ]
  },
  {
   "cell_type": "code",
   "execution_count": 5,
   "id": "7dd64271",
   "metadata": {},
   "outputs": [
    {
     "ename": "NameError",
     "evalue": "name 'square_wored' is not defined",
     "output_type": "error",
     "traceback": [
      "\u001b[1;31m---------------------------------------------------------------------------\u001b[0m",
      "\u001b[1;31mNameError\u001b[0m                                 Traceback (most recent call last)",
      "\u001b[1;32m~\\AppData\\Local\\Temp/ipykernel_7428/3463293924.py\u001b[0m in \u001b[0;36m<module>\u001b[1;34m\u001b[0m\n\u001b[1;32m----> 1\u001b[1;33m \u001b[0msquare_wored\u001b[0m\u001b[1;33m\u001b[0m\u001b[1;33m\u001b[0m\u001b[0m\n\u001b[0m",
      "\u001b[1;31mNameError\u001b[0m: name 'square_wored' is not defined"
     ]
    }
   ],
   "source": [
    "square_wored"
   ]
  },
  {
   "cell_type": "markdown",
   "id": "818e6da5",
   "metadata": {},
   "source": [
    "the variable name ```square_wored``` is not accessable, this is because it is defined with in the local scope. \n",
    "\n",
    "\n"
   ]
  },
  {
   "cell_type": "markdown",
   "id": "2da95943",
   "metadata": {},
   "source": [
    "# Global scope\n"
   ]
  },
  {
   "cell_type": "code",
   "execution_count": 17,
   "id": "110962ff",
   "metadata": {},
   "outputs": [],
   "source": [
    "square_wored = 10\n",
    "\n",
    "def square1(wor1):\n",
    "    \n",
    "    square_wor = square_wored ** 2\n",
    "\n",
    "    return square_wor"
   ]
  },
  {
   "cell_type": "code",
   "execution_count": 20,
   "id": "adf5ddc5",
   "metadata": {},
   "outputs": [
    {
     "data": {
      "text/plain": [
       "100"
      ]
     },
     "execution_count": 20,
     "metadata": {},
     "output_type": "execute_result"
    }
   ],
   "source": [
    "square1(3)"
   ]
  },
  {
   "cell_type": "code",
   "execution_count": 21,
   "id": "ac2cd056",
   "metadata": {},
   "outputs": [
    {
     "data": {
      "text/plain": [
       "10"
      ]
     },
     "execution_count": 21,
     "metadata": {},
     "output_type": "execute_result"
    }
   ],
   "source": [
    "square_wored"
   ]
  },
  {
   "cell_type": "code",
   "execution_count": 22,
   "id": "9f326ddc",
   "metadata": {},
   "outputs": [],
   "source": [
    "wor2 = 10 \n",
    "\n",
    "def square1(wor1):\n",
    "    \n",
    "    square_wored = wor2 ** 2\n",
    "\n",
    "    return square_wored"
   ]
  },
  {
   "cell_type": "code",
   "execution_count": 23,
   "id": "685c6359",
   "metadata": {},
   "outputs": [
    {
     "data": {
      "text/plain": [
       "100"
      ]
     },
     "execution_count": 23,
     "metadata": {},
     "output_type": "execute_result"
    }
   ],
   "source": [
    "square1(1)"
   ]
  },
  {
   "cell_type": "markdown",
   "id": "94ffac91",
   "metadata": {},
   "source": [
    "When we refrance a name, python first look for \n",
    "\n",
    "1. local scope\n",
    "2. then global. \n",
    "3. if the name is in neither. it will look for builtin function (print, sum, mean)\n",
    "\n",
    "### What if we want to access the global name within the funtion\n",
    "\n",
    "This is where, the keyword ```global``` comes in handy. \n",
    "\n",
    "\n",
    "#### Example\n",
    "\n"
   ]
  },
  {
   "cell_type": "code",
   "execution_count": 24,
   "id": "151b7d38",
   "metadata": {},
   "outputs": [],
   "source": [
    "new_val = 10\n",
    "\n",
    "def square(words):\n",
    "    \n",
    "    global  new_val\n",
    "    \n",
    "    new_val = new_val ** 2\n",
    "    \n",
    "    return new_val\n"
   ]
  },
  {
   "cell_type": "code",
   "execution_count": 25,
   "id": "8a84fe83",
   "metadata": {},
   "outputs": [
    {
     "data": {
      "text/plain": [
       "100"
      ]
     },
     "execution_count": 25,
     "metadata": {},
     "output_type": "execute_result"
    }
   ],
   "source": [
    "square(\"  \")"
   ]
  },
  {
   "cell_type": "code",
   "execution_count": 32,
   "id": "4964cac0",
   "metadata": {},
   "outputs": [
    {
     "data": {
      "text/plain": [
       "100"
      ]
     },
     "execution_count": 32,
     "metadata": {},
     "output_type": "execute_result"
    }
   ],
   "source": [
    "new_val"
   ]
  },
  {
   "cell_type": "code",
   "execution_count": 33,
   "id": "2cfd82f5",
   "metadata": {},
   "outputs": [
    {
     "data": {
      "text/plain": [
       "100"
      ]
     },
     "execution_count": 33,
     "metadata": {},
     "output_type": "execute_result"
    }
   ],
   "source": [
    "new_val"
   ]
  },
  {
   "cell_type": "markdown",
   "id": "280f1e3c",
   "metadata": {},
   "source": [
    "# Pop quiz on understanding scope\n",
    "In this exercise, you will practice what you've learned about scope in functions. The variable num has been predefined as 5, alongside the following function definitions:"
   ]
  },
  {
   "cell_type": "code",
   "execution_count": 35,
   "id": "860f94cf",
   "metadata": {},
   "outputs": [],
   "source": [
    "num = 5"
   ]
  },
  {
   "cell_type": "code",
   "execution_count": 38,
   "id": "d7fbfe92",
   "metadata": {},
   "outputs": [],
   "source": [
    "def func1():\n",
    "    num = 3\n",
    "    print(num)\n",
    "\n",
    "def func2():\n",
    "    global num\n",
    "    double_num = num * 2\n",
    "    num = 6\n",
    "    print(double_num)"
   ]
  },
  {
   "cell_type": "markdown",
   "id": "6e0782b8",
   "metadata": {},
   "source": [
    "What are the values printed out when you call func1() and func2()?\n",
    "\n",
    "What is the value of num in the global scope after calling func1() and func2()?"
   ]
  },
  {
   "cell_type": "code",
   "execution_count": 37,
   "id": "9af8ede6",
   "metadata": {},
   "outputs": [
    {
     "name": "stdout",
     "output_type": "stream",
     "text": [
      "3\n"
     ]
    }
   ],
   "source": [
    "func1()"
   ]
  },
  {
   "cell_type": "code",
   "execution_count": 39,
   "id": "3dcbdba4",
   "metadata": {},
   "outputs": [
    {
     "name": "stdout",
     "output_type": "stream",
     "text": [
      "10\n"
     ]
    }
   ],
   "source": [
    "func2()"
   ]
  },
  {
   "cell_type": "code",
   "execution_count": 40,
   "id": "00b125e9",
   "metadata": {},
   "outputs": [
    {
     "data": {
      "text/plain": [
       "6"
      ]
     },
     "execution_count": 40,
     "metadata": {},
     "output_type": "execute_result"
    }
   ],
   "source": [
    "num"
   ]
  },
  {
   "cell_type": "markdown",
   "id": "6c81bd4c",
   "metadata": {},
   "source": [
    "# The keyword global\n",
    "Let's work more on your mastery of scope. In this exercise, you will use the keyword global within a function to alter the value of a variable defined in the global scope."
   ]
  },
  {
   "cell_type": "code",
   "execution_count": 26,
   "id": "fe3f5b30",
   "metadata": {},
   "outputs": [
    {
     "name": "stdout",
     "output_type": "stream",
     "text": [
      "teen titans\n"
     ]
    }
   ],
   "source": [
    "# creat a string variable\n",
    "\n",
    "team = \"teen titans\"\n",
    "\n",
    "# define the function\n",
    "\n",
    "def change_team():\n",
    "    \n",
    "    \"\"\"Change the value of the global variable team.\"\"\"\n",
    "    \n",
    "    # Use the keyword global to alter the object team in the global scope.\n",
    "    \n",
    "    global team\n",
    "    \n",
    "    # Change the value of team in the global scope to the string \"justice league\". Assign the result to team.\n",
    "    \n",
    "    team = \"justice league\"\n",
    "    \n",
    "    \n",
    "print(team)"
   ]
  },
  {
   "cell_type": "code",
   "execution_count": 27,
   "id": "f02f151e",
   "metadata": {},
   "outputs": [],
   "source": [
    "change_team()"
   ]
  },
  {
   "cell_type": "code",
   "execution_count": 28,
   "id": "22c5fc9c",
   "metadata": {},
   "outputs": [
    {
     "name": "stdout",
     "output_type": "stream",
     "text": [
      "justice league\n"
     ]
    }
   ],
   "source": [
    "print(team)"
   ]
  },
  {
   "cell_type": "code",
   "execution_count": 29,
   "id": "62bda655",
   "metadata": {},
   "outputs": [
    {
     "name": "stdout",
     "output_type": "stream",
     "text": [
      "justice league\n"
     ]
    }
   ],
   "source": [
    "print(team)"
   ]
  },
  {
   "cell_type": "code",
   "execution_count": 30,
   "id": "8793eb37",
   "metadata": {},
   "outputs": [
    {
     "name": "stdout",
     "output_type": "stream",
     "text": [
      "justice league\n"
     ]
    }
   ],
   "source": [
    "print(team)"
   ]
  },
  {
   "cell_type": "code",
   "execution_count": 31,
   "id": "a7100416",
   "metadata": {},
   "outputs": [
    {
     "name": "stdout",
     "output_type": "stream",
     "text": [
      "justice league\n"
     ]
    }
   ],
   "source": [
    "print(team)"
   ]
  },
  {
   "cell_type": "code",
   "execution_count": 32,
   "id": "1a589445",
   "metadata": {},
   "outputs": [
    {
     "name": "stdout",
     "output_type": "stream",
     "text": [
      "justice league\n"
     ]
    }
   ],
   "source": [
    "print(team)"
   ]
  },
  {
   "cell_type": "markdown",
   "id": "4fbc543c",
   "metadata": {},
   "source": [
    "# Python's built-in scope\n",
    "Here you're going to check out Python's built-in scope, which is really just a built-in module called builtins. However, to query builtins, you'll need to import builtins 'because the name builtins is not itself built in…No, I’m serious!' (Learning Python, 5th edition, Mark Lutz). After executing import builtins in the IPython Shell, execute dir(builtins) to print a list of all the names in the module builtins. Have a look and you'll see a bunch of names that you'll recognize! Which of the following names is NOT in the module builtins?"
   ]
  },
  {
   "cell_type": "code",
   "execution_count": 33,
   "id": "194e86cb",
   "metadata": {},
   "outputs": [],
   "source": [
    "import builtins"
   ]
  },
  {
   "cell_type": "code",
   "execution_count": 35,
   "id": "79a3bca0",
   "metadata": {},
   "outputs": [
    {
     "data": {
      "text/plain": [
       "['ArithmeticError',\n",
       " 'AssertionError',\n",
       " 'AttributeError',\n",
       " 'BaseException',\n",
       " 'BlockingIOError',\n",
       " 'BrokenPipeError',\n",
       " 'BufferError',\n",
       " 'BytesWarning',\n",
       " 'ChildProcessError',\n",
       " 'ConnectionAbortedError',\n",
       " 'ConnectionError',\n",
       " 'ConnectionRefusedError',\n",
       " 'ConnectionResetError',\n",
       " 'DeprecationWarning',\n",
       " 'EOFError',\n",
       " 'Ellipsis',\n",
       " 'EnvironmentError',\n",
       " 'Exception',\n",
       " 'False',\n",
       " 'FileExistsError',\n",
       " 'FileNotFoundError',\n",
       " 'FloatingPointError',\n",
       " 'FutureWarning',\n",
       " 'GeneratorExit',\n",
       " 'IOError',\n",
       " 'ImportError',\n",
       " 'ImportWarning',\n",
       " 'IndentationError',\n",
       " 'IndexError',\n",
       " 'InterruptedError',\n",
       " 'IsADirectoryError',\n",
       " 'KeyError',\n",
       " 'KeyboardInterrupt',\n",
       " 'LookupError',\n",
       " 'MemoryError',\n",
       " 'ModuleNotFoundError',\n",
       " 'NameError',\n",
       " 'None',\n",
       " 'NotADirectoryError',\n",
       " 'NotImplemented',\n",
       " 'NotImplementedError',\n",
       " 'OSError',\n",
       " 'OverflowError',\n",
       " 'PendingDeprecationWarning',\n",
       " 'PermissionError',\n",
       " 'ProcessLookupError',\n",
       " 'RecursionError',\n",
       " 'ReferenceError',\n",
       " 'ResourceWarning',\n",
       " 'RuntimeError',\n",
       " 'RuntimeWarning',\n",
       " 'StopAsyncIteration',\n",
       " 'StopIteration',\n",
       " 'SyntaxError',\n",
       " 'SyntaxWarning',\n",
       " 'SystemError',\n",
       " 'SystemExit',\n",
       " 'TabError',\n",
       " 'TimeoutError',\n",
       " 'True',\n",
       " 'TypeError',\n",
       " 'UnboundLocalError',\n",
       " 'UnicodeDecodeError',\n",
       " 'UnicodeEncodeError',\n",
       " 'UnicodeError',\n",
       " 'UnicodeTranslateError',\n",
       " 'UnicodeWarning',\n",
       " 'UserWarning',\n",
       " 'ValueError',\n",
       " 'Warning',\n",
       " 'WindowsError',\n",
       " 'ZeroDivisionError',\n",
       " '__IPYTHON__',\n",
       " '__build_class__',\n",
       " '__debug__',\n",
       " '__doc__',\n",
       " '__import__',\n",
       " '__loader__',\n",
       " '__name__',\n",
       " '__package__',\n",
       " '__spec__',\n",
       " 'abs',\n",
       " 'all',\n",
       " 'any',\n",
       " 'ascii',\n",
       " 'bin',\n",
       " 'bool',\n",
       " 'breakpoint',\n",
       " 'bytearray',\n",
       " 'bytes',\n",
       " 'callable',\n",
       " 'chr',\n",
       " 'classmethod',\n",
       " 'compile',\n",
       " 'complex',\n",
       " 'copyright',\n",
       " 'credits',\n",
       " 'delattr',\n",
       " 'dict',\n",
       " 'dir',\n",
       " 'display',\n",
       " 'divmod',\n",
       " 'enumerate',\n",
       " 'eval',\n",
       " 'exec',\n",
       " 'execfile',\n",
       " 'filter',\n",
       " 'float',\n",
       " 'format',\n",
       " 'frozenset',\n",
       " 'get_ipython',\n",
       " 'getattr',\n",
       " 'globals',\n",
       " 'hasattr',\n",
       " 'hash',\n",
       " 'help',\n",
       " 'hex',\n",
       " 'id',\n",
       " 'input',\n",
       " 'int',\n",
       " 'isinstance',\n",
       " 'issubclass',\n",
       " 'iter',\n",
       " 'len',\n",
       " 'license',\n",
       " 'list',\n",
       " 'locals',\n",
       " 'map',\n",
       " 'max',\n",
       " 'memoryview',\n",
       " 'min',\n",
       " 'next',\n",
       " 'object',\n",
       " 'oct',\n",
       " 'open',\n",
       " 'ord',\n",
       " 'pow',\n",
       " 'print',\n",
       " 'property',\n",
       " 'range',\n",
       " 'repr',\n",
       " 'reversed',\n",
       " 'round',\n",
       " 'runfile',\n",
       " 'set',\n",
       " 'setattr',\n",
       " 'slice',\n",
       " 'sorted',\n",
       " 'staticmethod',\n",
       " 'str',\n",
       " 'sum',\n",
       " 'super',\n",
       " 'tuple',\n",
       " 'type',\n",
       " 'vars',\n",
       " 'zip']"
      ]
     },
     "execution_count": 35,
     "metadata": {},
     "output_type": "execute_result"
    }
   ],
   "source": [
    "dir(builtins)"
   ]
  },
  {
   "cell_type": "markdown",
   "id": "f104f6a8",
   "metadata": {},
   "source": [
    "# Nested Function (1)\n",
    "\n",
    "Function inside another function. \n",
    "\n",
    "``` def outer():```\n",
    "\n",
    "   ``` \"\"\" docstrings \"\"\"```\n",
    "    \n",
    "   ``` x = ...```\n",
    "    \n",
    "   ```def inner():```\n",
    "    \n",
    "  ```  \"\"\" docstrings \"\"\"```\n",
    "    \n",
    "   ``` y = x** 2 ```\n",
    "    \n",
    "   ``` return ...```\n",
    "    \n",
    "what if we have a function inner, inside another function outer. and we refrence a name x in the inner function? \n",
    "\n",
    "The answer is intutive, \n",
    "    \n",
    "### Scop\n",
    "\n",
    "Python searches local scop of the inner function, \n",
    "\n",
    "then surches the scope of the outer function which is called ```enclosing function```. \n",
    "\n",
    "if python cant find the x in the enclosing function\n",
    "\n",
    "it only then searches the global scope and then the builtin scope. \n",
    "\n",
    "### But why we even nesting functions??\n",
    "\n",
    "## Nested function(2)\n",
    "\n",
    "\n",
    "There are numbers of reasons to do so.\n",
    "\n",
    "Lets say we want to use a process a number of time with in a function. \n",
    "\n",
    "\n",
    "#### Example\n",
    "\n",
    "we want a function that takes 3 numbers as parameters and performs the same function on each of them.\n",
    "\n",
    "    \n",
    "    \n",
    "    \n",
    "    "
   ]
  },
  {
   "cell_type": "code",
   "execution_count": 37,
   "id": "0ea2bfdb",
   "metadata": {},
   "outputs": [],
   "source": [
    "def mod2plu5(x1,x2,x3):\n",
    "    \n",
    "    \n",
    "    \"\"\"Returns a reminder plus of 3values\"\"\"\n",
    "    \n",
    "    \n",
    "    new_x1 = x1 % 2 + 5\n",
    "    new_x2 = x2 % 2 +5\n",
    "    new_x3 = x3 % 2 +5\n",
    "    \n",
    "    \n",
    "    return (new_x1,new_x2,new_x3)"
   ]
  },
  {
   "cell_type": "code",
   "execution_count": 38,
   "id": "eae79091",
   "metadata": {},
   "outputs": [
    {
     "data": {
      "text/plain": [
       "(5, 6, 5)"
      ]
     },
     "execution_count": 38,
     "metadata": {},
     "output_type": "execute_result"
    }
   ],
   "source": [
    "mod2plu5(2,3,4)"
   ]
  },
  {
   "cell_type": "markdown",
   "id": "e68a4709",
   "metadata": {},
   "source": [
    "Writing same operaion to perform the computation is not scalable if the data is vast. \n",
    "\n",
    "what we can do instead is, \n",
    "\n",
    "define an inner function. with inner function we write the computation once and call it where necesssary. \n",
    "\n"
   ]
  },
  {
   "cell_type": "code",
   "execution_count": 39,
   "id": "387c8b6f",
   "metadata": {},
   "outputs": [
    {
     "name": "stdout",
     "output_type": "stream",
     "text": [
      "(5, 6, 5)\n"
     ]
    }
   ],
   "source": [
    "def mod2plu5(x1,x2,x3):\n",
    "    \n",
    "    \n",
    "    \"\"\"Returns a reminder plus of 3values\"\"\"\n",
    "    \n",
    "    def inner(x):\n",
    "        return x%2+5\n",
    "    \n",
    "    return (inner(x1), inner(x2), inner(x3))\n",
    "\n",
    "\n",
    "print(mod2plu5(2,3,4))\n"
   ]
  },
  {
   "cell_type": "code",
   "execution_count": 40,
   "id": "995d5866",
   "metadata": {},
   "outputs": [],
   "source": [
    "def mod3plus3(a1,b1,c1):\n",
    "    \n",
    "    def inner(x):\n",
    "        \n",
    "        return x%3+3\n",
    "    \n",
    "    return (inner(a1), inner(b1), inner(c1))"
   ]
  },
  {
   "cell_type": "code",
   "execution_count": 41,
   "id": "fdbe7c55",
   "metadata": {},
   "outputs": [
    {
     "name": "stdout",
     "output_type": "stream",
     "text": [
      "(5, 3, 4)\n"
     ]
    }
   ],
   "source": [
    "print(mod3plus3(2,3,4))"
   ]
  },
  {
   "cell_type": "markdown",
   "id": "70e0c88c",
   "metadata": {},
   "source": [
    "# Returning Functions"
   ]
  },
  {
   "cell_type": "code",
   "execution_count": 44,
   "id": "08d03903",
   "metadata": {},
   "outputs": [],
   "source": [
    "def raise_val(n):\n",
    "    \n",
    "    def inner(x):\n",
    "        \n",
    "        raised = x**n\n",
    "        \n",
    "        return raised\n",
    "    \n",
    "    return inner"
   ]
  },
  {
   "cell_type": "code",
   "execution_count": 49,
   "id": "05063444",
   "metadata": {},
   "outputs": [
    {
     "name": "stdout",
     "output_type": "stream",
     "text": [
      "36\n"
     ]
    }
   ],
   "source": [
    "square = raise_val(2)\n",
    "print(square(6))"
   ]
  },
  {
   "cell_type": "code",
   "execution_count": 50,
   "id": "bbc744d9",
   "metadata": {},
   "outputs": [],
   "source": [
    "cube = raise_val(3)"
   ]
  },
  {
   "cell_type": "code",
   "execution_count": 51,
   "id": "9e2d03b7",
   "metadata": {},
   "outputs": [
    {
     "name": "stdout",
     "output_type": "stream",
     "text": [
      "27\n"
     ]
    }
   ],
   "source": [
    "print(cube(3))"
   ]
  },
  {
   "cell_type": "code",
   "execution_count": 53,
   "id": "6aa783c5",
   "metadata": {},
   "outputs": [
    {
     "name": "stdout",
     "output_type": "stream",
     "text": [
      "16\n"
     ]
    }
   ],
   "source": [
    "power4 = raise_val(4)\n",
    "# 2*2*2*2\n",
    "print(power4(2))"
   ]
  },
  {
   "cell_type": "markdown",
   "id": "bd9bde9f",
   "metadata": {},
   "source": [
    "# USE nonlocal\n",
    "\n",
    "Just like ``` keyword global``` we can also use ```nonlocal``` to create and change names using enclosing function. \n",
    "\n",
    "## example"
   ]
  },
  {
   "cell_type": "code",
   "execution_count": 59,
   "id": "a26cb264",
   "metadata": {},
   "outputs": [],
   "source": [
    "def outer():\n",
    "    \n",
    "    n = 1\n",
    "    def inner():\n",
    "        \n",
    "        nonlocal n\n",
    "        \n",
    "        n = 2\n",
    "        \n",
    "        print(n)\n",
    "        \n",
    "    inner()\n",
    "    print(n)"
   ]
  },
  {
   "cell_type": "code",
   "execution_count": 60,
   "id": "ae05eec9",
   "metadata": {},
   "outputs": [
    {
     "name": "stdout",
     "output_type": "stream",
     "text": [
      "2\n",
      "2\n"
     ]
    }
   ],
   "source": [
    "outer()"
   ]
  },
  {
   "cell_type": "code",
   "execution_count": 61,
   "id": "a6403aad",
   "metadata": {},
   "outputs": [
    {
     "ename": "NameError",
     "evalue": "name 'inner' is not defined",
     "output_type": "error",
     "traceback": [
      "\u001b[1;31m---------------------------------------------------------------------------\u001b[0m",
      "\u001b[1;31mNameError\u001b[0m                                 Traceback (most recent call last)",
      "\u001b[1;32m~\\AppData\\Local\\Temp/ipykernel_7428/2697967970.py\u001b[0m in \u001b[0;36m<module>\u001b[1;34m\u001b[0m\n\u001b[1;32m----> 1\u001b[1;33m \u001b[0minner\u001b[0m\u001b[1;33m(\u001b[0m\u001b[1;33m)\u001b[0m\u001b[1;33m\u001b[0m\u001b[1;33m\u001b[0m\u001b[0m\n\u001b[0m",
      "\u001b[1;31mNameError\u001b[0m: name 'inner' is not defined"
     ]
    }
   ],
   "source": [
    "inner()"
   ]
  },
  {
   "attachments": {
    "image.png": {
     "image/png": "[encoded data removed]"
    }
   },
   "cell_type": "markdown",
   "id": "0976f0ad",
   "metadata": {},
   "source": [
    "![image.png](attachment:image.png)`"
   ]
  },
  {
   "cell_type": "markdown",
   "id": "5e757b65",
   "metadata": {},
   "source": [
    "# Nested Functions I\n",
    "You've learned in the last video about nesting functions within functions. One reason why you'd like to do this is to avoid writing out the same computations within functions repeatedly. There's nothing new about defining nested functions: you simply define it as you would a regular function with def and embed it inside another function!\n",
    "\n",
    "In this exercise, inside a function three_shouts(), you will define a nested function inner() that concatenates a string object with !!!. three_shouts() then returns a tuple of three elements, each a string concatenated with !!! using inner(). Go for it!"
   ]
  },
  {
   "cell_type": "code",
   "execution_count": 63,
   "id": "caa99a36",
   "metadata": {},
   "outputs": [],
   "source": [
    "def three_shouts(word1,word2,word3):\n",
    "    \n",
    "    \"\"\"Returns a tuple of strings\n",
    "    concatenated with '!!!'.\"\"\"\n",
    "    \n",
    "    def inner(word):\n",
    "        \n",
    "        return  word + \"!!!\"\n",
    "    \n",
    "    return (inner(word1), inner(word2), inner(word3))\n",
    "      "
   ]
  },
  {
   "cell_type": "code",
   "execution_count": 65,
   "id": "6828040e",
   "metadata": {},
   "outputs": [
    {
     "name": "stdout",
     "output_type": "stream",
     "text": [
      "('a!!!', 'b!!!', 'c!!!')\n"
     ]
    }
   ],
   "source": [
    "print(three_shouts(\"a\",\"b\",\"c\"))"
   ]
  },
  {
   "cell_type": "markdown",
   "id": "8f4a8b2b",
   "metadata": {},
   "source": [
    "# Nested Functions II\n",
    "Great job, you've just nested a function within another function. One other pretty cool reason for nesting functions is the idea of a closure. This means that the nested or inner function remembers the state of its enclosing scope when called. Thus, anything defined locally in the enclosing scope is available to the inner function even when the outer function has finished execution.\n",
    "\n",
    "Let's move forward then! In this exercise, you will complete the definition of the inner function inner_echo() and then call echo() a couple of times, each with a different argument. Complete the exercise and see what the output will be!"
   ]
  },
  {
   "cell_type": "code",
   "execution_count": 66,
   "id": "cb4450c6",
   "metadata": {},
   "outputs": [],
   "source": [
    "def echo(n):\n",
    "    \n",
    "    \n",
    "    def inner(x):\n",
    "        word_mult = x * n\n",
    "        \n",
    "        return word_mult\n",
    "    return inner\n"
   ]
  },
  {
   "cell_type": "code",
   "execution_count": 75,
   "id": "be9f5f82",
   "metadata": {},
   "outputs": [],
   "source": [
    "twice = echo(2)"
   ]
  },
  {
   "cell_type": "code",
   "execution_count": 76,
   "id": "d55a18c4",
   "metadata": {},
   "outputs": [
    {
     "name": "stdout",
     "output_type": "stream",
     "text": [
      "hello hello \n"
     ]
    }
   ],
   "source": [
    "print(twice(\"hello \"))"
   ]
  },
  {
   "cell_type": "code",
   "execution_count": 77,
   "id": "78ca2b31",
   "metadata": {},
   "outputs": [
    {
     "name": "stdout",
     "output_type": "stream",
     "text": [
      "hello hello hello \n"
     ]
    }
   ],
   "source": [
    "thrice = echo(3)\n",
    "\n",
    "print(thrice(\"hello \"))"
   ]
  },
  {
   "cell_type": "code",
   "execution_count": 79,
   "id": "12a84519",
   "metadata": {},
   "outputs": [
    {
     "name": "stdout",
     "output_type": "stream",
     "text": [
      "hello hello  hello hello hello \n"
     ]
    }
   ],
   "source": [
    "print(twice('hello '), thrice('hello '))"
   ]
  },
  {
   "cell_type": "code",
   "execution_count": 80,
   "id": "d18845f1",
   "metadata": {},
   "outputs": [],
   "source": [
    "def echo(n):\n",
    "    \n",
    "    def inner_echo(x):\n",
    "        \n",
    "        mult = x * n\n",
    "        \n",
    "        return mult\n",
    "    \n",
    "    return inner_echo"
   ]
  },
  {
   "cell_type": "code",
   "execution_count": 81,
   "id": "4c623f2f",
   "metadata": {},
   "outputs": [
    {
     "name": "stdout",
     "output_type": "stream",
     "text": [
      "iqra iqra \n"
     ]
    }
   ],
   "source": [
    "twice = echo(2)\n",
    "\n",
    "print(twice(\"iqra \"))"
   ]
  },
  {
   "cell_type": "code",
   "execution_count": 82,
   "id": "e9cb95b0",
   "metadata": {},
   "outputs": [
    {
     "name": "stdout",
     "output_type": "stream",
     "text": [
      " qasim  qasim  qasim \n"
     ]
    }
   ],
   "source": [
    "thrice = echo(3)\n",
    "\n",
    "print(thrice(\" qasim \"))"
   ]
  },
  {
   "cell_type": "markdown",
   "id": "59cfc4c2",
   "metadata": {},
   "source": [
    "# The keyword nonlocal and nested functions\n",
    "Let's once again work further on your mastery of scope! In this exercise, you will use the keyword nonlocal within a nested function to alter the value of a variable defined in the enclosing scope."
   ]
  },
  {
   "cell_type": "code",
   "execution_count": 6,
   "id": "98eaf6de",
   "metadata": {},
   "outputs": [],
   "source": [
    "def echo_shout(word):\n",
    "    \n",
    "    echo_word = word + word\n",
    "    \n",
    "    print(echo_word)\n",
    "    \n",
    "    def inner_shout():\n",
    "        \n",
    "        nonlocal echo_word\n",
    "        \n",
    "        \n",
    "    echo_word = echo_word + \"!!!\"\n",
    "\n",
    "    print(echo_word)"
   ]
  },
  {
   "cell_type": "code",
   "execution_count": 7,
   "id": "cd1468ca",
   "metadata": {},
   "outputs": [
    {
     "name": "stdout",
     "output_type": "stream",
     "text": [
      "HelloHello\n",
      "HelloHello!!!\n",
      "None\n"
     ]
    }
   ],
   "source": [
    "print(echo_shout(\"Hello\"))"
   ]
  },
  {
   "cell_type": "code",
   "execution_count": 8,
   "id": "015f0460",
   "metadata": {},
   "outputs": [],
   "source": [
    "def echos_shout(word):\n",
    "    \n",
    "    echos_word = \"hello\" + word\n",
    "    \n",
    "    print(echos_word)\n",
    "    \n",
    "    \n",
    "    def inners_echo():\n",
    "        \n",
    "        nonlocal echos_word\n",
    "        \n",
    "    echos_word = echos_word + \"!!!\"\n",
    "        \n",
    "    print(echos_word)"
   ]
  },
  {
   "cell_type": "code",
   "execution_count": 10,
   "id": "b0667a55",
   "metadata": {},
   "outputs": [
    {
     "name": "stdout",
     "output_type": "stream",
     "text": [
      "hello Iqra\n",
      "hello Iqra!!!\n",
      "None\n"
     ]
    }
   ],
   "source": [
    "print(echos_shout(\" Iqra\"))"
   ]
  },
  {
   "cell_type": "markdown",
   "id": "5afefa73",
   "metadata": {},
   "source": [
    "# Default and flexible arguments\n",
    "\n",
    "\n",
    "Lets say, you are writing a function that takes multiple parameters and that there is also a common value for some of these parameters. \n",
    "\n",
    "\n",
    "in this case you would like to call a function without explicitly specifing every function. \n",
    "\n",
    "In other words, you would like some arguments to have default arguments that are used when it is not specified otherwise. \n",
    "\n",
    "\n",
    "Now we will learn \n",
    "\n",
    "1. how to write function with default arguments. \n",
    "\n",
    "2. flexible arguments, which allow you to pass any number of arguments in the function. \n",
    "\n",
    "# Default Argument\n",
    "\n",
    "\n",
    "## Define a function with a default argument\n",
    "\n",
    "to define a function with a defualt argument value, in the function header follow the parameter of interest with an equal sign and a default argument value. \n",
    "\n",
    "#### Example:"
   ]
  },
  {
   "cell_type": "code",
   "execution_count": 11,
   "id": "338b391e",
   "metadata": {},
   "outputs": [],
   "source": [
    "def power(word, pow = 1):\n",
    "    \n",
    "    words = word ** pow\n",
    "    \n",
    "    return words"
   ]
  },
  {
   "cell_type": "code",
   "execution_count": 15,
   "id": "bb3742eb",
   "metadata": {},
   "outputs": [
    {
     "data": {
      "text/plain": [
       "3"
      ]
     },
     "execution_count": 15,
     "metadata": {},
     "output_type": "execute_result"
    }
   ],
   "source": [
    "power(3)"
   ]
  },
  {
   "cell_type": "code",
   "execution_count": 16,
   "id": "5e2fde3c",
   "metadata": {},
   "outputs": [
    {
     "data": {
      "text/plain": [
       "27"
      ]
     },
     "execution_count": 16,
     "metadata": {},
     "output_type": "execute_result"
    }
   ],
   "source": [
    "power(3,3)"
   ]
  },
  {
   "cell_type": "code",
   "execution_count": 17,
   "id": "cb824042",
   "metadata": {},
   "outputs": [
    {
     "data": {
      "text/plain": [
       "1"
      ]
     },
     "execution_count": 17,
     "metadata": {},
     "output_type": "execute_result"
    }
   ],
   "source": [
    "power(1)"
   ]
  },
  {
   "cell_type": "code",
   "execution_count": 18,
   "id": "2506dbc2",
   "metadata": {},
   "outputs": [
    {
     "data": {
      "text/plain": [
       "8"
      ]
     },
     "execution_count": 18,
     "metadata": {},
     "output_type": "execute_result"
    }
   ],
   "source": [
    "power(2,3)"
   ]
  },
  {
   "cell_type": "code",
   "execution_count": 19,
   "id": "a274c629",
   "metadata": {},
   "outputs": [
    {
     "data": {
      "text/plain": [
       "9"
      ]
     },
     "execution_count": 19,
     "metadata": {},
     "output_type": "execute_result"
    }
   ],
   "source": [
    "power(3,2)"
   ]
  },
  {
   "cell_type": "markdown",
   "id": "78a48559",
   "metadata": {},
   "source": [
    "# Flexible Arguments *arg (1)\n",
    "\n",
    "lets say that you want to write a function but aren't sure how many arguments a user will pass. \n",
    "\n",
    "## Example\n",
    "\n",
    "a function takes, int and floats and add them all up. \n",
    "\n"
   ]
  },
  {
   "cell_type": "code",
   "execution_count": 40,
   "id": "dc1789ae",
   "metadata": {},
   "outputs": [],
   "source": [
    "def add_all(*args):\n",
    "    \n",
    "    \"\"\"this function sums all the values it get\"\"\"\n",
    "    \n",
    "    sum_all = 0\n",
    "    \n",
    "    # apply for loop to sum all the parameter\n",
    "    \n",
    "    for num in args:\n",
    "        sum_all += num\n",
    "        \n",
    "        \n",
    "    return sum_all\n",
    "        "
   ]
  },
  {
   "cell_type": "code",
   "execution_count": 41,
   "id": "511abd63",
   "metadata": {},
   "outputs": [
    {
     "data": {
      "text/plain": [
       "95.2"
      ]
     },
     "execution_count": 41,
     "metadata": {},
     "output_type": "execute_result"
    }
   ],
   "source": [
    "add_all(2,45,3.2,45)"
   ]
  },
  {
   "cell_type": "code",
   "execution_count": 52,
   "id": "bce9a512",
   "metadata": {},
   "outputs": [],
   "source": [
    "def add_all(*args):\n",
    "    \n",
    "    \"\"\"this function multiplies all values it gets\"\"\"\n",
    "    add = 0\n",
    "    \n",
    "    for nums in args:\n",
    "        add * nums + 2\n",
    "        \n",
    "       \n",
    "        \n",
    "    return add\n",
    "    "
   ]
  },
  {
   "cell_type": "code",
   "execution_count": 53,
   "id": "e40d6812",
   "metadata": {},
   "outputs": [
    {
     "data": {
      "text/plain": [
       "0"
      ]
     },
     "execution_count": 53,
     "metadata": {},
     "output_type": "execute_result"
    }
   ],
   "source": [
    "add_all(2,3)"
   ]
  },
  {
   "cell_type": "code",
   "execution_count": 62,
   "id": "3abe2cce",
   "metadata": {},
   "outputs": [],
   "source": [
    "def concat(*args):\n",
    "    \n",
    "    \"\"\"cocatinate all\"\"\"\n",
    "    \n",
    "    con = 0\n",
    "    \n",
    "    for data in args:\n",
    "        con += data\n",
    "        \n",
    "        \n",
    "    return con"
   ]
  },
  {
   "cell_type": "code",
   "execution_count": 64,
   "id": "e74aeb91",
   "metadata": {},
   "outputs": [
    {
     "data": {
      "text/plain": [
       "5"
      ]
     },
     "execution_count": 64,
     "metadata": {},
     "output_type": "execute_result"
    }
   ],
   "source": [
    "concat(1,4)"
   ]
  },
  {
   "cell_type": "markdown",
   "id": "916458b4",
   "metadata": {},
   "source": [
    "## **kwargs\n",
    "\n",
    "to pass an arbitory number or keywords. \n",
    "\n",
    "arguments proceeded by identifires. \n",
    "\n",
    "### Keyword **kwargs \n",
    "\n"
   ]
  },
  {
   "cell_type": "markdown",
   "id": "f5b306d8",
   "metadata": {},
   "source": [
    "## Functions with one default argument\n",
    "In the previous chapter, you've learned to define functions with more than one parameter and then calling those functions by passing the required number of arguments. In the last video, Hugo built on this idea by showing you how to define functions with default arguments. You will practice that skill in this exercise by writing a function that uses a default argument and then calling the function a couple of times."
   ]
  },
  {
   "cell_type": "code",
   "execution_count": 67,
   "id": "dcc34533",
   "metadata": {},
   "outputs": [],
   "source": [
    "# define function shout_echo()\n",
    "\n",
    "def shouting(word1, echo=1):\n",
    "    \n",
    "    \n",
    "    \"\"\"COncatinate !!! with string\"\"\"\n",
    "    \n",
    "    word_shout = word1 * echo\n",
    "    \n",
    "    concatination = word_shout + \"!!!\"\n",
    "    \n",
    "    \n",
    "    return concatination "
   ]
  },
  {
   "cell_type": "code",
   "execution_count": 68,
   "id": "11666fee",
   "metadata": {},
   "outputs": [
    {
     "name": "stdout",
     "output_type": "stream",
     "text": [
      "Hello!!!\n"
     ]
    }
   ],
   "source": [
    "print(shouting(\"Hello\"))"
   ]
  },
  {
   "cell_type": "code",
   "execution_count": 69,
   "id": "ca9c2a69",
   "metadata": {},
   "outputs": [
    {
     "name": "stdout",
     "output_type": "stream",
     "text": [
      " Hello Hello Hello Hello Hello!!!\n"
     ]
    }
   ],
   "source": [
    "print(shouting(\" Hello\", 5))"
   ]
  },
  {
   "cell_type": "code",
   "execution_count": null,
   "id": "cd9bf04f",
   "metadata": {},
   "outputs": [],
   "source": [
    " \n",
    "    \n",
    "    \n",
    "    "
   ]
  },
  {
   "cell_type": "code",
   "execution_count": null,
   "id": "fadfb31a",
   "metadata": {},
   "outputs": [],
   "source": []
  },
  {
   "cell_type": "code",
   "execution_count": null,
   "id": "80366648",
   "metadata": {},
   "outputs": [],
   "source": []
  },
  {
   "cell_type": "code",
   "execution_count": null,
   "id": "dcb6e117",
   "metadata": {},
   "outputs": [],
   "source": []
  },
  {
   "cell_type": "code",
   "execution_count": 1,
   "id": "8b7ee0fa",
   "metadata": {},
   "outputs": [],
   "source": [
    "def shout_echo(word, echo = 1):\n",
    "    \n",
    "    shouting  = word * echo\n",
    "    \n",
    "    shouting1 = shouting + \"!!!\"\n",
    "    \n",
    "    \n",
    "    return shouting1"
   ]
  },
  {
   "cell_type": "code",
   "execution_count": 2,
   "id": "717a407f",
   "metadata": {},
   "outputs": [
    {
     "data": {
      "text/plain": [
       "'Hello Iqra!!!'"
      ]
     },
     "execution_count": 2,
     "metadata": {},
     "output_type": "execute_result"
    }
   ],
   "source": [
    "no_echo = shout_echo(\"Hello Iqra\")\n",
    "no_echo"
   ]
  },
  {
   "cell_type": "code",
   "execution_count": 5,
   "id": "97bdbc95",
   "metadata": {},
   "outputs": [],
   "source": [
    "with_echo = shout_echo(\"Hello Iqra \", 4)"
   ]
  },
  {
   "cell_type": "code",
   "execution_count": 6,
   "id": "3cba2480",
   "metadata": {},
   "outputs": [
    {
     "data": {
      "text/plain": [
       "'Hello Iqra Hello Iqra Hello Iqra Hello Iqra !!!'"
      ]
     },
     "execution_count": 6,
     "metadata": {},
     "output_type": "execute_result"
    }
   ],
   "source": [
    "with_echo"
   ]
  },
  {
   "cell_type": "markdown",
   "id": "9fb0733e",
   "metadata": {},
   "source": [
    "# Functions with multiple default arguments\n",
    "You've now defined a function that uses a default argument - don't stop there just yet! You will now try your hand at defining a function with more than one default argument and then calling this function in various ways.\n",
    "\n",
    "After defining the function, you will call it by supplying values to all the default arguments of the function. Additionally, you will call the function by not passing a value to one of the default arguments - see how that changes the output of your function!`"
   ]
  },
  {
   "cell_type": "code",
   "execution_count": 9,
   "id": "29e0b941",
   "metadata": {},
   "outputs": [],
   "source": [
    "def shout_echos(word1, echo =1, intense = False):\n",
    "    \n",
    "    shouts = word1 * echo\n",
    "    \n",
    "    \n",
    "    if intense is True:\n",
    "        echo_Word = shouts.upper() + \"!!!\"\n",
    "        \n",
    "    else:\n",
    "        \n",
    "        echo_Word + \"!!!\"\n",
    "        \n",
    "    return echo_Word"
   ]
  },
  {
   "cell_type": "code",
   "execution_count": 11,
   "id": "b2f10ca8",
   "metadata": {},
   "outputs": [],
   "source": [
    "with_no_echo = shout_echos(\"Hey \", 1, True)"
   ]
  },
  {
   "cell_type": "code",
   "execution_count": 15,
   "id": "34d75b43",
   "metadata": {},
   "outputs": [
    {
     "data": {
      "text/plain": [
       "'HEY !!!'"
      ]
     },
     "execution_count": 15,
     "metadata": {},
     "output_type": "execute_result"
    }
   ],
   "source": [
    "with_no_echo"
   ]
  },
  {
   "cell_type": "code",
   "execution_count": 13,
   "id": "422d326c",
   "metadata": {},
   "outputs": [],
   "source": [
    "with_multi_echo = shout_echos(\"Hey \", 5, True)"
   ]
  },
  {
   "cell_type": "code",
   "execution_count": 18,
   "id": "a57c5c0d",
   "metadata": {},
   "outputs": [
    {
     "data": {
      "text/plain": [
       "'HEY HEY HEY HEY HEY !!!'"
      ]
     },
     "execution_count": 18,
     "metadata": {},
     "output_type": "execute_result"
    }
   ],
   "source": [
    "\n",
    "with_multi_echo"
   ]
  },
  {
   "attachments": {
    "image.png": {
     "image/png": "[encoded data removed]"
    }
   },
   "cell_type": "markdown",
   "id": "9d1d9a1e",
   "metadata": {},
   "source": [
    "\n",
    "# Functions with variable-length arguments (*args)\n",
    "Flexible arguments enable you to pass a variable number of arguments to a function. In this exercise, you will practice defining a function that accepts a variable number of string arguments.\n",
    "\n",
    "![image.png](attachment:image.png)"
   ]
  },
  {
   "cell_type": "code",
   "execution_count": 57,
   "id": "fa5a4376",
   "metadata": {},
   "outputs": [],
   "source": [
    "def gibberish(*args):\n",
    "    \n",
    "    hodgepodge = \" \"\n",
    "    \n",
    "    for data in args:\n",
    "        hodgepodge += data\n",
    "    return hodgepodge"
   ]
  },
  {
   "cell_type": "code",
   "execution_count": 58,
   "id": "2154a586",
   "metadata": {},
   "outputs": [
    {
     "name": "stdout",
     "output_type": "stream",
     "text": [
      " Iqra\n"
     ]
    }
   ],
   "source": [
    "print(gibberish(\"Iqra\"))"
   ]
  },
  {
   "cell_type": "code",
   "execution_count": 59,
   "id": "c6a6db71",
   "metadata": {},
   "outputs": [
    {
     "name": "stdout",
     "output_type": "stream",
     "text": [
      "\n",
      "BEGIN: REPORT\n",
      "\n",
      "name: luke\n",
      "\n",
      "END REPORT\n",
      "\n",
      "BEGIN: REPORT\n",
      "\n",
      "name: like\n",
      "affiliation: sith lord\n",
      "status: deceased\n",
      "\n",
      "END REPORT\n"
     ]
    }
   ],
   "source": [
    "# Define report_status\n",
    "def report_status(**kwargs):\n",
    "    \"\"\"Print out the status of a movie character.\"\"\"\n",
    "\n",
    "    print(\"\\nBEGIN: REPORT\\n\")\n",
    "\n",
    "    # Iterate over the key-value pairs of kwargs\n",
    "    for key, value in kwargs.items():\n",
    "        # Print out the keys and values, separated by a colon ':'\n",
    "        print(key + \": \" + value)\n",
    "\n",
    "    print(\"\\nEND REPORT\")\n",
    "\n",
    "# First call to report_status()\n",
    "name = report_status(name = \"luke\")\n",
    "\n",
    "# Second call to report_status()\n",
    "report_status(name=\"like\", affiliation=\"sith lord\", status=\"deceased\")"
   ]
  },
  {
   "cell_type": "code",
   "execution_count": 62,
   "id": "adeae960",
   "metadata": {},
   "outputs": [
    {
     "name": "stdout",
     "output_type": "stream",
     "text": [
      "\n",
      "BEGIN: REPORT\n",
      "\n",
      "name: luke\n",
      "affiliation: jedi\n",
      "status: missing\n",
      "\n",
      "END REPORT\n",
      "\n",
      "BEGIN: REPORT\n",
      "\n",
      "name: anakin\n",
      "affiliation: sith lord\n",
      "status: deceased\n",
      "\n",
      "END REPORT\n"
     ]
    }
   ],
   "source": [
    "# Define report_status\n",
    "def report_status(**kwargs):\n",
    "    \"\"\"Print out the status of a movie character.\"\"\"\n",
    "\n",
    "    print(\"\\nBEGIN: REPORT\\n\")\n",
    "\n",
    "    # Iterate over the key-value pairs of kwargs\n",
    "    for key, value in kwargs.items():\n",
    "        # Print out the keys and values, separated by a colon ':'\n",
    "        print(key + \": \" + value)\n",
    "\n",
    "    print(\"\\nEND REPORT\")\n",
    "\n",
    "# First call to report_status()\n",
    "report_status(name = \"luke\" , affiliation=\"jedi\" , status=\"missing\")\n",
    "\n",
    "# Second call to report_status()\n",
    "report_status(name= \"anakin\", affiliation=\"sith lord\", status=\"deceased\")"
   ]
  },
  {
   "cell_type": "code",
   "execution_count": 71,
   "id": "70778ea4",
   "metadata": {},
   "outputs": [],
   "source": [
    "# CREATING A REPORT\n",
    "\n",
    "def report_status(**kwargs):\n",
    "    \n",
    "    \n",
    "    print(\"Start Report\")\n",
    "    \n",
    "    \n",
    "    for key, value in kwargs.items():\n",
    "        \n",
    "        \n",
    "        print(key +\" : \" + value)\n",
    "        \n",
    "    print(\"End Report\")"
   ]
  },
  {
   "cell_type": "code",
   "execution_count": 72,
   "id": "2156b920",
   "metadata": {},
   "outputs": [
    {
     "name": "stdout",
     "output_type": "stream",
     "text": [
      "Start Report\n",
      "name : iqra\n",
      "city : Karachi\n",
      "Status : single\n",
      "End Report\n",
      "\n",
      "Start Report\n",
      "name : Asia\n",
      "city : Karachi\n",
      "Status : Married\n",
      "End Report\n"
     ]
    }
   ],
   "source": [
    "report_status(name = \"iqra\", city = \"Karachi\", Status = \"single\")\n",
    "\n",
    "print(end = \"\\n\")\n",
    "\n",
    "report_status(name = \"Asia\", city = \"Karachi\", Status = \"Married\")"
   ]
  },
  {
   "cell_type": "code",
   "execution_count": 75,
   "id": "84c1010c",
   "metadata": {},
   "outputs": [],
   "source": [
    "def write_your_info(**kwargs):\n",
    "    \n",
    "    print(\"User Information\")\n",
    "    \n",
    "    for key, value in kwargs.items():\n",
    "        \n",
    "        print(key + \" : \"+ value)\n",
    "        \n",
    "    print(\"Thanks for providing your data\")\n"
   ]
  },
  {
   "cell_type": "code",
   "execution_count": 76,
   "id": "0aa91082",
   "metadata": {},
   "outputs": [
    {
     "name": "stdout",
     "output_type": "stream",
     "text": [
      "User Information\n",
      "name : iqra\n",
      "city : Karachi\n",
      "Status : single\n",
      "Thanks for providing your data\n",
      "\n",
      "User Information\n",
      "name : Asia\n",
      "city : Karachi\n",
      "Status : Married\n",
      "Thanks for providing your data\n"
     ]
    }
   ],
   "source": [
    "write_your_info(name = \"iqra\", city = \"Karachi\", Status = \"single\")\n",
    "\n",
    "print(end = \"\\n\")\n",
    "\n",
    "write_your_info(name = \"Asia\", city = \"Karachi\", Status = \"Married\")"
   ]
  },
  {
   "attachments": {
    "image.png": {
     "image/png": "[encoded data removed]"
    }
   },
   "cell_type": "markdown",
   "id": "e83fdb16",
   "metadata": {},
   "source": [
    "# Bringing it all together\n",
    "\n",
    "![image.png](attachment:image.png)\n",
    "\n",
    "### Recap\n",
    "\n",
    "1. default argument\n",
    "2. flexiable argument *args\n",
    "\n",
    "\n",
    "# Bringing it all together (1)\n",
    "\n",
    "Recall the Bringing it all together exercise in the previous chapter where you did a simple Twitter analysis by developing a function that counts how many tweets are in certain languages. The output of your function was a dictionary that had the language as the keys and the counts of tweets in that language as the value.\n",
    "\n",
    "In this exercise, we will generalize the Twitter language analysis that you did in the previous chapter. You will do that by including a default argument that takes a column name.\n",
    "\n",
    "For your convenience, pandas has been imported as pd and the 'tweets.csv' file has been imported into the DataFrame tweets_df. Parts of the code from your previous work are also provided."
   ]
  },
  {
   "cell_type": "code",
   "execution_count": 77,
   "id": "52d1172d",
   "metadata": {},
   "outputs": [],
   "source": [
    "import pandas as pd"
   ]
  },
  {
   "cell_type": "code",
   "execution_count": 80,
   "id": "bcf96762",
   "metadata": {},
   "outputs": [],
   "source": [
    "df = pd.read_csv(\"tweet.csv\")"
   ]
  },
  {
   "cell_type": "code",
   "execution_count": 81,
   "id": "c2120211",
   "metadata": {},
   "outputs": [
    {
     "data": {
      "text/html": [
       "<div>\n",
       "<style scoped>\n",
       "    .dataframe tbody tr th:only-of-type {\n",
       "        vertical-align: middle;\n",
       "    }\n",
       "\n",
       "    .dataframe tbody tr th {\n",
       "        vertical-align: top;\n",
       "    }\n",
       "\n",
       "    .dataframe thead th {\n",
       "        text-align: right;\n",
       "    }\n",
       "</style>\n",
       "<table border=\"1\" class=\"dataframe\">\n",
       "  <thead>\n",
       "    <tr style=\"text-align: right;\">\n",
       "      <th></th>\n",
       "      <th>contributors</th>\n",
       "      <th>coordinates</th>\n",
       "      <th>created_at</th>\n",
       "      <th>entities</th>\n",
       "      <th>extended_entities</th>\n",
       "      <th>favorite_count</th>\n",
       "      <th>favorited</th>\n",
       "      <th>filter_level</th>\n",
       "      <th>geo</th>\n",
       "      <th>id</th>\n",
       "      <th>...</th>\n",
       "      <th>quoted_status_id</th>\n",
       "      <th>quoted_status_id_str</th>\n",
       "      <th>retweet_count</th>\n",
       "      <th>retweeted</th>\n",
       "      <th>retweeted_status</th>\n",
       "      <th>source</th>\n",
       "      <th>text</th>\n",
       "      <th>timestamp_ms</th>\n",
       "      <th>truncated</th>\n",
       "      <th>user</th>\n",
       "    </tr>\n",
       "  </thead>\n",
       "  <tbody>\n",
       "    <tr>\n",
       "      <th>0</th>\n",
       "      <td>NaN</td>\n",
       "      <td>NaN</td>\n",
       "      <td>Tue Mar 29 23:40:17 +0000 2016</td>\n",
       "      <td>{'hashtags': [], 'user_mentions': [{'screen_na...</td>\n",
       "      <td>{'media': [{'sizes': {'large': {'w': 1024, 'h'...</td>\n",
       "      <td>0</td>\n",
       "      <td>False</td>\n",
       "      <td>low</td>\n",
       "      <td>NaN</td>\n",
       "      <td>714960401759387648</td>\n",
       "      <td>...</td>\n",
       "      <td>NaN</td>\n",
       "      <td>NaN</td>\n",
       "      <td>0</td>\n",
       "      <td>False</td>\n",
       "      <td>{'retweeted': False, 'text': \".@krollbondratin...</td>\n",
       "      <td>&lt;a href=\"http://twitter.com\" rel=\"nofollow\"&gt;Tw...</td>\n",
       "      <td>RT @bpolitics: .@krollbondrating's Christopher...</td>\n",
       "      <td>1459294817758</td>\n",
       "      <td>False</td>\n",
       "      <td>{'utc_offset': 3600, 'profile_image_url_https'...</td>\n",
       "    </tr>\n",
       "    <tr>\n",
       "      <th>1</th>\n",
       "      <td>NaN</td>\n",
       "      <td>NaN</td>\n",
       "      <td>Tue Mar 29 23:40:17 +0000 2016</td>\n",
       "      <td>{'hashtags': [{'text': 'cruzsexscandal', 'indi...</td>\n",
       "      <td>{'media': [{'sizes': {'large': {'w': 500, 'h':...</td>\n",
       "      <td>0</td>\n",
       "      <td>False</td>\n",
       "      <td>low</td>\n",
       "      <td>NaN</td>\n",
       "      <td>714960401977319424</td>\n",
       "      <td>...</td>\n",
       "      <td>NaN</td>\n",
       "      <td>NaN</td>\n",
       "      <td>0</td>\n",
       "      <td>False</td>\n",
       "      <td>{'retweeted': False, 'text': '@dmartosko Cruz ...</td>\n",
       "      <td>&lt;a href=\"http://twitter.com\" rel=\"nofollow\"&gt;Tw...</td>\n",
       "      <td>RT @HeidiAlpine: @dmartosko Cruz video found.....</td>\n",
       "      <td>1459294817810</td>\n",
       "      <td>False</td>\n",
       "      <td>{'utc_offset': None, 'profile_image_url_https'...</td>\n",
       "    </tr>\n",
       "    <tr>\n",
       "      <th>2</th>\n",
       "      <td>NaN</td>\n",
       "      <td>NaN</td>\n",
       "      <td>Tue Mar 29 23:40:17 +0000 2016</td>\n",
       "      <td>{'hashtags': [], 'user_mentions': [], 'symbols...</td>\n",
       "      <td>NaN</td>\n",
       "      <td>0</td>\n",
       "      <td>False</td>\n",
       "      <td>low</td>\n",
       "      <td>NaN</td>\n",
       "      <td>714960402426236928</td>\n",
       "      <td>...</td>\n",
       "      <td>NaN</td>\n",
       "      <td>NaN</td>\n",
       "      <td>0</td>\n",
       "      <td>False</td>\n",
       "      <td>NaN</td>\n",
       "      <td>&lt;a href=\"http://www.facebook.com/twitter\" rel=...</td>\n",
       "      <td>Njihuni me Zonjën Trump !!! | Ekskluzive https...</td>\n",
       "      <td>1459294817917</td>\n",
       "      <td>False</td>\n",
       "      <td>{'utc_offset': 7200, 'profile_image_url_https'...</td>\n",
       "    </tr>\n",
       "    <tr>\n",
       "      <th>3</th>\n",
       "      <td>NaN</td>\n",
       "      <td>NaN</td>\n",
       "      <td>Tue Mar 29 23:40:17 +0000 2016</td>\n",
       "      <td>{'hashtags': [], 'user_mentions': [], 'symbols...</td>\n",
       "      <td>NaN</td>\n",
       "      <td>0</td>\n",
       "      <td>False</td>\n",
       "      <td>low</td>\n",
       "      <td>NaN</td>\n",
       "      <td>714960402367561730</td>\n",
       "      <td>...</td>\n",
       "      <td>7.149239e+17</td>\n",
       "      <td>7.149239e+17</td>\n",
       "      <td>0</td>\n",
       "      <td>False</td>\n",
       "      <td>NaN</td>\n",
       "      <td>&lt;a href=\"http://twitter.com/download/android\" ...</td>\n",
       "      <td>Your an idiot she shouldn't have tried to grab...</td>\n",
       "      <td>1459294817903</td>\n",
       "      <td>False</td>\n",
       "      <td>{'utc_offset': None, 'profile_image_url_https'...</td>\n",
       "    </tr>\n",
       "    <tr>\n",
       "      <th>4</th>\n",
       "      <td>NaN</td>\n",
       "      <td>NaN</td>\n",
       "      <td>Tue Mar 29 23:40:17 +0000 2016</td>\n",
       "      <td>{'hashtags': [], 'user_mentions': [{'screen_na...</td>\n",
       "      <td>NaN</td>\n",
       "      <td>0</td>\n",
       "      <td>False</td>\n",
       "      <td>low</td>\n",
       "      <td>NaN</td>\n",
       "      <td>714960402149416960</td>\n",
       "      <td>...</td>\n",
       "      <td>NaN</td>\n",
       "      <td>NaN</td>\n",
       "      <td>0</td>\n",
       "      <td>False</td>\n",
       "      <td>{'retweeted': False, 'text': 'The anti-America...</td>\n",
       "      <td>&lt;a href=\"http://twitter.com/download/iphone\" r...</td>\n",
       "      <td>RT @AlanLohner: The anti-American D.C. elites ...</td>\n",
       "      <td>1459294817851</td>\n",
       "      <td>False</td>\n",
       "      <td>{'utc_offset': -18000, 'profile_image_url_http...</td>\n",
       "    </tr>\n",
       "  </tbody>\n",
       "</table>\n",
       "<p>5 rows × 31 columns</p>\n",
       "</div>"
      ],
      "text/plain": [
       "   contributors  coordinates                      created_at  \\\n",
       "0           NaN          NaN  Tue Mar 29 23:40:17 +0000 2016   \n",
       "1           NaN          NaN  Tue Mar 29 23:40:17 +0000 2016   \n",
       "2           NaN          NaN  Tue Mar 29 23:40:17 +0000 2016   \n",
       "3           NaN          NaN  Tue Mar 29 23:40:17 +0000 2016   \n",
       "4           NaN          NaN  Tue Mar 29 23:40:17 +0000 2016   \n",
       "\n",
       "                                            entities  \\\n",
       "0  {'hashtags': [], 'user_mentions': [{'screen_na...   \n",
       "1  {'hashtags': [{'text': 'cruzsexscandal', 'indi...   \n",
       "2  {'hashtags': [], 'user_mentions': [], 'symbols...   \n",
       "3  {'hashtags': [], 'user_mentions': [], 'symbols...   \n",
       "4  {'hashtags': [], 'user_mentions': [{'screen_na...   \n",
       "\n",
       "                                   extended_entities  favorite_count  \\\n",
       "0  {'media': [{'sizes': {'large': {'w': 1024, 'h'...               0   \n",
       "1  {'media': [{'sizes': {'large': {'w': 500, 'h':...               0   \n",
       "2                                                NaN               0   \n",
       "3                                                NaN               0   \n",
       "4                                                NaN               0   \n",
       "\n",
       "   favorited filter_level  geo                  id  ...  quoted_status_id  \\\n",
       "0      False          low  NaN  714960401759387648  ...               NaN   \n",
       "1      False          low  NaN  714960401977319424  ...               NaN   \n",
       "2      False          low  NaN  714960402426236928  ...               NaN   \n",
       "3      False          low  NaN  714960402367561730  ...      7.149239e+17   \n",
       "4      False          low  NaN  714960402149416960  ...               NaN   \n",
       "\n",
       "  quoted_status_id_str  retweet_count  retweeted  \\\n",
       "0                  NaN              0      False   \n",
       "1                  NaN              0      False   \n",
       "2                  NaN              0      False   \n",
       "3         7.149239e+17              0      False   \n",
       "4                  NaN              0      False   \n",
       "\n",
       "                                    retweeted_status  \\\n",
       "0  {'retweeted': False, 'text': \".@krollbondratin...   \n",
       "1  {'retweeted': False, 'text': '@dmartosko Cruz ...   \n",
       "2                                                NaN   \n",
       "3                                                NaN   \n",
       "4  {'retweeted': False, 'text': 'The anti-America...   \n",
       "\n",
       "                                              source  \\\n",
       "0  <a href=\"http://twitter.com\" rel=\"nofollow\">Tw...   \n",
       "1  <a href=\"http://twitter.com\" rel=\"nofollow\">Tw...   \n",
       "2  <a href=\"http://www.facebook.com/twitter\" rel=...   \n",
       "3  <a href=\"http://twitter.com/download/android\" ...   \n",
       "4  <a href=\"http://twitter.com/download/iphone\" r...   \n",
       "\n",
       "                                                text   timestamp_ms truncated  \\\n",
       "0  RT @bpolitics: .@krollbondrating's Christopher...  1459294817758     False   \n",
       "1  RT @HeidiAlpine: @dmartosko Cruz video found.....  1459294817810     False   \n",
       "2  Njihuni me Zonjën Trump !!! | Ekskluzive https...  1459294817917     False   \n",
       "3  Your an idiot she shouldn't have tried to grab...  1459294817903     False   \n",
       "4  RT @AlanLohner: The anti-American D.C. elites ...  1459294817851     False   \n",
       "\n",
       "                                                user  \n",
       "0  {'utc_offset': 3600, 'profile_image_url_https'...  \n",
       "1  {'utc_offset': None, 'profile_image_url_https'...  \n",
       "2  {'utc_offset': 7200, 'profile_image_url_https'...  \n",
       "3  {'utc_offset': None, 'profile_image_url_https'...  \n",
       "4  {'utc_offset': -18000, 'profile_image_url_http...  \n",
       "\n",
       "[5 rows x 31 columns]"
      ]
     },
     "execution_count": 81,
     "metadata": {},
     "output_type": "execute_result"
    }
   ],
   "source": [
    "df.head()"
   ]
  },
  {
   "cell_type": "code",
   "execution_count": 82,
   "id": "b76bab0b",
   "metadata": {},
   "outputs": [],
   "source": [
    "def count_entries(data, col_name=\"lang\"):\n",
    "    \n",
    "    counted_entry = {}\n",
    "    \n",
    "    \n",
    "    col = df[col_name]\n",
    "    \n",
    "    \n",
    "    for entry in col:\n",
    "        \n",
    "        if entry in counted_entry.keys():\n",
    "            counted_entry[entry] += 1\n",
    "            \n",
    "        else:\n",
    "            counted_entry[entry] = 1\n",
    "            \n",
    "    return counted_entry\n",
    "            "
   ]
  },
  {
   "cell_type": "code",
   "execution_count": 83,
   "id": "5cff509f",
   "metadata": {},
   "outputs": [],
   "source": [
    "language = count_entries(df)"
   ]
  },
  {
   "cell_type": "code",
   "execution_count": 84,
   "id": "3069096c",
   "metadata": {},
   "outputs": [
    {
     "data": {
      "text/plain": [
       "{'en': 97, 'et': 1, 'und': 2}"
      ]
     },
     "execution_count": 84,
     "metadata": {},
     "output_type": "execute_result"
    }
   ],
   "source": [
    "language"
   ]
  },
  {
   "cell_type": "code",
   "execution_count": 87,
   "id": "9bbc0649",
   "metadata": {},
   "outputs": [],
   "source": [
    "sources = count_entries(df, \"source\")"
   ]
  },
  {
   "cell_type": "code",
   "execution_count": 88,
   "id": "ed084ff9",
   "metadata": {},
   "outputs": [
    {
     "data": {
      "text/plain": [
       "{'<a href=\"http://twitter.com\" rel=\"nofollow\">Twitter Web Client</a>': 24,\n",
       " '<a href=\"http://www.facebook.com/twitter\" rel=\"nofollow\">Facebook</a>': 1,\n",
       " '<a href=\"http://twitter.com/download/android\" rel=\"nofollow\">Twitter for Android</a>': 26,\n",
       " '<a href=\"http://twitter.com/download/iphone\" rel=\"nofollow\">Twitter for iPhone</a>': 33,\n",
       " '<a href=\"http://www.twitter.com\" rel=\"nofollow\">Twitter for BlackBerry</a>': 2,\n",
       " '<a href=\"http://www.google.com/\" rel=\"nofollow\">Google</a>': 2,\n",
       " '<a href=\"http://twitter.com/#!/download/ipad\" rel=\"nofollow\">Twitter for iPad</a>': 6,\n",
       " '<a href=\"http://linkis.com\" rel=\"nofollow\">Linkis.com</a>': 2,\n",
       " '<a href=\"http://rutracker.org/forum/viewforum.php?f=93\" rel=\"nofollow\">newzlasz</a>': 2,\n",
       " '<a href=\"http://ifttt.com\" rel=\"nofollow\">IFTTT</a>': 1,\n",
       " '<a href=\"http://www.myplume.com/\" rel=\"nofollow\">Plume\\xa0for\\xa0Android</a>': 1}"
      ]
     },
     "execution_count": 88,
     "metadata": {},
     "output_type": "execute_result"
    }
   ],
   "source": [
    "sources"
   ]
  },
  {
   "cell_type": "markdown",
   "id": "eb910c3b",
   "metadata": {},
   "source": [
    "# Bringing it all together (2)\n",
    "Wow, you've just generalized your Twitter language analysis that you did in the previous chapter to include a default argument for the column name. You're now going to generalize this function one step further by allowing the user to pass it a flexible argument, that is, in this case, as many column names as the user would like!\n",
    "\n",
    "Once again, for your convenience, pandas has been imported as pd and the 'tweets.csv' file has been imported into the DataFrame tweets_df. Parts of the code from your previous work are also provided."
   ]
  },
  {
   "cell_type": "code",
   "execution_count": 99,
   "id": "65ffddc3",
   "metadata": {},
   "outputs": [],
   "source": [
    "def count_entries1(dataframe, *args):\n",
    "    \n",
    "    \n",
    "    counted_entry = { }\n",
    "    \n",
    "    for col_name in args:\n",
    "        \n",
    "        col = df[col_name]\n",
    "        \n",
    "        \n",
    "        for entry in col:\n",
    "            \n",
    "            if entry in counted_entry.keys():\n",
    "                \n",
    "                counted_entry[entry] += 1\n",
    "                \n",
    "            else:\n",
    "                \n",
    "                counted_entry[entry] = 1\n",
    "                \n",
    "                \n",
    "    return counted_entry\n"
   ]
  },
  {
   "cell_type": "code",
   "execution_count": 100,
   "id": "2217cfee",
   "metadata": {},
   "outputs": [
    {
     "name": "stdout",
     "output_type": "stream",
     "text": [
      "{'en': 97, 'et': 1, 'und': 2}\n"
     ]
    }
   ],
   "source": [
    "print(count_entries1(df, \"lang\"))"
   ]
  },
  {
   "cell_type": "code",
   "execution_count": 104,
   "id": "ef303a68",
   "metadata": {},
   "outputs": [
    {
     "name": "stdout",
     "output_type": "stream",
     "text": [
      "{'en': 97, 'et': 1, 'und': 2, '<a href=\"http://twitter.com\" rel=\"nofollow\">Twitter Web Client</a>': 24, '<a href=\"http://www.facebook.com/twitter\" rel=\"nofollow\">Facebook</a>': 1, '<a href=\"http://twitter.com/download/android\" rel=\"nofollow\">Twitter for Android</a>': 26, '<a href=\"http://twitter.com/download/iphone\" rel=\"nofollow\">Twitter for iPhone</a>': 33, '<a href=\"http://www.twitter.com\" rel=\"nofollow\">Twitter for BlackBerry</a>': 2, '<a href=\"http://www.google.com/\" rel=\"nofollow\">Google</a>': 2, '<a href=\"http://twitter.com/#!/download/ipad\" rel=\"nofollow\">Twitter for iPad</a>': 6, '<a href=\"http://linkis.com\" rel=\"nofollow\">Linkis.com</a>': 2, '<a href=\"http://rutracker.org/forum/viewforum.php?f=93\" rel=\"nofollow\">newzlasz</a>': 2, '<a href=\"http://ifttt.com\" rel=\"nofollow\">IFTTT</a>': 1, '<a href=\"http://www.myplume.com/\" rel=\"nofollow\">Plume\\xa0for\\xa0Android</a>': 1}\n"
     ]
    }
   ],
   "source": [
    "print(count_entries1(df, \"lang\",\"source\"))"
   ]
  },
  {
   "cell_type": "code",
   "execution_count": 117,
   "id": "f2aaaa63",
   "metadata": {},
   "outputs": [],
   "source": [
    "def counts_entry(data, *args):\n",
    "    \n",
    "    count_dic = {}\n",
    "    \n",
    "    \n",
    "    for col_name in args:\n",
    "        \n",
    "        col = df[col_name]\n",
    "        \n",
    "        \n",
    "        for entry in col:\n",
    "            \n",
    "            if entry in count_dic.keys():\n",
    "                \n",
    "                count_dic[entry] += 1\n",
    "                \n",
    "            else:\n",
    "                \n",
    "                count_dic[entry] = 1\n",
    "                \n",
    "    return count_dic"
   ]
  },
  {
   "cell_type": "code",
   "execution_count": 118,
   "id": "267a37a0",
   "metadata": {},
   "outputs": [
    {
     "name": "stdout",
     "output_type": "stream",
     "text": [
      "{'<a href=\"http://twitter.com\" rel=\"nofollow\">Twitter Web Client</a>': 24, '<a href=\"http://www.facebook.com/twitter\" rel=\"nofollow\">Facebook</a>': 1, '<a href=\"http://twitter.com/download/android\" rel=\"nofollow\">Twitter for Android</a>': 26, '<a href=\"http://twitter.com/download/iphone\" rel=\"nofollow\">Twitter for iPhone</a>': 33, '<a href=\"http://www.twitter.com\" rel=\"nofollow\">Twitter for BlackBerry</a>': 2, '<a href=\"http://www.google.com/\" rel=\"nofollow\">Google</a>': 2, '<a href=\"http://twitter.com/#!/download/ipad\" rel=\"nofollow\">Twitter for iPad</a>': 6, '<a href=\"http://linkis.com\" rel=\"nofollow\">Linkis.com</a>': 2, '<a href=\"http://rutracker.org/forum/viewforum.php?f=93\" rel=\"nofollow\">newzlasz</a>': 2, '<a href=\"http://ifttt.com\" rel=\"nofollow\">IFTTT</a>': 1, '<a href=\"http://www.myplume.com/\" rel=\"nofollow\">Plume\\xa0for\\xa0Android</a>': 1}\n"
     ]
    }
   ],
   "source": [
    "print(counts_entry(df, \"source\"))"
   ]
  },
  {
   "cell_type": "code",
   "execution_count": 119,
   "id": "34ecd835",
   "metadata": {},
   "outputs": [
    {
     "name": "stdout",
     "output_type": "stream",
     "text": [
      "{'<a href=\"http://twitter.com\" rel=\"nofollow\">Twitter Web Client</a>': 24, '<a href=\"http://www.facebook.com/twitter\" rel=\"nofollow\">Facebook</a>': 1, '<a href=\"http://twitter.com/download/android\" rel=\"nofollow\">Twitter for Android</a>': 26, '<a href=\"http://twitter.com/download/iphone\" rel=\"nofollow\">Twitter for iPhone</a>': 33, '<a href=\"http://www.twitter.com\" rel=\"nofollow\">Twitter for BlackBerry</a>': 2, '<a href=\"http://www.google.com/\" rel=\"nofollow\">Google</a>': 2, '<a href=\"http://twitter.com/#!/download/ipad\" rel=\"nofollow\">Twitter for iPad</a>': 6, '<a href=\"http://linkis.com\" rel=\"nofollow\">Linkis.com</a>': 2, '<a href=\"http://rutracker.org/forum/viewforum.php?f=93\" rel=\"nofollow\">newzlasz</a>': 2, '<a href=\"http://ifttt.com\" rel=\"nofollow\">IFTTT</a>': 1, '<a href=\"http://www.myplume.com/\" rel=\"nofollow\">Plume\\xa0for\\xa0Android</a>': 1, 'en': 97, 'et': 1, 'und': 2}\n"
     ]
    }
   ],
   "source": [
    "print(counts_entry(df, \"source\", \"lang\"))"
   ]
  },
  {
   "cell_type": "code",
   "execution_count": null,
   "id": "95659a3b",
   "metadata": {},
   "outputs": [],
   "source": []
  },
  {
   "cell_type": "code",
   "execution_count": null,
   "id": "692066d3",
   "metadata": {},
   "outputs": [],
   "source": []
  }
 ],
 "metadata": {
  "kernelspec": {
   "display_name": "Python 3 (ipykernel)",
   "language": "python",
   "name": "python3"
  },
  "language_info": {
   "codemirror_mode": {
    "name": "ipython",
    "version": 3
   },
   "file_extension": ".py",
   "mimetype": "text/x-python",
   "name": "python",
   "nbconvert_exporter": "python",
   "pygments_lexer": "ipython3",
   "version": "3.9.7"
  }
 },
 "nbformat": 4,
 "nbformat_minor": 5
}
