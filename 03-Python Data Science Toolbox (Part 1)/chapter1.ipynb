{
 "cells": [
  {
   "cell_type": "markdown",
   "id": "b1e66522",
   "metadata": {},
   "source": [
    "# Writing your own functions\n",
    "\n",
    "1. write your own function\n",
    "2. define function without parameters\n",
    "3. define functions with one parameter\n",
    "4. define function that return a value\n",
    "5. Later: multiple arguments, multiple return values\n",
    "\n",
    "\n",
    "## Builtin functions\n",
    "\n",
    "1. str()\n",
    "\n",
    "str() accepts and object, such as a number and returns a string object. \n",
    "\n"
   ]
  },
  {
   "cell_type": "code",
   "execution_count": 3,
   "id": "56839e0b",
   "metadata": {},
   "outputs": [
    {
     "name": "stdout",
     "output_type": "stream",
     "text": [
      "iqra\n",
      "qasim\n",
      "mehmood\n"
     ]
    }
   ],
   "source": [
    "print(\"iqra\", \"qasim\", \"mehmood\",  sep = \"\\n\"  )"
   ]
  },
  {
   "cell_type": "code",
   "execution_count": 4,
   "id": "c53bf496",
   "metadata": {},
   "outputs": [
    {
     "name": "stdout",
     "output_type": "stream",
     "text": [
      "5\n"
     ]
    }
   ],
   "source": [
    "x = str(5)\n",
    "\n",
    "print(x)"
   ]
  },
  {
   "cell_type": "code",
   "execution_count": 5,
   "id": "49911cf4",
   "metadata": {},
   "outputs": [
    {
     "data": {
      "text/plain": [
       "str"
      ]
     },
     "execution_count": 5,
     "metadata": {},
     "output_type": "execute_result"
    }
   ],
   "source": [
    "type(x)"
   ]
  },
  {
   "cell_type": "markdown",
   "id": "1ea20f81",
   "metadata": {},
   "source": [
    "# Define a function of your need\n",
    "\n",
    "#### Function that squares numbers\n",
    "\n",
    "name it square"
   ]
  },
  {
   "cell_type": "code",
   "execution_count": 6,
   "id": "b3639ff6",
   "metadata": {},
   "outputs": [],
   "source": [
    "def square():\n",
    "    val = 2 ** 2\n",
    "    print(val)"
   ]
  },
  {
   "cell_type": "code",
   "execution_count": 7,
   "id": "b11c4a12",
   "metadata": {},
   "outputs": [
    {
     "name": "stdout",
     "output_type": "stream",
     "text": [
      "4\n"
     ]
    }
   ],
   "source": [
    "square()"
   ]
  },
  {
   "cell_type": "code",
   "execution_count": 8,
   "id": "db1ed0a4",
   "metadata": {},
   "outputs": [],
   "source": [
    "# square any number\n",
    "\n",
    "def square(a):\n",
    "    \n",
    "    value = a ** 2\n",
    "    print(value)"
   ]
  },
  {
   "cell_type": "code",
   "execution_count": 10,
   "id": "7a781be5",
   "metadata": {},
   "outputs": [
    {
     "name": "stdout",
     "output_type": "stream",
     "text": [
      "25\n"
     ]
    }
   ],
   "source": [
    "square(5)"
   ]
  },
  {
   "cell_type": "code",
   "execution_count": 11,
   "id": "e3bcb823",
   "metadata": {},
   "outputs": [
    {
     "name": "stdout",
     "output_type": "stream",
     "text": [
      "225\n"
     ]
    }
   ],
   "source": [
    "square(15)"
   ]
  },
  {
   "cell_type": "code",
   "execution_count": 12,
   "id": "b11717c1",
   "metadata": {},
   "outputs": [
    {
     "name": "stdout",
     "output_type": "stream",
     "text": [
      "8100\n"
     ]
    }
   ],
   "source": [
    "square(90)"
   ]
  },
  {
   "cell_type": "markdown",
   "id": "e0583391",
   "metadata": {},
   "source": [
    "# Return Value from Function\n",
    "\n",
    "\n",
    "if we don't want to print the value directly and instead we want to return the value and assign it to some other variable. \n"
   ]
  },
  {
   "cell_type": "code",
   "execution_count": 37,
   "id": "bbe6136a",
   "metadata": {},
   "outputs": [],
   "source": [
    "\n",
    "def square(b):\n",
    "    values = b **2\n",
    "    return values"
   ]
  },
  {
   "cell_type": "code",
   "execution_count": 39,
   "id": "cdaa7655",
   "metadata": {},
   "outputs": [],
   "source": [
    "vlues = square(3)"
   ]
  },
  {
   "cell_type": "code",
   "execution_count": 40,
   "id": "dffcece6",
   "metadata": {},
   "outputs": [
    {
     "data": {
      "text/plain": [
       "9"
      ]
     },
     "execution_count": 40,
     "metadata": {},
     "output_type": "execute_result"
    }
   ],
   "source": [
    "vlues"
   ]
  },
  {
   "cell_type": "markdown",
   "id": "c1669e85",
   "metadata": {},
   "source": [
    "# Docstrings\n",
    "\n",
    "docstring describes what your function does, such as computation it performs or it's return value. \n",
    "\n",
    "Anyone who reads your function, understands what your func doues. \n",
    "\n",
    "\n",
    "function docs are placed just after function header, in between tripple quotation marks.\n",
    "\n",
    "\n",
    "# Strings in Python\n",
    "\n",
    "In the video, you learned of another standard Python datatype, strings. Recall that these represent textual data. To assign the string 'DataCamp' to a variable company, you execute:\n",
    "\n",
    "\n",
    "``` company = 'DataCamp' ```\n",
    "\n",
    "You've also learned to use the operations + and * with strings. Unlike with numeric types such as ints and floats, the + operator concatenates strings together, while the * concatenates multiple copies of a string together. In this exercise, you will use the + and * operations on strings to answer the question below. Execute the following code in the shell:\n",
    "\n",
    "``` object1 = \"data\" + \"analysis\" + \"visualization\" ```\n",
    "\n",
    "\n",
    "```object2 = 1 * 3```\n",
    "\n",
    "\n",
    "\n",
    "```object3 = \"1\" * 3```\n",
    "\n",
    "\n"
   ]
  },
  {
   "cell_type": "code",
   "execution_count": 41,
   "id": "6b396f7f",
   "metadata": {},
   "outputs": [
    {
     "data": {
      "text/plain": [
       "str"
      ]
     },
     "execution_count": 41,
     "metadata": {},
     "output_type": "execute_result"
    }
   ],
   "source": [
    "y1 = str(x)\n",
    "type(y1)"
   ]
  },
  {
   "attachments": {
    "image.png": {
     "image/png": "[encoded data removed]"
    }
   },
   "cell_type": "markdown",
   "id": "bdf095a5",
   "metadata": {},
   "source": [
    "![image.png](attachment:image.png)"
   ]
  },
  {
   "cell_type": "code",
   "execution_count": 41,
   "id": "ba607f75",
   "metadata": {},
   "outputs": [],
   "source": [
    "# create a function shout() for concatenating string with exclamation marks\n",
    "\n",
    "def shout():\n",
    "    \n",
    "    shout_word = \"Congrats\" + \"!!!\"\n",
    "    \n",
    "    print(shout_word)"
   ]
  },
  {
   "cell_type": "code",
   "execution_count": 42,
   "id": "4bb0c9e2",
   "metadata": {},
   "outputs": [
    {
     "name": "stdout",
     "output_type": "stream",
     "text": [
      "Congrats!!!\n"
     ]
    }
   ],
   "source": [
    "shout()"
   ]
  },
  {
   "cell_type": "code",
   "execution_count": 45,
   "id": "36f121d3",
   "metadata": {},
   "outputs": [],
   "source": [
    "# function that concatinates name with the name\n",
    "\n",
    "def name():\n",
    "    \n",
    "    \"\"\"concatinates strings\"\"\"\n",
    "    names = \"iqra\" + \"iqra\"\n",
    "    \n",
    "    print(names)\n"
   ]
  },
  {
   "cell_type": "code",
   "execution_count": 44,
   "id": "5bea37d7",
   "metadata": {},
   "outputs": [
    {
     "name": "stdout",
     "output_type": "stream",
     "text": [
      "iqraiqra\n"
     ]
    }
   ],
   "source": [
    "name()"
   ]
  },
  {
   "attachments": {
    "image.png": {
     "image/png": "[encoded data removed]"
    }
   },
   "cell_type": "markdown",
   "id": "6c3d111c",
   "metadata": {},
   "source": [
    "# Single-parameter functions\n",
    "Congratulations! You have successfully defined and called your own function! That's pretty cool.\n",
    "\n",
    "In the previous exercise, you defined and called the function shout(), which printed out a string concatenated with '!!!'. You will now update shout() by adding a parameter so that it can accept and process any string argument passed to it. Also note that shout(word), the part of the header that specifies the function name and parameter(s), is known as the signature of the function. You may encounter this term in the wild!\n",
    "\n",
    "![image.png](attachment:image.png)"
   ]
  },
  {
   "cell_type": "code",
   "execution_count": 48,
   "id": "ee350e3d",
   "metadata": {},
   "outputs": [],
   "source": [
    "def shout(words):\n",
    "    \n",
    "    \"\"\"function for congatulating\"\"\"\n",
    "    \n",
    "    shout_word = words + \" Congrats !!!\"\n",
    "    \n",
    "    print(shout_word)\n",
    "    \n",
    "    "
   ]
  },
  {
   "cell_type": "code",
   "execution_count": 49,
   "id": "f678a817",
   "metadata": {},
   "outputs": [
    {
     "name": "stdout",
     "output_type": "stream",
     "text": [
      "iqra Congrats !!!\n"
     ]
    }
   ],
   "source": [
    "shout(\"iqra\")"
   ]
  },
  {
   "cell_type": "markdown",
   "id": "41f879e3",
   "metadata": {},
   "source": [
    "# Functions that return single values\n",
    "\n",
    "\n",
    "You're getting very good at this! Try your hand at another modification to the shout() function so that it now returns a single value instead of printing within the function. Recall that the return keyword lets you return values from functions. Parts of the function shout(), which you wrote earlier, are shown. Returning values is generally more desirable than printing them out because, as you saw earlier, a print() call assigned to a variable has type NoneType."
   ]
  },
  {
   "cell_type": "code",
   "execution_count": 13,
   "id": "175536ec",
   "metadata": {},
   "outputs": [],
   "source": [
    "# In the function body, concatenate the string in word with '!!!' and assign to shout_word.\n",
    "\n",
    "def shout(word):\n",
    "    \n",
    "    words = word + \"!!!\"\n",
    "    \n",
    "    return words\n",
    "    "
   ]
  },
  {
   "cell_type": "code",
   "execution_count": 17,
   "id": "0865cc3b",
   "metadata": {},
   "outputs": [
    {
     "name": "stdout",
     "output_type": "stream",
     "text": [
      "fail!!!\n"
     ]
    }
   ],
   "source": [
    "yell = shout(\"fail\")\n",
    "\n",
    "print(yell)"
   ]
  },
  {
   "cell_type": "markdown",
   "id": "2a470f5a",
   "metadata": {},
   "source": [
    "# Multiple parameters and return values\n",
    "\n",
    "\n",
    "1. How to pass multiple argumenst to function, \n",
    "2. return multiple values \n",
    "\n",
    "#### Accept more than one parameter. "
   ]
  },
  {
   "cell_type": "code",
   "execution_count": 38,
   "id": "473f8e1e",
   "metadata": {},
   "outputs": [],
   "source": [
    "def raise_to_power(val, val2):\n",
    "    \"\"\" raise val to the power of val2\"\"\"\n",
    "    \n",
    "    return val ** val2"
   ]
  },
  {
   "cell_type": "code",
   "execution_count": 39,
   "id": "839866e9",
   "metadata": {},
   "outputs": [
    {
     "name": "stdout",
     "output_type": "stream",
     "text": [
      "243\n"
     ]
    }
   ],
   "source": [
    "print(raise_to_power(3,5))"
   ]
  },
  {
   "cell_type": "code",
   "execution_count": 40,
   "id": "cfef5a4e",
   "metadata": {},
   "outputs": [
    {
     "name": "stdout",
     "output_type": "stream",
     "text": [
      "3125\n"
     ]
    }
   ],
   "source": [
    "\n",
    "print(raise_to_power(5,5))"
   ]
  },
  {
   "cell_type": "code",
   "execution_count": 41,
   "id": "89717278",
   "metadata": {},
   "outputs": [
    {
     "data": {
      "text/plain": [
       "3125"
      ]
     },
     "execution_count": 41,
     "metadata": {},
     "output_type": "execute_result"
    }
   ],
   "source": [
    "5*5*5*5*5"
   ]
  },
  {
   "attachments": {
    "image-2.png": {
     "image/png": "[encoded data removed]"
    },
    "image-3.png": {
     "image/png": "[encoded data removed]"
    },
    "image.png": {
     "image/png": "[encoded data removed]"
    }
   },
   "cell_type": "markdown",
   "id": "1f6f458a",
   "metadata": {},
   "source": [
    "# Tuples \n",
    "\n",
    "![image.png](attachment:image.png)\n",
    "\n",
    "![image-2.png](attachment:image-2.png)\n",
    "\n",
    "\n",
    "![image-3.png](attachment:image-3.png)\n",
    "\n",
    "\n"
   ]
  },
  {
   "cell_type": "code",
   "execution_count": 42,
   "id": "46922560",
   "metadata": {},
   "outputs": [],
   "source": [
    "tuples = (2,3,4,5,6,7)"
   ]
  },
  {
   "cell_type": "code",
   "execution_count": 43,
   "id": "998af3dd",
   "metadata": {},
   "outputs": [],
   "source": [
    "a,b,c,d,e,f = tuples"
   ]
  },
  {
   "cell_type": "code",
   "execution_count": 44,
   "id": "ce89e104",
   "metadata": {},
   "outputs": [
    {
     "data": {
      "text/plain": [
       "2"
      ]
     },
     "execution_count": 44,
     "metadata": {},
     "output_type": "execute_result"
    }
   ],
   "source": [
    "a"
   ]
  },
  {
   "cell_type": "code",
   "execution_count": 45,
   "id": "59bb7d8c",
   "metadata": {},
   "outputs": [
    {
     "data": {
      "text/plain": [
       "5"
      ]
     },
     "execution_count": 45,
     "metadata": {},
     "output_type": "execute_result"
    }
   ],
   "source": [
    "d"
   ]
  },
  {
   "cell_type": "code",
   "execution_count": 46,
   "id": "69b37cb1",
   "metadata": {},
   "outputs": [
    {
     "data": {
      "text/plain": [
       "7"
      ]
     },
     "execution_count": 46,
     "metadata": {},
     "output_type": "execute_result"
    }
   ],
   "source": [
    "f"
   ]
  },
  {
   "cell_type": "code",
   "execution_count": 48,
   "id": "c0c4e367",
   "metadata": {},
   "outputs": [
    {
     "data": {
      "text/plain": [
       "7"
      ]
     },
     "execution_count": 48,
     "metadata": {},
     "output_type": "execute_result"
    }
   ],
   "source": [
    "tuples[-1]"
   ]
  },
  {
   "cell_type": "code",
   "execution_count": 49,
   "id": "cd09c770",
   "metadata": {},
   "outputs": [
    {
     "data": {
      "text/plain": [
       "5"
      ]
     },
     "execution_count": 49,
     "metadata": {},
     "output_type": "execute_result"
    }
   ],
   "source": [
    "tuples[3]"
   ]
  },
  {
   "cell_type": "code",
   "execution_count": 63,
   "id": "6e053b47",
   "metadata": {},
   "outputs": [],
   "source": [
    "# returning multiple values\n",
    "\n",
    "\n",
    "def both_values(value_1, value_2):\n",
    "    \n",
    "    \n",
    "    value1 = value_1 ** value_2\n",
    "    value2 = value_2 ** value_1\n",
    "    \n",
    "    \n",
    "    return value1 , value2\n"
   ]
  },
  {
   "cell_type": "code",
   "execution_count": 68,
   "id": "8ce86902",
   "metadata": {},
   "outputs": [],
   "source": [
    "value1 = both_values(3,2)\n",
    "value2 = both_values(3,4)"
   ]
  },
  {
   "cell_type": "code",
   "execution_count": 69,
   "id": "c2419a6c",
   "metadata": {},
   "outputs": [
    {
     "name": "stdout",
     "output_type": "stream",
     "text": [
      "(9, 8)\n",
      "(81, 64)\n"
     ]
    }
   ],
   "source": [
    "print(value1)\n",
    "print(value2)"
   ]
  },
  {
   "attachments": {
    "image.png": {
     "image/png": "[encoded data removed]"
    }
   },
   "cell_type": "markdown",
   "id": "2f01ec1f",
   "metadata": {},
   "source": [
    "# Functions with multiple parameters\n",
    "Hugo discussed the use of multiple parameters in defining functions in the last lecture. You are now going to use what you've learned to modify the shout() function further. Here, you will modify shout() to accept two arguments. Parts of the function shout(), which you wrote earlier, are shown.\n",
    "\n",
    "![image.png](attachment:image.png)"
   ]
  },
  {
   "cell_type": "code",
   "execution_count": 73,
   "id": "75287f4e",
   "metadata": {},
   "outputs": [],
   "source": [
    "# concatention\n",
    "\n",
    "\n",
    "def shout(word1, word2):\n",
    "    shout1 = word1 + \"!!!\"\n",
    "    shout2 = word2 + \"!!!\"\n",
    "    \n",
    "    new_shout = shout1 + shout2\n",
    "    \n",
    "    return new_shout"
   ]
  },
  {
   "cell_type": "code",
   "execution_count": 74,
   "id": "427360cb",
   "metadata": {},
   "outputs": [
    {
     "data": {
      "text/plain": [
       "'iqra!!!anwar!!!'"
      ]
     },
     "execution_count": 74,
     "metadata": {},
     "output_type": "execute_result"
    }
   ],
   "source": [
    "shout(\"iqra\", \"anwar\")"
   ]
  },
  {
   "cell_type": "code",
   "execution_count": 82,
   "id": "82416727",
   "metadata": {},
   "outputs": [],
   "source": [
    "# concatinates\n",
    "\n",
    "def shine(day, night):\n",
    "    \n",
    "    shine1 = day + \"shift\"\n",
    "    shine2 = night + \"shift\"\n",
    "    \n",
    "    new_shift = shine1 + shine2\n",
    "    \n",
    "    return new_shift"
   ]
  },
  {
   "cell_type": "code",
   "execution_count": 84,
   "id": "7637bc4b",
   "metadata": {},
   "outputs": [
    {
     "data": {
      "text/plain": [
       "'day shift and night shift'"
      ]
     },
     "execution_count": 84,
     "metadata": {},
     "output_type": "execute_result"
    }
   ],
   "source": [
    "shine(\"day \", \" and night \")"
   ]
  },
  {
   "cell_type": "markdown",
   "id": "99a9d33b",
   "metadata": {},
   "source": [
    "# A brief introduction to tuples\n",
    "\n",
    "\n",
    "Alongside learning about functions, you've also learned about tuples! Here, you will practice what you've learned about tuples: \n",
    "\n",
    "how to \n",
    "\n",
    "construct, \n",
    "\n",
    "unpack, \n",
    "\n",
    "and access tuple elements.\n",
    "\n",
    "Recall how Hugo unpacked the tuple even_nums in the video:\n",
    "\n",
    "```a, b, c = even_nums```\n",
    "\n",
    "A three-element tuple named nums has been preloaded for this exercise. Before completing the script, perform the following:\n",
    "\n",
    "Print out the value of nums in the IPython shell. Note the elements in the tuple.\n",
    "In the IPython shell, try to change the first element of nums to the value 2 by doing an assignment: nums[0] = 2. What happens?"
   ]
  },
  {
   "cell_type": "code",
   "execution_count": 116,
   "id": "26cffa31",
   "metadata": {},
   "outputs": [],
   "source": [
    "num = (3,4,6)"
   ]
  },
  {
   "cell_type": "code",
   "execution_count": 117,
   "id": "6bdc96c2",
   "metadata": {},
   "outputs": [],
   "source": [
    "num1,num2,num3 = num"
   ]
  },
  {
   "cell_type": "code",
   "execution_count": 119,
   "id": "48c48213",
   "metadata": {},
   "outputs": [
    {
     "data": {
      "text/plain": [
       "(2, 4, 6)"
      ]
     },
     "execution_count": 119,
     "metadata": {},
     "output_type": "execute_result"
    }
   ],
   "source": [
    "even = (2, num2, num3)\n",
    "\n",
    "even"
   ]
  },
  {
   "cell_type": "code",
   "execution_count": 85,
   "id": "08f90091",
   "metadata": {},
   "outputs": [],
   "source": [
    "nums = (3,5,6,8,9)"
   ]
  },
  {
   "cell_type": "code",
   "execution_count": 87,
   "id": "49644bd9",
   "metadata": {},
   "outputs": [],
   "source": [
    "n1,n2,n3,n4,n5 = nums"
   ]
  },
  {
   "cell_type": "code",
   "execution_count": 88,
   "id": "5a84cb5b",
   "metadata": {},
   "outputs": [
    {
     "data": {
      "text/plain": [
       "3"
      ]
     },
     "execution_count": 88,
     "metadata": {},
     "output_type": "execute_result"
    }
   ],
   "source": [
    "n1"
   ]
  },
  {
   "cell_type": "code",
   "execution_count": 89,
   "id": "c97b4828",
   "metadata": {},
   "outputs": [
    {
     "data": {
      "text/plain": [
       "5"
      ]
     },
     "execution_count": 89,
     "metadata": {},
     "output_type": "execute_result"
    }
   ],
   "source": [
    "n2"
   ]
  },
  {
   "cell_type": "code",
   "execution_count": 90,
   "id": "a97676dc",
   "metadata": {},
   "outputs": [
    {
     "data": {
      "text/plain": [
       "6"
      ]
     },
     "execution_count": 90,
     "metadata": {},
     "output_type": "execute_result"
    }
   ],
   "source": [
    "n3"
   ]
  },
  {
   "cell_type": "code",
   "execution_count": 91,
   "id": "423d3332",
   "metadata": {},
   "outputs": [
    {
     "data": {
      "text/plain": [
       "8"
      ]
     },
     "execution_count": 91,
     "metadata": {},
     "output_type": "execute_result"
    }
   ],
   "source": [
    "n4"
   ]
  },
  {
   "cell_type": "code",
   "execution_count": 108,
   "id": "f183c370",
   "metadata": {},
   "outputs": [
    {
     "data": {
      "text/plain": [
       "10"
      ]
     },
     "execution_count": 108,
     "metadata": {},
     "output_type": "execute_result"
    }
   ],
   "source": [
    "n5"
   ]
  },
  {
   "cell_type": "code",
   "execution_count": 109,
   "id": "1cb22353",
   "metadata": {},
   "outputs": [],
   "source": [
    "n1 = 2"
   ]
  },
  {
   "cell_type": "code",
   "execution_count": 110,
   "id": "86d4da92",
   "metadata": {},
   "outputs": [],
   "source": [
    "n2 = 4"
   ]
  },
  {
   "cell_type": "code",
   "execution_count": 111,
   "id": "9b1b040e",
   "metadata": {},
   "outputs": [],
   "source": [
    "n5 = 10"
   ]
  },
  {
   "cell_type": "code",
   "execution_count": 112,
   "id": "0322f3cf",
   "metadata": {},
   "outputs": [
    {
     "ename": "TypeError",
     "evalue": "'tuple' object is not callable",
     "output_type": "error",
     "traceback": [
      "\u001b[1;31m---------------------------------------------------------------------------\u001b[0m",
      "\u001b[1;31mTypeError\u001b[0m                                 Traceback (most recent call last)",
      "\u001b[1;32m~\\AppData\\Local\\Temp/ipykernel_13340/4173780436.py\u001b[0m in \u001b[0;36m<module>\u001b[1;34m\u001b[0m\n\u001b[1;32m----> 1\u001b[1;33m \u001b[0mnums\u001b[0m\u001b[1;33m(\u001b[0m\u001b[0mn1\u001b[0m\u001b[1;33m,\u001b[0m\u001b[0mn2\u001b[0m\u001b[1;33m,\u001b[0m\u001b[0mn3\u001b[0m\u001b[1;33m,\u001b[0m\u001b[0mn4\u001b[0m\u001b[1;33m,\u001b[0m\u001b[0mn5\u001b[0m\u001b[1;33m)\u001b[0m\u001b[1;33m\u001b[0m\u001b[1;33m\u001b[0m\u001b[0m\n\u001b[0m",
      "\u001b[1;31mTypeError\u001b[0m: 'tuple' object is not callable"
     ]
    }
   ],
   "source": [
    "nums(n1,n2,n3,n4,n5)"
   ]
  },
  {
   "cell_type": "code",
   "execution_count": 100,
   "id": "dc7f028c",
   "metadata": {},
   "outputs": [],
   "source": [
    "even_nums = (2,4,6,8,10)"
   ]
  },
  {
   "cell_type": "code",
   "execution_count": 101,
   "id": "35905967",
   "metadata": {},
   "outputs": [
    {
     "data": {
      "text/plain": [
       "(2, 4, 6, 8, 10)"
      ]
     },
     "execution_count": 101,
     "metadata": {},
     "output_type": "execute_result"
    }
   ],
   "source": [
    "even_nums"
   ]
  },
  {
   "cell_type": "code",
   "execution_count": 102,
   "id": "181e9fb5",
   "metadata": {},
   "outputs": [
    {
     "data": {
      "text/plain": [
       "8"
      ]
     },
     "execution_count": 102,
     "metadata": {},
     "output_type": "execute_result"
    }
   ],
   "source": [
    "even_nums[3]"
   ]
  },
  {
   "cell_type": "code",
   "execution_count": 103,
   "id": "43f14652",
   "metadata": {},
   "outputs": [
    {
     "data": {
      "text/plain": [
       "10"
      ]
     },
     "execution_count": 103,
     "metadata": {},
     "output_type": "execute_result"
    }
   ],
   "source": [
    "even_nums[-1]"
   ]
  },
  {
   "cell_type": "code",
   "execution_count": 104,
   "id": "5a811a58",
   "metadata": {},
   "outputs": [
    {
     "data": {
      "text/plain": [
       "8"
      ]
     },
     "execution_count": 104,
     "metadata": {},
     "output_type": "execute_result"
    }
   ],
   "source": [
    "even_nums[-2]"
   ]
  },
  {
   "cell_type": "code",
   "execution_count": 105,
   "id": "229de89f",
   "metadata": {},
   "outputs": [
    {
     "data": {
      "text/plain": [
       "6"
      ]
     },
     "execution_count": 105,
     "metadata": {},
     "output_type": "execute_result"
    }
   ],
   "source": [
    "even_nums[-3]"
   ]
  },
  {
   "cell_type": "code",
   "execution_count": 106,
   "id": "6116e5d1",
   "metadata": {},
   "outputs": [],
   "source": [
    "a1,a2,a3,a4,a5 = even_nums"
   ]
  },
  {
   "cell_type": "code",
   "execution_count": 107,
   "id": "2f89d6e2",
   "metadata": {},
   "outputs": [
    {
     "data": {
      "text/plain": [
       "4"
      ]
     },
     "execution_count": 107,
     "metadata": {},
     "output_type": "execute_result"
    }
   ],
   "source": [
    "a2 "
   ]
  },
  {
   "attachments": {
    "image.png": {
     "image/png": "[encoded data removed]"
    }
   },
   "cell_type": "markdown",
   "id": "6e1ee032",
   "metadata": {},
   "source": [
    "# Functions that return multiple values\n",
    "In the previous exercise, you constructed tuples, assigned tuples to variables, and unpacked tuples. Here you will return multiple values from a function using tuples. Let's now update our shout() function to return multiple values. Instead of returning just one string, we will return two strings with the string !!! concatenated to each.\n",
    "\n",
    "Note that the return statement return x, y has the same result as return (x, y): the former actually packs x and y into a tuple under the hood!\n",
    "\n",
    "\n",
    "![image.png](attachment:image.png)"
   ]
  },
  {
   "cell_type": "code",
   "execution_count": 145,
   "id": "633b8f3c",
   "metadata": {},
   "outputs": [],
   "source": [
    "def shout_all(word1, word2):\n",
    "    \n",
    "    \"concatenate the string with arguments\"\n",
    "    \n",
    "    \n",
    "    shout1 = word1 +\"!!!\"\n",
    "    shout2 = word2 + \"!!!\"\n",
    "    \n",
    "    shout_words = (shout1, shout2)\n",
    "    \n",
    "    \n",
    "    return shout_words"
   ]
  },
  {
   "cell_type": "code",
   "execution_count": 146,
   "id": "f2ed98af",
   "metadata": {},
   "outputs": [
    {
     "data": {
      "text/plain": [
       "('Congrats! You!!!', 'passed!!!')"
      ]
     },
     "execution_count": 146,
     "metadata": {},
     "output_type": "execute_result"
    }
   ],
   "source": [
    "shout_all(\"Congrats! You\", \"passed\")"
   ]
  },
  {
   "cell_type": "code",
   "execution_count": 147,
   "id": "3f9111e9",
   "metadata": {},
   "outputs": [],
   "source": [
    "# unpaking tuple\n",
    "\n",
    "yell1, yell2 = shout_all(\"Congrats!\", \"passed\")\n",
    "\n"
   ]
  },
  {
   "cell_type": "code",
   "execution_count": 148,
   "id": "0e8953fe",
   "metadata": {},
   "outputs": [
    {
     "name": "stdout",
     "output_type": "stream",
     "text": [
      "Congrats!!!!\n",
      "passed!!!\n"
     ]
    }
   ],
   "source": [
    "print(yell1)\n",
    "print(yell2)"
   ]
  },
  {
   "attachments": {
    "image.png": {
     "image/png": "[encoded data removed]"
    }
   },
   "cell_type": "markdown",
   "id": "b5915d7a",
   "metadata": {},
   "source": [
    "\n",
    "\n",
    "![image.png](attachment:image.png)\n",
    "# Bringing it all together (1)\n",
    "You've got your first taste of writing your own functions in the previous exercises. You've learned how to add parameters to your own function definitions, return a value or multiple values with tuples, and how to call the functions you've defined.\n",
    "\n",
    "In this and the following exercise, you will bring together all these concepts and apply them to a simple data science problem. You will load a dataset and develop functionalities to extract simple insights from the data.\n",
    "\n",
    "For this exercise, your goal is to recall how to load a dataset into a DataFrame. The dataset contains Twitter data and you will iterate over entries in a column to build a dictionary in which the keys are the names of languages and the values are the number of tweets in the given language. The file tweets.csv is available in your current directory.\n",
    "\n",
    "Be aware that this is real data from Twitter and as such there is always a risk that it may contain profanity or other offensive content (in this exercise, and any following exercises that also use real Twitter data).\n"
   ]
  },
  {
   "cell_type": "code",
   "execution_count": 183,
   "id": "2b9661b8",
   "metadata": {},
   "outputs": [],
   "source": [
    "# Import the pandas package with the alias pd.\n",
    "\n",
    "import pandas as pd"
   ]
  },
  {
   "cell_type": "code",
   "execution_count": 184,
   "id": "d36373eb",
   "metadata": {},
   "outputs": [],
   "source": [
    "# Import the file 'tweets.csv' using the pandas function read_csv(). Assign the resulting DataFrame to df.\n",
    "\n",
    "\n",
    "\n",
    "df = pd.read_csv(\"tweet.csv\")"
   ]
  },
  {
   "cell_type": "code",
   "execution_count": 185,
   "id": "24773525",
   "metadata": {},
   "outputs": [
    {
     "data": {
      "text/html": [
       "<div>\n",
       "<style scoped>\n",
       "    .dataframe tbody tr th:only-of-type {\n",
       "        vertical-align: middle;\n",
       "    }\n",
       "\n",
       "    .dataframe tbody tr th {\n",
       "        vertical-align: top;\n",
       "    }\n",
       "\n",
       "    .dataframe thead th {\n",
       "        text-align: right;\n",
       "    }\n",
       "</style>\n",
       "<table border=\"1\" class=\"dataframe\">\n",
       "  <thead>\n",
       "    <tr style=\"text-align: right;\">\n",
       "      <th></th>\n",
       "      <th>contributors</th>\n",
       "      <th>coordinates</th>\n",
       "      <th>created_at</th>\n",
       "      <th>entities</th>\n",
       "      <th>extended_entities</th>\n",
       "      <th>favorite_count</th>\n",
       "      <th>favorited</th>\n",
       "      <th>filter_level</th>\n",
       "      <th>geo</th>\n",
       "      <th>id</th>\n",
       "      <th>...</th>\n",
       "      <th>quoted_status_id</th>\n",
       "      <th>quoted_status_id_str</th>\n",
       "      <th>retweet_count</th>\n",
       "      <th>retweeted</th>\n",
       "      <th>retweeted_status</th>\n",
       "      <th>source</th>\n",
       "      <th>text</th>\n",
       "      <th>timestamp_ms</th>\n",
       "      <th>truncated</th>\n",
       "      <th>user</th>\n",
       "    </tr>\n",
       "  </thead>\n",
       "  <tbody>\n",
       "    <tr>\n",
       "      <th>0</th>\n",
       "      <td>NaN</td>\n",
       "      <td>NaN</td>\n",
       "      <td>Tue Mar 29 23:40:17 +0000 2016</td>\n",
       "      <td>{'hashtags': [], 'user_mentions': [{'screen_na...</td>\n",
       "      <td>{'media': [{'sizes': {'large': {'w': 1024, 'h'...</td>\n",
       "      <td>0</td>\n",
       "      <td>False</td>\n",
       "      <td>low</td>\n",
       "      <td>NaN</td>\n",
       "      <td>714960401759387648</td>\n",
       "      <td>...</td>\n",
       "      <td>NaN</td>\n",
       "      <td>NaN</td>\n",
       "      <td>0</td>\n",
       "      <td>False</td>\n",
       "      <td>{'retweeted': False, 'text': \".@krollbondratin...</td>\n",
       "      <td>&lt;a href=\"http://twitter.com\" rel=\"nofollow\"&gt;Tw...</td>\n",
       "      <td>RT @bpolitics: .@krollbondrating's Christopher...</td>\n",
       "      <td>1459294817758</td>\n",
       "      <td>False</td>\n",
       "      <td>{'utc_offset': 3600, 'profile_image_url_https'...</td>\n",
       "    </tr>\n",
       "    <tr>\n",
       "      <th>1</th>\n",
       "      <td>NaN</td>\n",
       "      <td>NaN</td>\n",
       "      <td>Tue Mar 29 23:40:17 +0000 2016</td>\n",
       "      <td>{'hashtags': [{'text': 'cruzsexscandal', 'indi...</td>\n",
       "      <td>{'media': [{'sizes': {'large': {'w': 500, 'h':...</td>\n",
       "      <td>0</td>\n",
       "      <td>False</td>\n",
       "      <td>low</td>\n",
       "      <td>NaN</td>\n",
       "      <td>714960401977319424</td>\n",
       "      <td>...</td>\n",
       "      <td>NaN</td>\n",
       "      <td>NaN</td>\n",
       "      <td>0</td>\n",
       "      <td>False</td>\n",
       "      <td>{'retweeted': False, 'text': '@dmartosko Cruz ...</td>\n",
       "      <td>&lt;a href=\"http://twitter.com\" rel=\"nofollow\"&gt;Tw...</td>\n",
       "      <td>RT @HeidiAlpine: @dmartosko Cruz video found.....</td>\n",
       "      <td>1459294817810</td>\n",
       "      <td>False</td>\n",
       "      <td>{'utc_offset': None, 'profile_image_url_https'...</td>\n",
       "    </tr>\n",
       "    <tr>\n",
       "      <th>2</th>\n",
       "      <td>NaN</td>\n",
       "      <td>NaN</td>\n",
       "      <td>Tue Mar 29 23:40:17 +0000 2016</td>\n",
       "      <td>{'hashtags': [], 'user_mentions': [], 'symbols...</td>\n",
       "      <td>NaN</td>\n",
       "      <td>0</td>\n",
       "      <td>False</td>\n",
       "      <td>low</td>\n",
       "      <td>NaN</td>\n",
       "      <td>714960402426236928</td>\n",
       "      <td>...</td>\n",
       "      <td>NaN</td>\n",
       "      <td>NaN</td>\n",
       "      <td>0</td>\n",
       "      <td>False</td>\n",
       "      <td>NaN</td>\n",
       "      <td>&lt;a href=\"http://www.facebook.com/twitter\" rel=...</td>\n",
       "      <td>Njihuni me Zonjën Trump !!! | Ekskluzive https...</td>\n",
       "      <td>1459294817917</td>\n",
       "      <td>False</td>\n",
       "      <td>{'utc_offset': 7200, 'profile_image_url_https'...</td>\n",
       "    </tr>\n",
       "    <tr>\n",
       "      <th>3</th>\n",
       "      <td>NaN</td>\n",
       "      <td>NaN</td>\n",
       "      <td>Tue Mar 29 23:40:17 +0000 2016</td>\n",
       "      <td>{'hashtags': [], 'user_mentions': [], 'symbols...</td>\n",
       "      <td>NaN</td>\n",
       "      <td>0</td>\n",
       "      <td>False</td>\n",
       "      <td>low</td>\n",
       "      <td>NaN</td>\n",
       "      <td>714960402367561730</td>\n",
       "      <td>...</td>\n",
       "      <td>7.149239e+17</td>\n",
       "      <td>7.149239e+17</td>\n",
       "      <td>0</td>\n",
       "      <td>False</td>\n",
       "      <td>NaN</td>\n",
       "      <td>&lt;a href=\"http://twitter.com/download/android\" ...</td>\n",
       "      <td>Your an idiot she shouldn't have tried to grab...</td>\n",
       "      <td>1459294817903</td>\n",
       "      <td>False</td>\n",
       "      <td>{'utc_offset': None, 'profile_image_url_https'...</td>\n",
       "    </tr>\n",
       "    <tr>\n",
       "      <th>4</th>\n",
       "      <td>NaN</td>\n",
       "      <td>NaN</td>\n",
       "      <td>Tue Mar 29 23:40:17 +0000 2016</td>\n",
       "      <td>{'hashtags': [], 'user_mentions': [{'screen_na...</td>\n",
       "      <td>NaN</td>\n",
       "      <td>0</td>\n",
       "      <td>False</td>\n",
       "      <td>low</td>\n",
       "      <td>NaN</td>\n",
       "      <td>714960402149416960</td>\n",
       "      <td>...</td>\n",
       "      <td>NaN</td>\n",
       "      <td>NaN</td>\n",
       "      <td>0</td>\n",
       "      <td>False</td>\n",
       "      <td>{'retweeted': False, 'text': 'The anti-America...</td>\n",
       "      <td>&lt;a href=\"http://twitter.com/download/iphone\" r...</td>\n",
       "      <td>RT @AlanLohner: The anti-American D.C. elites ...</td>\n",
       "      <td>1459294817851</td>\n",
       "      <td>False</td>\n",
       "      <td>{'utc_offset': -18000, 'profile_image_url_http...</td>\n",
       "    </tr>\n",
       "  </tbody>\n",
       "</table>\n",
       "<p>5 rows × 31 columns</p>\n",
       "</div>"
      ],
      "text/plain": [
       "   contributors  coordinates                      created_at  \\\n",
       "0           NaN          NaN  Tue Mar 29 23:40:17 +0000 2016   \n",
       "1           NaN          NaN  Tue Mar 29 23:40:17 +0000 2016   \n",
       "2           NaN          NaN  Tue Mar 29 23:40:17 +0000 2016   \n",
       "3           NaN          NaN  Tue Mar 29 23:40:17 +0000 2016   \n",
       "4           NaN          NaN  Tue Mar 29 23:40:17 +0000 2016   \n",
       "\n",
       "                                            entities  \\\n",
       "0  {'hashtags': [], 'user_mentions': [{'screen_na...   \n",
       "1  {'hashtags': [{'text': 'cruzsexscandal', 'indi...   \n",
       "2  {'hashtags': [], 'user_mentions': [], 'symbols...   \n",
       "3  {'hashtags': [], 'user_mentions': [], 'symbols...   \n",
       "4  {'hashtags': [], 'user_mentions': [{'screen_na...   \n",
       "\n",
       "                                   extended_entities  favorite_count  \\\n",
       "0  {'media': [{'sizes': {'large': {'w': 1024, 'h'...               0   \n",
       "1  {'media': [{'sizes': {'large': {'w': 500, 'h':...               0   \n",
       "2                                                NaN               0   \n",
       "3                                                NaN               0   \n",
       "4                                                NaN               0   \n",
       "\n",
       "   favorited filter_level  geo                  id  ...  quoted_status_id  \\\n",
       "0      False          low  NaN  714960401759387648  ...               NaN   \n",
       "1      False          low  NaN  714960401977319424  ...               NaN   \n",
       "2      False          low  NaN  714960402426236928  ...               NaN   \n",
       "3      False          low  NaN  714960402367561730  ...      7.149239e+17   \n",
       "4      False          low  NaN  714960402149416960  ...               NaN   \n",
       "\n",
       "  quoted_status_id_str  retweet_count  retweeted  \\\n",
       "0                  NaN              0      False   \n",
       "1                  NaN              0      False   \n",
       "2                  NaN              0      False   \n",
       "3         7.149239e+17              0      False   \n",
       "4                  NaN              0      False   \n",
       "\n",
       "                                    retweeted_status  \\\n",
       "0  {'retweeted': False, 'text': \".@krollbondratin...   \n",
       "1  {'retweeted': False, 'text': '@dmartosko Cruz ...   \n",
       "2                                                NaN   \n",
       "3                                                NaN   \n",
       "4  {'retweeted': False, 'text': 'The anti-America...   \n",
       "\n",
       "                                              source  \\\n",
       "0  <a href=\"http://twitter.com\" rel=\"nofollow\">Tw...   \n",
       "1  <a href=\"http://twitter.com\" rel=\"nofollow\">Tw...   \n",
       "2  <a href=\"http://www.facebook.com/twitter\" rel=...   \n",
       "3  <a href=\"http://twitter.com/download/android\" ...   \n",
       "4  <a href=\"http://twitter.com/download/iphone\" r...   \n",
       "\n",
       "                                                text   timestamp_ms truncated  \\\n",
       "0  RT @bpolitics: .@krollbondrating's Christopher...  1459294817758     False   \n",
       "1  RT @HeidiAlpine: @dmartosko Cruz video found.....  1459294817810     False   \n",
       "2  Njihuni me Zonjën Trump !!! | Ekskluzive https...  1459294817917     False   \n",
       "3  Your an idiot she shouldn't have tried to grab...  1459294817903     False   \n",
       "4  RT @AlanLohner: The anti-American D.C. elites ...  1459294817851     False   \n",
       "\n",
       "                                                user  \n",
       "0  {'utc_offset': 3600, 'profile_image_url_https'...  \n",
       "1  {'utc_offset': None, 'profile_image_url_https'...  \n",
       "2  {'utc_offset': 7200, 'profile_image_url_https'...  \n",
       "3  {'utc_offset': None, 'profile_image_url_https'...  \n",
       "4  {'utc_offset': -18000, 'profile_image_url_http...  \n",
       "\n",
       "[5 rows x 31 columns]"
      ]
     },
     "execution_count": 185,
     "metadata": {},
     "output_type": "execute_result"
    }
   ],
   "source": [
    "df.head()"
   ]
  },
  {
   "cell_type": "code",
   "execution_count": 186,
   "id": "aea3f0d7",
   "metadata": {},
   "outputs": [
    {
     "data": {
      "text/html": [
       "<div>\n",
       "<style scoped>\n",
       "    .dataframe tbody tr th:only-of-type {\n",
       "        vertical-align: middle;\n",
       "    }\n",
       "\n",
       "    .dataframe tbody tr th {\n",
       "        vertical-align: top;\n",
       "    }\n",
       "\n",
       "    .dataframe thead th {\n",
       "        text-align: right;\n",
       "    }\n",
       "</style>\n",
       "<table border=\"1\" class=\"dataframe\">\n",
       "  <thead>\n",
       "    <tr style=\"text-align: right;\">\n",
       "      <th></th>\n",
       "      <th>contributors</th>\n",
       "      <th>coordinates</th>\n",
       "      <th>created_at</th>\n",
       "      <th>entities</th>\n",
       "      <th>extended_entities</th>\n",
       "      <th>favorite_count</th>\n",
       "      <th>favorited</th>\n",
       "      <th>filter_level</th>\n",
       "      <th>geo</th>\n",
       "      <th>id</th>\n",
       "      <th>...</th>\n",
       "      <th>quoted_status_id</th>\n",
       "      <th>quoted_status_id_str</th>\n",
       "      <th>retweet_count</th>\n",
       "      <th>retweeted</th>\n",
       "      <th>retweeted_status</th>\n",
       "      <th>source</th>\n",
       "      <th>text</th>\n",
       "      <th>timestamp_ms</th>\n",
       "      <th>truncated</th>\n",
       "      <th>user</th>\n",
       "    </tr>\n",
       "  </thead>\n",
       "  <tbody>\n",
       "    <tr>\n",
       "      <th>95</th>\n",
       "      <td>NaN</td>\n",
       "      <td>NaN</td>\n",
       "      <td>Tue Mar 29 23:40:19 +0000 2016</td>\n",
       "      <td>{'hashtags': [], 'user_mentions': [{'screen_na...</td>\n",
       "      <td>NaN</td>\n",
       "      <td>0</td>\n",
       "      <td>False</td>\n",
       "      <td>low</td>\n",
       "      <td>NaN</td>\n",
       "      <td>714960410345136129</td>\n",
       "      <td>...</td>\n",
       "      <td>NaN</td>\n",
       "      <td>NaN</td>\n",
       "      <td>0</td>\n",
       "      <td>False</td>\n",
       "      <td>{'retweeted': False, 'lang': 'en', 'favorite_c...</td>\n",
       "      <td>&lt;a href=\"http://twitter.com/download/iphone\" r...</td>\n",
       "      <td>RT @claytoncubitt: Stop asking Bernie supporte...</td>\n",
       "      <td>1459294819805</td>\n",
       "      <td>False</td>\n",
       "      <td>{'utc_offset': None, 'profile_image_url_https'...</td>\n",
       "    </tr>\n",
       "    <tr>\n",
       "      <th>96</th>\n",
       "      <td>NaN</td>\n",
       "      <td>NaN</td>\n",
       "      <td>Tue Mar 29 23:40:19 +0000 2016</td>\n",
       "      <td>{'hashtags': [], 'user_mentions': [], 'symbols...</td>\n",
       "      <td>NaN</td>\n",
       "      <td>0</td>\n",
       "      <td>False</td>\n",
       "      <td>low</td>\n",
       "      <td>NaN</td>\n",
       "      <td>714960410181570560</td>\n",
       "      <td>...</td>\n",
       "      <td>7.149602e+17</td>\n",
       "      <td>7.149602e+17</td>\n",
       "      <td>0</td>\n",
       "      <td>False</td>\n",
       "      <td>NaN</td>\n",
       "      <td>&lt;a href=\"http://twitter.com\" rel=\"nofollow\"&gt;Tw...</td>\n",
       "      <td>Kasich is gonna fuck this up for Ted Cruz  htt...</td>\n",
       "      <td>1459294819766</td>\n",
       "      <td>False</td>\n",
       "      <td>{'utc_offset': -18000, 'profile_image_url_http...</td>\n",
       "    </tr>\n",
       "    <tr>\n",
       "      <th>97</th>\n",
       "      <td>NaN</td>\n",
       "      <td>NaN</td>\n",
       "      <td>Tue Mar 29 23:40:19 +0000 2016</td>\n",
       "      <td>{'hashtags': [{'text': 'NeverTrump', 'indices'...</td>\n",
       "      <td>NaN</td>\n",
       "      <td>0</td>\n",
       "      <td>False</td>\n",
       "      <td>low</td>\n",
       "      <td>NaN</td>\n",
       "      <td>714960410332377088</td>\n",
       "      <td>...</td>\n",
       "      <td>NaN</td>\n",
       "      <td>NaN</td>\n",
       "      <td>0</td>\n",
       "      <td>False</td>\n",
       "      <td>{'retweeted': False, 'text': \"Seriously can't ...</td>\n",
       "      <td>&lt;a href=\"http://twitter.com/download/iphone\" r...</td>\n",
       "      <td>RT @akaMaude13: Seriously can't make this up. ...</td>\n",
       "      <td>1459294819802</td>\n",
       "      <td>False</td>\n",
       "      <td>{'utc_offset': None, 'profile_image_url_https'...</td>\n",
       "    </tr>\n",
       "    <tr>\n",
       "      <th>98</th>\n",
       "      <td>NaN</td>\n",
       "      <td>NaN</td>\n",
       "      <td>Tue Mar 29 23:40:19 +0000 2016</td>\n",
       "      <td>{'hashtags': [], 'user_mentions': [], 'symbols...</td>\n",
       "      <td>NaN</td>\n",
       "      <td>0</td>\n",
       "      <td>False</td>\n",
       "      <td>low</td>\n",
       "      <td>NaN</td>\n",
       "      <td>714960410181570560</td>\n",
       "      <td>...</td>\n",
       "      <td>7.149602e+17</td>\n",
       "      <td>7.149602e+17</td>\n",
       "      <td>0</td>\n",
       "      <td>False</td>\n",
       "      <td>NaN</td>\n",
       "      <td>&lt;a href=\"http://twitter.com\" rel=\"nofollow\"&gt;Tw...</td>\n",
       "      <td>Kasich is gonna fuck this up for Ted Cruz  htt...</td>\n",
       "      <td>1459294819766</td>\n",
       "      <td>False</td>\n",
       "      <td>{'utc_offset': -18000, 'profile_image_url_http...</td>\n",
       "    </tr>\n",
       "    <tr>\n",
       "      <th>99</th>\n",
       "      <td>NaN</td>\n",
       "      <td>NaN</td>\n",
       "      <td>Tue Mar 29 23:40:19 +0000 2016</td>\n",
       "      <td>{'hashtags': [], 'user_mentions': [{'screen_na...</td>\n",
       "      <td>NaN</td>\n",
       "      <td>0</td>\n",
       "      <td>False</td>\n",
       "      <td>low</td>\n",
       "      <td>NaN</td>\n",
       "      <td>714960410194018304</td>\n",
       "      <td>...</td>\n",
       "      <td>7.149254e+17</td>\n",
       "      <td>7.149254e+17</td>\n",
       "      <td>0</td>\n",
       "      <td>False</td>\n",
       "      <td>NaN</td>\n",
       "      <td>&lt;a href=\"http://twitter.com/download/iphone\" r...</td>\n",
       "      <td>@marklevinshow try reporting this truth. https...</td>\n",
       "      <td>1459294819769</td>\n",
       "      <td>False</td>\n",
       "      <td>{'utc_offset': -21600, 'profile_image_url_http...</td>\n",
       "    </tr>\n",
       "  </tbody>\n",
       "</table>\n",
       "<p>5 rows × 31 columns</p>\n",
       "</div>"
      ],
      "text/plain": [
       "    contributors  coordinates                      created_at  \\\n",
       "95           NaN          NaN  Tue Mar 29 23:40:19 +0000 2016   \n",
       "96           NaN          NaN  Tue Mar 29 23:40:19 +0000 2016   \n",
       "97           NaN          NaN  Tue Mar 29 23:40:19 +0000 2016   \n",
       "98           NaN          NaN  Tue Mar 29 23:40:19 +0000 2016   \n",
       "99           NaN          NaN  Tue Mar 29 23:40:19 +0000 2016   \n",
       "\n",
       "                                             entities extended_entities  \\\n",
       "95  {'hashtags': [], 'user_mentions': [{'screen_na...               NaN   \n",
       "96  {'hashtags': [], 'user_mentions': [], 'symbols...               NaN   \n",
       "97  {'hashtags': [{'text': 'NeverTrump', 'indices'...               NaN   \n",
       "98  {'hashtags': [], 'user_mentions': [], 'symbols...               NaN   \n",
       "99  {'hashtags': [], 'user_mentions': [{'screen_na...               NaN   \n",
       "\n",
       "    favorite_count  favorited filter_level  geo                  id  ...  \\\n",
       "95               0      False          low  NaN  714960410345136129  ...   \n",
       "96               0      False          low  NaN  714960410181570560  ...   \n",
       "97               0      False          low  NaN  714960410332377088  ...   \n",
       "98               0      False          low  NaN  714960410181570560  ...   \n",
       "99               0      False          low  NaN  714960410194018304  ...   \n",
       "\n",
       "    quoted_status_id quoted_status_id_str  retweet_count  retweeted  \\\n",
       "95               NaN                  NaN              0      False   \n",
       "96      7.149602e+17         7.149602e+17              0      False   \n",
       "97               NaN                  NaN              0      False   \n",
       "98      7.149602e+17         7.149602e+17              0      False   \n",
       "99      7.149254e+17         7.149254e+17              0      False   \n",
       "\n",
       "                                     retweeted_status  \\\n",
       "95  {'retweeted': False, 'lang': 'en', 'favorite_c...   \n",
       "96                                                NaN   \n",
       "97  {'retweeted': False, 'text': \"Seriously can't ...   \n",
       "98                                                NaN   \n",
       "99                                                NaN   \n",
       "\n",
       "                                               source  \\\n",
       "95  <a href=\"http://twitter.com/download/iphone\" r...   \n",
       "96  <a href=\"http://twitter.com\" rel=\"nofollow\">Tw...   \n",
       "97  <a href=\"http://twitter.com/download/iphone\" r...   \n",
       "98  <a href=\"http://twitter.com\" rel=\"nofollow\">Tw...   \n",
       "99  <a href=\"http://twitter.com/download/iphone\" r...   \n",
       "\n",
       "                                                 text   timestamp_ms  \\\n",
       "95  RT @claytoncubitt: Stop asking Bernie supporte...  1459294819805   \n",
       "96  Kasich is gonna fuck this up for Ted Cruz  htt...  1459294819766   \n",
       "97  RT @akaMaude13: Seriously can't make this up. ...  1459294819802   \n",
       "98  Kasich is gonna fuck this up for Ted Cruz  htt...  1459294819766   \n",
       "99  @marklevinshow try reporting this truth. https...  1459294819769   \n",
       "\n",
       "   truncated                                               user  \n",
       "95     False  {'utc_offset': None, 'profile_image_url_https'...  \n",
       "96     False  {'utc_offset': -18000, 'profile_image_url_http...  \n",
       "97     False  {'utc_offset': None, 'profile_image_url_https'...  \n",
       "98     False  {'utc_offset': -18000, 'profile_image_url_http...  \n",
       "99     False  {'utc_offset': -21600, 'profile_image_url_http...  \n",
       "\n",
       "[5 rows x 31 columns]"
      ]
     },
     "execution_count": 186,
     "metadata": {},
     "output_type": "execute_result"
    }
   ],
   "source": [
    "df.tail()"
   ]
  },
  {
   "cell_type": "code",
   "execution_count": 187,
   "id": "480d5c21",
   "metadata": {},
   "outputs": [
    {
     "name": "stdout",
     "output_type": "stream",
     "text": [
      "<class 'pandas.core.frame.DataFrame'>\n",
      "RangeIndex: 100 entries, 0 to 99\n",
      "Data columns (total 31 columns):\n",
      " #   Column                     Non-Null Count  Dtype  \n",
      "---  ------                     --------------  -----  \n",
      " 0   contributors               0 non-null      float64\n",
      " 1   coordinates                0 non-null      float64\n",
      " 2   created_at                 100 non-null    object \n",
      " 3   entities                   100 non-null    object \n",
      " 4   extended_entities          20 non-null     object \n",
      " 5   favorite_count             100 non-null    int64  \n",
      " 6   favorited                  100 non-null    bool   \n",
      " 7   filter_level               100 non-null    object \n",
      " 8   geo                        0 non-null      float64\n",
      " 9   id                         100 non-null    int64  \n",
      " 10  id_str                     100 non-null    int64  \n",
      " 11  in_reply_to_screen_name    11 non-null     object \n",
      " 12  in_reply_to_status_id      8 non-null      float64\n",
      " 13  in_reply_to_status_id_str  8 non-null      float64\n",
      " 14  in_reply_to_user_id        11 non-null     float64\n",
      " 15  in_reply_to_user_id_str    11 non-null     float64\n",
      " 16  is_quote_status            100 non-null    bool   \n",
      " 17  lang                       100 non-null    object \n",
      " 18  place                      3 non-null      object \n",
      " 19  possibly_sensitive         72 non-null     object \n",
      " 20  quoted_status              14 non-null     object \n",
      " 21  quoted_status_id           14 non-null     float64\n",
      " 22  quoted_status_id_str       14 non-null     float64\n",
      " 23  retweet_count              100 non-null    int64  \n",
      " 24  retweeted                  100 non-null    bool   \n",
      " 25  retweeted_status           62 non-null     object \n",
      " 26  source                     100 non-null    object \n",
      " 27  text                       100 non-null    object \n",
      " 28  timestamp_ms               100 non-null    int64  \n",
      " 29  truncated                  100 non-null    bool   \n",
      " 30  user                       100 non-null    object \n",
      "dtypes: bool(4), float64(9), int64(5), object(13)\n",
      "memory usage: 21.6+ KB\n"
     ]
    }
   ],
   "source": [
    "df.info()"
   ]
  },
  {
   "cell_type": "code",
   "execution_count": 188,
   "id": "ec50b7dc",
   "metadata": {},
   "outputs": [
    {
     "data": {
      "text/html": [
       "<div>\n",
       "<style scoped>\n",
       "    .dataframe tbody tr th:only-of-type {\n",
       "        vertical-align: middle;\n",
       "    }\n",
       "\n",
       "    .dataframe tbody tr th {\n",
       "        vertical-align: top;\n",
       "    }\n",
       "\n",
       "    .dataframe thead th {\n",
       "        text-align: right;\n",
       "    }\n",
       "</style>\n",
       "<table border=\"1\" class=\"dataframe\">\n",
       "  <thead>\n",
       "    <tr style=\"text-align: right;\">\n",
       "      <th></th>\n",
       "      <th>contributors</th>\n",
       "      <th>coordinates</th>\n",
       "      <th>favorite_count</th>\n",
       "      <th>geo</th>\n",
       "      <th>id</th>\n",
       "      <th>id_str</th>\n",
       "      <th>in_reply_to_status_id</th>\n",
       "      <th>in_reply_to_status_id_str</th>\n",
       "      <th>in_reply_to_user_id</th>\n",
       "      <th>in_reply_to_user_id_str</th>\n",
       "      <th>quoted_status_id</th>\n",
       "      <th>quoted_status_id_str</th>\n",
       "      <th>retweet_count</th>\n",
       "      <th>timestamp_ms</th>\n",
       "    </tr>\n",
       "  </thead>\n",
       "  <tbody>\n",
       "    <tr>\n",
       "      <th>count</th>\n",
       "      <td>0.0</td>\n",
       "      <td>0.0</td>\n",
       "      <td>100.0</td>\n",
       "      <td>0.0</td>\n",
       "      <td>1.000000e+02</td>\n",
       "      <td>1.000000e+02</td>\n",
       "      <td>8.000000e+00</td>\n",
       "      <td>8.000000e+00</td>\n",
       "      <td>1.100000e+01</td>\n",
       "      <td>1.100000e+01</td>\n",
       "      <td>1.400000e+01</td>\n",
       "      <td>1.400000e+01</td>\n",
       "      <td>100.0</td>\n",
       "      <td>1.000000e+02</td>\n",
       "    </tr>\n",
       "    <tr>\n",
       "      <th>mean</th>\n",
       "      <td>NaN</td>\n",
       "      <td>NaN</td>\n",
       "      <td>0.0</td>\n",
       "      <td>NaN</td>\n",
       "      <td>7.149604e+17</td>\n",
       "      <td>7.149604e+17</td>\n",
       "      <td>7.108866e+17</td>\n",
       "      <td>7.108866e+17</td>\n",
       "      <td>2.990660e+08</td>\n",
       "      <td>2.990660e+08</td>\n",
       "      <td>7.149298e+17</td>\n",
       "      <td>7.149298e+17</td>\n",
       "      <td>0.0</td>\n",
       "      <td>1.459295e+12</td>\n",
       "    </tr>\n",
       "    <tr>\n",
       "      <th>std</th>\n",
       "      <td>NaN</td>\n",
       "      <td>NaN</td>\n",
       "      <td>0.0</td>\n",
       "      <td>NaN</td>\n",
       "      <td>2.466478e+09</td>\n",
       "      <td>2.466478e+09</td>\n",
       "      <td>7.535624e+15</td>\n",
       "      <td>7.535624e+15</td>\n",
       "      <td>7.661897e+08</td>\n",
       "      <td>7.661897e+08</td>\n",
       "      <td>3.357189e+13</td>\n",
       "      <td>3.357189e+13</td>\n",
       "      <td>0.0</td>\n",
       "      <td>5.880544e+02</td>\n",
       "    </tr>\n",
       "    <tr>\n",
       "      <th>min</th>\n",
       "      <td>NaN</td>\n",
       "      <td>NaN</td>\n",
       "      <td>0.0</td>\n",
       "      <td>NaN</td>\n",
       "      <td>7.149604e+17</td>\n",
       "      <td>7.149604e+17</td>\n",
       "      <td>6.986775e+17</td>\n",
       "      <td>6.986775e+17</td>\n",
       "      <td>1.596421e+07</td>\n",
       "      <td>1.596421e+07</td>\n",
       "      <td>7.148444e+17</td>\n",
       "      <td>7.148444e+17</td>\n",
       "      <td>0.0</td>\n",
       "      <td>1.459295e+12</td>\n",
       "    </tr>\n",
       "    <tr>\n",
       "      <th>25%</th>\n",
       "      <td>NaN</td>\n",
       "      <td>NaN</td>\n",
       "      <td>0.0</td>\n",
       "      <td>NaN</td>\n",
       "      <td>7.149604e+17</td>\n",
       "      <td>7.149604e+17</td>\n",
       "      <td>7.108778e+17</td>\n",
       "      <td>7.108778e+17</td>\n",
       "      <td>2.313262e+07</td>\n",
       "      <td>2.313262e+07</td>\n",
       "      <td>7.149182e+17</td>\n",
       "      <td>7.149182e+17</td>\n",
       "      <td>0.0</td>\n",
       "      <td>1.459295e+12</td>\n",
       "    </tr>\n",
       "    <tr>\n",
       "      <th>50%</th>\n",
       "      <td>NaN</td>\n",
       "      <td>NaN</td>\n",
       "      <td>0.0</td>\n",
       "      <td>NaN</td>\n",
       "      <td>7.149604e+17</td>\n",
       "      <td>7.149604e+17</td>\n",
       "      <td>7.149572e+17</td>\n",
       "      <td>7.149572e+17</td>\n",
       "      <td>2.507388e+07</td>\n",
       "      <td>2.507388e+07</td>\n",
       "      <td>7.149246e+17</td>\n",
       "      <td>7.149246e+17</td>\n",
       "      <td>0.0</td>\n",
       "      <td>1.459295e+12</td>\n",
       "    </tr>\n",
       "    <tr>\n",
       "      <th>75%</th>\n",
       "      <td>NaN</td>\n",
       "      <td>NaN</td>\n",
       "      <td>0.0</td>\n",
       "      <td>NaN</td>\n",
       "      <td>7.149604e+17</td>\n",
       "      <td>7.149604e+17</td>\n",
       "      <td>7.149591e+17</td>\n",
       "      <td>7.149591e+17</td>\n",
       "      <td>3.178486e+07</td>\n",
       "      <td>3.178486e+07</td>\n",
       "      <td>7.149599e+17</td>\n",
       "      <td>7.149599e+17</td>\n",
       "      <td>0.0</td>\n",
       "      <td>1.459295e+12</td>\n",
       "    </tr>\n",
       "    <tr>\n",
       "      <th>max</th>\n",
       "      <td>NaN</td>\n",
       "      <td>NaN</td>\n",
       "      <td>0.0</td>\n",
       "      <td>NaN</td>\n",
       "      <td>7.149604e+17</td>\n",
       "      <td>7.149604e+17</td>\n",
       "      <td>7.149600e+17</td>\n",
       "      <td>7.149600e+17</td>\n",
       "      <td>2.567842e+09</td>\n",
       "      <td>2.567842e+09</td>\n",
       "      <td>7.149603e+17</td>\n",
       "      <td>7.149603e+17</td>\n",
       "      <td>0.0</td>\n",
       "      <td>1.459295e+12</td>\n",
       "    </tr>\n",
       "  </tbody>\n",
       "</table>\n",
       "</div>"
      ],
      "text/plain": [
       "       contributors  coordinates  favorite_count  geo            id  \\\n",
       "count           0.0          0.0           100.0  0.0  1.000000e+02   \n",
       "mean            NaN          NaN             0.0  NaN  7.149604e+17   \n",
       "std             NaN          NaN             0.0  NaN  2.466478e+09   \n",
       "min             NaN          NaN             0.0  NaN  7.149604e+17   \n",
       "25%             NaN          NaN             0.0  NaN  7.149604e+17   \n",
       "50%             NaN          NaN             0.0  NaN  7.149604e+17   \n",
       "75%             NaN          NaN             0.0  NaN  7.149604e+17   \n",
       "max             NaN          NaN             0.0  NaN  7.149604e+17   \n",
       "\n",
       "             id_str  in_reply_to_status_id  in_reply_to_status_id_str  \\\n",
       "count  1.000000e+02           8.000000e+00               8.000000e+00   \n",
       "mean   7.149604e+17           7.108866e+17               7.108866e+17   \n",
       "std    2.466478e+09           7.535624e+15               7.535624e+15   \n",
       "min    7.149604e+17           6.986775e+17               6.986775e+17   \n",
       "25%    7.149604e+17           7.108778e+17               7.108778e+17   \n",
       "50%    7.149604e+17           7.149572e+17               7.149572e+17   \n",
       "75%    7.149604e+17           7.149591e+17               7.149591e+17   \n",
       "max    7.149604e+17           7.149600e+17               7.149600e+17   \n",
       "\n",
       "       in_reply_to_user_id  in_reply_to_user_id_str  quoted_status_id  \\\n",
       "count         1.100000e+01             1.100000e+01      1.400000e+01   \n",
       "mean          2.990660e+08             2.990660e+08      7.149298e+17   \n",
       "std           7.661897e+08             7.661897e+08      3.357189e+13   \n",
       "min           1.596421e+07             1.596421e+07      7.148444e+17   \n",
       "25%           2.313262e+07             2.313262e+07      7.149182e+17   \n",
       "50%           2.507388e+07             2.507388e+07      7.149246e+17   \n",
       "75%           3.178486e+07             3.178486e+07      7.149599e+17   \n",
       "max           2.567842e+09             2.567842e+09      7.149603e+17   \n",
       "\n",
       "       quoted_status_id_str  retweet_count  timestamp_ms  \n",
       "count          1.400000e+01          100.0  1.000000e+02  \n",
       "mean           7.149298e+17            0.0  1.459295e+12  \n",
       "std            3.357189e+13            0.0  5.880544e+02  \n",
       "min            7.148444e+17            0.0  1.459295e+12  \n",
       "25%            7.149182e+17            0.0  1.459295e+12  \n",
       "50%            7.149246e+17            0.0  1.459295e+12  \n",
       "75%            7.149599e+17            0.0  1.459295e+12  \n",
       "max            7.149603e+17            0.0  1.459295e+12  "
      ]
     },
     "execution_count": 188,
     "metadata": {},
     "output_type": "execute_result"
    }
   ],
   "source": [
    "df.describe()"
   ]
  },
  {
   "cell_type": "code",
   "execution_count": 189,
   "id": "99133fb2",
   "metadata": {},
   "outputs": [
    {
     "data": {
      "text/plain": [
       "(100, 31)"
      ]
     },
     "execution_count": 189,
     "metadata": {},
     "output_type": "execute_result"
    }
   ],
   "source": [
    "df.shape"
   ]
  },
  {
   "cell_type": "code",
   "execution_count": 190,
   "id": "0ac5bda6",
   "metadata": {},
   "outputs": [
    {
     "name": "stderr",
     "output_type": "stream",
     "text": [
      "C:\\Users\\kaseem\\AppData\\Local\\Temp/ipykernel_13340/3698961737.py:1: FutureWarning: Dropping of nuisance columns in DataFrame reductions (with 'numeric_only=None') is deprecated; in a future version this will raise TypeError.  Select only valid columns before calling the reduction.\n",
      "  df.mean()\n"
     ]
    },
    {
     "data": {
      "text/plain": [
       "contributors                          NaN\n",
       "coordinates                           NaN\n",
       "favorite_count               0.000000e+00\n",
       "favorited                    0.000000e+00\n",
       "geo                                   NaN\n",
       "id                           7.149604e+17\n",
       "id_str                       7.149604e+17\n",
       "in_reply_to_status_id        7.108866e+17\n",
       "in_reply_to_status_id_str    7.108866e+17\n",
       "in_reply_to_user_id          2.990660e+08\n",
       "in_reply_to_user_id_str      2.990660e+08\n",
       "is_quote_status              2.400000e-01\n",
       "possibly_sensitive           2.777778e-02\n",
       "quoted_status_id             7.149298e+17\n",
       "quoted_status_id_str         7.149298e+17\n",
       "retweet_count                0.000000e+00\n",
       "retweeted                    0.000000e+00\n",
       "timestamp_ms                 1.459295e+12\n",
       "truncated                    0.000000e+00\n",
       "dtype: float64"
      ]
     },
     "execution_count": 190,
     "metadata": {},
     "output_type": "execute_result"
    }
   ],
   "source": [
    "df.mean()"
   ]
  },
  {
   "cell_type": "code",
   "execution_count": 191,
   "id": "bd0b1510",
   "metadata": {},
   "outputs": [
    {
     "name": "stderr",
     "output_type": "stream",
     "text": [
      "C:\\Users\\kaseem\\AppData\\Local\\Temp/ipykernel_13340/530051474.py:1: FutureWarning: Dropping of nuisance columns in DataFrame reductions (with 'numeric_only=None') is deprecated; in a future version this will raise TypeError.  Select only valid columns before calling the reduction.\n",
      "  df.median()\n"
     ]
    },
    {
     "data": {
      "text/plain": [
       "contributors                          NaN\n",
       "coordinates                           NaN\n",
       "favorite_count               0.000000e+00\n",
       "favorited                    0.000000e+00\n",
       "geo                                   NaN\n",
       "id                           7.149604e+17\n",
       "id_str                       7.149604e+17\n",
       "in_reply_to_status_id        7.149572e+17\n",
       "in_reply_to_status_id_str    7.149572e+17\n",
       "in_reply_to_user_id          2.507388e+07\n",
       "in_reply_to_user_id_str      2.507388e+07\n",
       "is_quote_status              0.000000e+00\n",
       "possibly_sensitive           0.000000e+00\n",
       "quoted_status_id             7.149246e+17\n",
       "quoted_status_id_str         7.149246e+17\n",
       "retweet_count                0.000000e+00\n",
       "retweeted                    0.000000e+00\n",
       "timestamp_ms                 1.459295e+12\n",
       "truncated                    0.000000e+00\n",
       "dtype: float64"
      ]
     },
     "execution_count": 191,
     "metadata": {},
     "output_type": "execute_result"
    }
   ],
   "source": [
    "df.median()"
   ]
  },
  {
   "cell_type": "code",
   "execution_count": 192,
   "id": "85f04fef",
   "metadata": {},
   "outputs": [
    {
     "name": "stderr",
     "output_type": "stream",
     "text": [
      "C:\\Users\\kaseem\\AppData\\Local\\Temp/ipykernel_13340/3390915376.py:1: FutureWarning: Dropping of nuisance columns in DataFrame reductions (with 'numeric_only=None') is deprecated; in a future version this will raise TypeError.  Select only valid columns before calling the reduction.\n",
      "  df.std()\n"
     ]
    },
    {
     "data": {
      "text/plain": [
       "contributors                          NaN\n",
       "coordinates                           NaN\n",
       "favorite_count               0.000000e+00\n",
       "favorited                    0.000000e+00\n",
       "geo                                   NaN\n",
       "id                           2.466478e+09\n",
       "id_str                       2.466478e+09\n",
       "in_reply_to_status_id        7.535624e+15\n",
       "in_reply_to_status_id_str    7.535624e+15\n",
       "in_reply_to_user_id          7.661897e+08\n",
       "in_reply_to_user_id_str      7.661897e+08\n",
       "is_quote_status              4.292347e-01\n",
       "possibly_sensitive           1.654888e-01\n",
       "quoted_status_id             3.357189e+13\n",
       "quoted_status_id_str         3.357189e+13\n",
       "retweet_count                0.000000e+00\n",
       "retweeted                    0.000000e+00\n",
       "timestamp_ms                 5.880544e+02\n",
       "truncated                    0.000000e+00\n",
       "dtype: float64"
      ]
     },
     "execution_count": 192,
     "metadata": {},
     "output_type": "execute_result"
    }
   ],
   "source": [
    "df.std()"
   ]
  },
  {
   "cell_type": "code",
   "execution_count": 193,
   "id": "93f50070",
   "metadata": {},
   "outputs": [
    {
     "data": {
      "text/html": [
       "<div>\n",
       "<style scoped>\n",
       "    .dataframe tbody tr th:only-of-type {\n",
       "        vertical-align: middle;\n",
       "    }\n",
       "\n",
       "    .dataframe tbody tr th {\n",
       "        vertical-align: top;\n",
       "    }\n",
       "\n",
       "    .dataframe thead th {\n",
       "        text-align: right;\n",
       "    }\n",
       "</style>\n",
       "<table border=\"1\" class=\"dataframe\">\n",
       "  <thead>\n",
       "    <tr style=\"text-align: right;\">\n",
       "      <th></th>\n",
       "      <th>contributors</th>\n",
       "      <th>coordinates</th>\n",
       "      <th>created_at</th>\n",
       "      <th>entities</th>\n",
       "      <th>extended_entities</th>\n",
       "      <th>favorite_count</th>\n",
       "      <th>favorited</th>\n",
       "      <th>filter_level</th>\n",
       "      <th>geo</th>\n",
       "      <th>id</th>\n",
       "      <th>...</th>\n",
       "      <th>quoted_status_id</th>\n",
       "      <th>quoted_status_id_str</th>\n",
       "      <th>retweet_count</th>\n",
       "      <th>retweeted</th>\n",
       "      <th>retweeted_status</th>\n",
       "      <th>source</th>\n",
       "      <th>text</th>\n",
       "      <th>timestamp_ms</th>\n",
       "      <th>truncated</th>\n",
       "      <th>user</th>\n",
       "    </tr>\n",
       "  </thead>\n",
       "  <tbody>\n",
       "    <tr>\n",
       "      <th>0</th>\n",
       "      <td>NaN</td>\n",
       "      <td>NaN</td>\n",
       "      <td>Tue Mar 29 23:40:18 +0000 2016</td>\n",
       "      <td>{'hashtags': [], 'user_mentions': [{'screen_na...</td>\n",
       "      <td>{'media': [{'sizes': {'large': {'w': 1024, 'h'...</td>\n",
       "      <td>0.0</td>\n",
       "      <td>False</td>\n",
       "      <td>low</td>\n",
       "      <td>NaN</td>\n",
       "      <td>7.149604e+17</td>\n",
       "      <td>...</td>\n",
       "      <td>7.149182e+17</td>\n",
       "      <td>7.149182e+17</td>\n",
       "      <td>0.0</td>\n",
       "      <td>False</td>\n",
       "      <td>{'retweeted': False, 'lang': 'en', 'favorite_c...</td>\n",
       "      <td>&lt;a href=\"http://twitter.com/download/iphone\" r...</td>\n",
       "      <td>RT @ggreenwald: The media spent all day claimi...</td>\n",
       "      <td>1459294817758</td>\n",
       "      <td>False</td>\n",
       "      <td>{'utc_offset': -14400, 'profile_image_url_http...</td>\n",
       "    </tr>\n",
       "    <tr>\n",
       "      <th>1</th>\n",
       "      <td>NaN</td>\n",
       "      <td>NaN</td>\n",
       "      <td>NaN</td>\n",
       "      <td>NaN</td>\n",
       "      <td>{'media': [{'sizes': {'large': {'w': 384, 'h':...</td>\n",
       "      <td>NaN</td>\n",
       "      <td>NaN</td>\n",
       "      <td>NaN</td>\n",
       "      <td>NaN</td>\n",
       "      <td>7.149604e+17</td>\n",
       "      <td>...</td>\n",
       "      <td>7.149239e+17</td>\n",
       "      <td>7.149239e+17</td>\n",
       "      <td>NaN</td>\n",
       "      <td>NaN</td>\n",
       "      <td>{'retweeted': False, 'lang': 'en', 'favorite_c...</td>\n",
       "      <td>NaN</td>\n",
       "      <td>NaN</td>\n",
       "      <td>1459294817870</td>\n",
       "      <td>NaN</td>\n",
       "      <td>{'utc_offset': -14400, 'profile_image_url_http...</td>\n",
       "    </tr>\n",
       "    <tr>\n",
       "      <th>2</th>\n",
       "      <td>NaN</td>\n",
       "      <td>NaN</td>\n",
       "      <td>NaN</td>\n",
       "      <td>NaN</td>\n",
       "      <td>{'media': [{'sizes': {'large': {'w': 476, 'h':...</td>\n",
       "      <td>NaN</td>\n",
       "      <td>NaN</td>\n",
       "      <td>NaN</td>\n",
       "      <td>NaN</td>\n",
       "      <td>7.149604e+17</td>\n",
       "      <td>...</td>\n",
       "      <td>7.149590e+17</td>\n",
       "      <td>7.149590e+17</td>\n",
       "      <td>NaN</td>\n",
       "      <td>NaN</td>\n",
       "      <td>{'retweeted': False, 'lang': 'en', 'favorite_c...</td>\n",
       "      <td>NaN</td>\n",
       "      <td>NaN</td>\n",
       "      <td>1459294817882</td>\n",
       "      <td>NaN</td>\n",
       "      <td>{'utc_offset': -14400, 'profile_image_url_http...</td>\n",
       "    </tr>\n",
       "    <tr>\n",
       "      <th>3</th>\n",
       "      <td>NaN</td>\n",
       "      <td>NaN</td>\n",
       "      <td>NaN</td>\n",
       "      <td>NaN</td>\n",
       "      <td>{'media': [{'sizes': {'large': {'w': 500, 'h':...</td>\n",
       "      <td>NaN</td>\n",
       "      <td>NaN</td>\n",
       "      <td>NaN</td>\n",
       "      <td>NaN</td>\n",
       "      <td>7.149604e+17</td>\n",
       "      <td>...</td>\n",
       "      <td>7.149602e+17</td>\n",
       "      <td>7.149602e+17</td>\n",
       "      <td>NaN</td>\n",
       "      <td>NaN</td>\n",
       "      <td>{'retweeted': False, 'lang': 'en', 'favorite_c...</td>\n",
       "      <td>NaN</td>\n",
       "      <td>NaN</td>\n",
       "      <td>1459294817903</td>\n",
       "      <td>NaN</td>\n",
       "      <td>{'utc_offset': -14400, 'profile_image_url_http...</td>\n",
       "    </tr>\n",
       "    <tr>\n",
       "      <th>4</th>\n",
       "      <td>NaN</td>\n",
       "      <td>NaN</td>\n",
       "      <td>NaN</td>\n",
       "      <td>NaN</td>\n",
       "      <td>{'media': [{'sizes': {'large': {'w': 508, 'h':...</td>\n",
       "      <td>NaN</td>\n",
       "      <td>NaN</td>\n",
       "      <td>NaN</td>\n",
       "      <td>NaN</td>\n",
       "      <td>7.149604e+17</td>\n",
       "      <td>...</td>\n",
       "      <td>7.149603e+17</td>\n",
       "      <td>7.149603e+17</td>\n",
       "      <td>NaN</td>\n",
       "      <td>NaN</td>\n",
       "      <td>{'retweeted': False, 'lang': 'en', 'favorite_c...</td>\n",
       "      <td>NaN</td>\n",
       "      <td>NaN</td>\n",
       "      <td>1459294818004</td>\n",
       "      <td>NaN</td>\n",
       "      <td>{'utc_offset': -18000, 'profile_image_url_http...</td>\n",
       "    </tr>\n",
       "    <tr>\n",
       "      <th>5</th>\n",
       "      <td>NaN</td>\n",
       "      <td>NaN</td>\n",
       "      <td>NaN</td>\n",
       "      <td>NaN</td>\n",
       "      <td>{'media': [{'sizes': {'large': {'w': 573, 'h':...</td>\n",
       "      <td>NaN</td>\n",
       "      <td>NaN</td>\n",
       "      <td>NaN</td>\n",
       "      <td>NaN</td>\n",
       "      <td>7.149604e+17</td>\n",
       "      <td>...</td>\n",
       "      <td>NaN</td>\n",
       "      <td>NaN</td>\n",
       "      <td>NaN</td>\n",
       "      <td>NaN</td>\n",
       "      <td>{'retweeted': False, 'lang': 'en', 'favorite_c...</td>\n",
       "      <td>NaN</td>\n",
       "      <td>NaN</td>\n",
       "      <td>1459294818018</td>\n",
       "      <td>NaN</td>\n",
       "      <td>{'utc_offset': -18000, 'profile_image_url_http...</td>\n",
       "    </tr>\n",
       "    <tr>\n",
       "      <th>6</th>\n",
       "      <td>NaN</td>\n",
       "      <td>NaN</td>\n",
       "      <td>NaN</td>\n",
       "      <td>NaN</td>\n",
       "      <td>{'media': [{'sizes': {'large': {'w': 591, 'h':...</td>\n",
       "      <td>NaN</td>\n",
       "      <td>NaN</td>\n",
       "      <td>NaN</td>\n",
       "      <td>NaN</td>\n",
       "      <td>7.149604e+17</td>\n",
       "      <td>...</td>\n",
       "      <td>NaN</td>\n",
       "      <td>NaN</td>\n",
       "      <td>NaN</td>\n",
       "      <td>NaN</td>\n",
       "      <td>{'retweeted': False, 'lang': 'en', 'favorite_c...</td>\n",
       "      <td>NaN</td>\n",
       "      <td>NaN</td>\n",
       "      <td>1459294818019</td>\n",
       "      <td>NaN</td>\n",
       "      <td>{'utc_offset': -25200, 'profile_image_url_http...</td>\n",
       "    </tr>\n",
       "    <tr>\n",
       "      <th>7</th>\n",
       "      <td>NaN</td>\n",
       "      <td>NaN</td>\n",
       "      <td>NaN</td>\n",
       "      <td>NaN</td>\n",
       "      <td>NaN</td>\n",
       "      <td>NaN</td>\n",
       "      <td>NaN</td>\n",
       "      <td>NaN</td>\n",
       "      <td>NaN</td>\n",
       "      <td>7.149604e+17</td>\n",
       "      <td>...</td>\n",
       "      <td>NaN</td>\n",
       "      <td>NaN</td>\n",
       "      <td>NaN</td>\n",
       "      <td>NaN</td>\n",
       "      <td>{'retweeted': False, 'lang': 'en', 'favorite_c...</td>\n",
       "      <td>NaN</td>\n",
       "      <td>NaN</td>\n",
       "      <td>1459294818024</td>\n",
       "      <td>NaN</td>\n",
       "      <td>{'utc_offset': -25200, 'profile_image_url_http...</td>\n",
       "    </tr>\n",
       "    <tr>\n",
       "      <th>8</th>\n",
       "      <td>NaN</td>\n",
       "      <td>NaN</td>\n",
       "      <td>NaN</td>\n",
       "      <td>NaN</td>\n",
       "      <td>NaN</td>\n",
       "      <td>NaN</td>\n",
       "      <td>NaN</td>\n",
       "      <td>NaN</td>\n",
       "      <td>NaN</td>\n",
       "      <td>7.149604e+17</td>\n",
       "      <td>...</td>\n",
       "      <td>NaN</td>\n",
       "      <td>NaN</td>\n",
       "      <td>NaN</td>\n",
       "      <td>NaN</td>\n",
       "      <td>{'retweeted': False, 'lang': 'en', 'favorite_c...</td>\n",
       "      <td>NaN</td>\n",
       "      <td>NaN</td>\n",
       "      <td>1459294818080</td>\n",
       "      <td>NaN</td>\n",
       "      <td>{'utc_offset': -25200, 'profile_image_url_http...</td>\n",
       "    </tr>\n",
       "    <tr>\n",
       "      <th>9</th>\n",
       "      <td>NaN</td>\n",
       "      <td>NaN</td>\n",
       "      <td>NaN</td>\n",
       "      <td>NaN</td>\n",
       "      <td>NaN</td>\n",
       "      <td>NaN</td>\n",
       "      <td>NaN</td>\n",
       "      <td>NaN</td>\n",
       "      <td>NaN</td>\n",
       "      <td>7.149604e+17</td>\n",
       "      <td>...</td>\n",
       "      <td>NaN</td>\n",
       "      <td>NaN</td>\n",
       "      <td>NaN</td>\n",
       "      <td>NaN</td>\n",
       "      <td>{'retweeted': False, 'lang': 'en', 'favorite_c...</td>\n",
       "      <td>NaN</td>\n",
       "      <td>NaN</td>\n",
       "      <td>1459294818081</td>\n",
       "      <td>NaN</td>\n",
       "      <td>{'utc_offset': -25200, 'profile_image_url_http...</td>\n",
       "    </tr>\n",
       "    <tr>\n",
       "      <th>10</th>\n",
       "      <td>NaN</td>\n",
       "      <td>NaN</td>\n",
       "      <td>NaN</td>\n",
       "      <td>NaN</td>\n",
       "      <td>NaN</td>\n",
       "      <td>NaN</td>\n",
       "      <td>NaN</td>\n",
       "      <td>NaN</td>\n",
       "      <td>NaN</td>\n",
       "      <td>7.149604e+17</td>\n",
       "      <td>...</td>\n",
       "      <td>NaN</td>\n",
       "      <td>NaN</td>\n",
       "      <td>NaN</td>\n",
       "      <td>NaN</td>\n",
       "      <td>{'retweeted': False, 'lang': 'en', 'favorite_c...</td>\n",
       "      <td>NaN</td>\n",
       "      <td>NaN</td>\n",
       "      <td>1459294818123</td>\n",
       "      <td>NaN</td>\n",
       "      <td>{'utc_offset': -25200, 'profile_image_url_http...</td>\n",
       "    </tr>\n",
       "    <tr>\n",
       "      <th>11</th>\n",
       "      <td>NaN</td>\n",
       "      <td>NaN</td>\n",
       "      <td>NaN</td>\n",
       "      <td>NaN</td>\n",
       "      <td>NaN</td>\n",
       "      <td>NaN</td>\n",
       "      <td>NaN</td>\n",
       "      <td>NaN</td>\n",
       "      <td>NaN</td>\n",
       "      <td>7.149604e+17</td>\n",
       "      <td>...</td>\n",
       "      <td>NaN</td>\n",
       "      <td>NaN</td>\n",
       "      <td>NaN</td>\n",
       "      <td>NaN</td>\n",
       "      <td>{'retweeted': False, 'lang': 'en', 'favorite_c...</td>\n",
       "      <td>NaN</td>\n",
       "      <td>NaN</td>\n",
       "      <td>1459294818133</td>\n",
       "      <td>NaN</td>\n",
       "      <td>{'utc_offset': -36000, 'profile_image_url_http...</td>\n",
       "    </tr>\n",
       "    <tr>\n",
       "      <th>12</th>\n",
       "      <td>NaN</td>\n",
       "      <td>NaN</td>\n",
       "      <td>NaN</td>\n",
       "      <td>NaN</td>\n",
       "      <td>NaN</td>\n",
       "      <td>NaN</td>\n",
       "      <td>NaN</td>\n",
       "      <td>NaN</td>\n",
       "      <td>NaN</td>\n",
       "      <td>7.149604e+17</td>\n",
       "      <td>...</td>\n",
       "      <td>NaN</td>\n",
       "      <td>NaN</td>\n",
       "      <td>NaN</td>\n",
       "      <td>NaN</td>\n",
       "      <td>{'retweeted': False, 'lang': 'en', 'favorite_c...</td>\n",
       "      <td>NaN</td>\n",
       "      <td>NaN</td>\n",
       "      <td>1459294818231</td>\n",
       "      <td>NaN</td>\n",
       "      <td>{'utc_offset': 10800, 'profile_image_url_https...</td>\n",
       "    </tr>\n",
       "    <tr>\n",
       "      <th>13</th>\n",
       "      <td>NaN</td>\n",
       "      <td>NaN</td>\n",
       "      <td>NaN</td>\n",
       "      <td>NaN</td>\n",
       "      <td>NaN</td>\n",
       "      <td>NaN</td>\n",
       "      <td>NaN</td>\n",
       "      <td>NaN</td>\n",
       "      <td>NaN</td>\n",
       "      <td>7.149604e+17</td>\n",
       "      <td>...</td>\n",
       "      <td>NaN</td>\n",
       "      <td>NaN</td>\n",
       "      <td>NaN</td>\n",
       "      <td>NaN</td>\n",
       "      <td>{'retweeted': False, 'lang': 'en', 'favorite_c...</td>\n",
       "      <td>NaN</td>\n",
       "      <td>NaN</td>\n",
       "      <td>1459294818392</td>\n",
       "      <td>NaN</td>\n",
       "      <td>{'utc_offset': None, 'profile_image_url_https'...</td>\n",
       "    </tr>\n",
       "    <tr>\n",
       "      <th>14</th>\n",
       "      <td>NaN</td>\n",
       "      <td>NaN</td>\n",
       "      <td>NaN</td>\n",
       "      <td>NaN</td>\n",
       "      <td>NaN</td>\n",
       "      <td>NaN</td>\n",
       "      <td>NaN</td>\n",
       "      <td>NaN</td>\n",
       "      <td>NaN</td>\n",
       "      <td>7.149604e+17</td>\n",
       "      <td>...</td>\n",
       "      <td>NaN</td>\n",
       "      <td>NaN</td>\n",
       "      <td>NaN</td>\n",
       "      <td>NaN</td>\n",
       "      <td>{'retweeted': False, 'text': \"Thank God I seen...</td>\n",
       "      <td>NaN</td>\n",
       "      <td>NaN</td>\n",
       "      <td>1459294818638</td>\n",
       "      <td>NaN</td>\n",
       "      <td>{'utc_offset': None, 'profile_image_url_https'...</td>\n",
       "    </tr>\n",
       "    <tr>\n",
       "      <th>15</th>\n",
       "      <td>NaN</td>\n",
       "      <td>NaN</td>\n",
       "      <td>NaN</td>\n",
       "      <td>NaN</td>\n",
       "      <td>NaN</td>\n",
       "      <td>NaN</td>\n",
       "      <td>NaN</td>\n",
       "      <td>NaN</td>\n",
       "      <td>NaN</td>\n",
       "      <td>7.149604e+17</td>\n",
       "      <td>...</td>\n",
       "      <td>NaN</td>\n",
       "      <td>NaN</td>\n",
       "      <td>NaN</td>\n",
       "      <td>NaN</td>\n",
       "      <td>{'retweeted': False, 'text': \"Trump's idiosync...</td>\n",
       "      <td>NaN</td>\n",
       "      <td>NaN</td>\n",
       "      <td>1459294818733</td>\n",
       "      <td>NaN</td>\n",
       "      <td>{'utc_offset': None, 'profile_image_url_https'...</td>\n",
       "    </tr>\n",
       "    <tr>\n",
       "      <th>16</th>\n",
       "      <td>NaN</td>\n",
       "      <td>NaN</td>\n",
       "      <td>NaN</td>\n",
       "      <td>NaN</td>\n",
       "      <td>NaN</td>\n",
       "      <td>NaN</td>\n",
       "      <td>NaN</td>\n",
       "      <td>NaN</td>\n",
       "      <td>NaN</td>\n",
       "      <td>7.149604e+17</td>\n",
       "      <td>...</td>\n",
       "      <td>NaN</td>\n",
       "      <td>NaN</td>\n",
       "      <td>NaN</td>\n",
       "      <td>NaN</td>\n",
       "      <td>{'retweeted': False, 'text': '@realDonaldTrump...</td>\n",
       "      <td>NaN</td>\n",
       "      <td>NaN</td>\n",
       "      <td>1459294818820</td>\n",
       "      <td>NaN</td>\n",
       "      <td>{'utc_offset': None, 'profile_image_url_https'...</td>\n",
       "    </tr>\n",
       "    <tr>\n",
       "      <th>17</th>\n",
       "      <td>NaN</td>\n",
       "      <td>NaN</td>\n",
       "      <td>NaN</td>\n",
       "      <td>NaN</td>\n",
       "      <td>NaN</td>\n",
       "      <td>NaN</td>\n",
       "      <td>NaN</td>\n",
       "      <td>NaN</td>\n",
       "      <td>NaN</td>\n",
       "      <td>7.149604e+17</td>\n",
       "      <td>...</td>\n",
       "      <td>NaN</td>\n",
       "      <td>NaN</td>\n",
       "      <td>NaN</td>\n",
       "      <td>NaN</td>\n",
       "      <td>{'retweeted': False, 'text': 'How #Trump Sacks...</td>\n",
       "      <td>NaN</td>\n",
       "      <td>NaN</td>\n",
       "      <td>1459294818844</td>\n",
       "      <td>NaN</td>\n",
       "      <td>{'utc_offset': None, 'profile_image_url_https'...</td>\n",
       "    </tr>\n",
       "    <tr>\n",
       "      <th>18</th>\n",
       "      <td>NaN</td>\n",
       "      <td>NaN</td>\n",
       "      <td>NaN</td>\n",
       "      <td>NaN</td>\n",
       "      <td>NaN</td>\n",
       "      <td>NaN</td>\n",
       "      <td>NaN</td>\n",
       "      <td>NaN</td>\n",
       "      <td>NaN</td>\n",
       "      <td>7.149604e+17</td>\n",
       "      <td>...</td>\n",
       "      <td>NaN</td>\n",
       "      <td>NaN</td>\n",
       "      <td>NaN</td>\n",
       "      <td>NaN</td>\n",
       "      <td>{'retweeted': False, 'text': 'RT for Brendon U...</td>\n",
       "      <td>NaN</td>\n",
       "      <td>NaN</td>\n",
       "      <td>1459294818862</td>\n",
       "      <td>NaN</td>\n",
       "      <td>{'utc_offset': None, 'profile_image_url_https'...</td>\n",
       "    </tr>\n",
       "    <tr>\n",
       "      <th>19</th>\n",
       "      <td>NaN</td>\n",
       "      <td>NaN</td>\n",
       "      <td>NaN</td>\n",
       "      <td>NaN</td>\n",
       "      <td>NaN</td>\n",
       "      <td>NaN</td>\n",
       "      <td>NaN</td>\n",
       "      <td>NaN</td>\n",
       "      <td>NaN</td>\n",
       "      <td>7.149604e+17</td>\n",
       "      <td>...</td>\n",
       "      <td>NaN</td>\n",
       "      <td>NaN</td>\n",
       "      <td>NaN</td>\n",
       "      <td>NaN</td>\n",
       "      <td>{'retweeted': False, 'text': 'RT for Jerrie (L...</td>\n",
       "      <td>NaN</td>\n",
       "      <td>NaN</td>\n",
       "      <td>1459294818893</td>\n",
       "      <td>NaN</td>\n",
       "      <td>{'utc_offset': None, 'profile_image_url_https'...</td>\n",
       "    </tr>\n",
       "    <tr>\n",
       "      <th>20</th>\n",
       "      <td>NaN</td>\n",
       "      <td>NaN</td>\n",
       "      <td>NaN</td>\n",
       "      <td>NaN</td>\n",
       "      <td>NaN</td>\n",
       "      <td>NaN</td>\n",
       "      <td>NaN</td>\n",
       "      <td>NaN</td>\n",
       "      <td>NaN</td>\n",
       "      <td>7.149604e+17</td>\n",
       "      <td>...</td>\n",
       "      <td>NaN</td>\n",
       "      <td>NaN</td>\n",
       "      <td>NaN</td>\n",
       "      <td>NaN</td>\n",
       "      <td>{'retweeted': False, 'text': 'Remember when th...</td>\n",
       "      <td>NaN</td>\n",
       "      <td>NaN</td>\n",
       "      <td>1459294818943</td>\n",
       "      <td>NaN</td>\n",
       "      <td>{'utc_offset': None, 'profile_image_url_https'...</td>\n",
       "    </tr>\n",
       "    <tr>\n",
       "      <th>21</th>\n",
       "      <td>NaN</td>\n",
       "      <td>NaN</td>\n",
       "      <td>NaN</td>\n",
       "      <td>NaN</td>\n",
       "      <td>NaN</td>\n",
       "      <td>NaN</td>\n",
       "      <td>NaN</td>\n",
       "      <td>NaN</td>\n",
       "      <td>NaN</td>\n",
       "      <td>7.149604e+17</td>\n",
       "      <td>...</td>\n",
       "      <td>NaN</td>\n",
       "      <td>NaN</td>\n",
       "      <td>NaN</td>\n",
       "      <td>NaN</td>\n",
       "      <td>{'retweeted': False, 'text': 'The media spent ...</td>\n",
       "      <td>NaN</td>\n",
       "      <td>NaN</td>\n",
       "      <td>1459294818948</td>\n",
       "      <td>NaN</td>\n",
       "      <td>{'utc_offset': None, 'profile_image_url_https'...</td>\n",
       "    </tr>\n",
       "    <tr>\n",
       "      <th>22</th>\n",
       "      <td>NaN</td>\n",
       "      <td>NaN</td>\n",
       "      <td>NaN</td>\n",
       "      <td>NaN</td>\n",
       "      <td>NaN</td>\n",
       "      <td>NaN</td>\n",
       "      <td>NaN</td>\n",
       "      <td>NaN</td>\n",
       "      <td>NaN</td>\n",
       "      <td>7.149604e+17</td>\n",
       "      <td>...</td>\n",
       "      <td>NaN</td>\n",
       "      <td>NaN</td>\n",
       "      <td>NaN</td>\n",
       "      <td>NaN</td>\n",
       "      <td>{'retweeted': False, 'text': 'This is how I se...</td>\n",
       "      <td>NaN</td>\n",
       "      <td>NaN</td>\n",
       "      <td>1459294818965</td>\n",
       "      <td>NaN</td>\n",
       "      <td>{'utc_offset': None, 'profile_image_url_https'...</td>\n",
       "    </tr>\n",
       "    <tr>\n",
       "      <th>23</th>\n",
       "      <td>NaN</td>\n",
       "      <td>NaN</td>\n",
       "      <td>NaN</td>\n",
       "      <td>NaN</td>\n",
       "      <td>NaN</td>\n",
       "      <td>NaN</td>\n",
       "      <td>NaN</td>\n",
       "      <td>NaN</td>\n",
       "      <td>NaN</td>\n",
       "      <td>7.149604e+17</td>\n",
       "      <td>...</td>\n",
       "      <td>NaN</td>\n",
       "      <td>NaN</td>\n",
       "      <td>NaN</td>\n",
       "      <td>NaN</td>\n",
       "      <td>NaN</td>\n",
       "      <td>NaN</td>\n",
       "      <td>NaN</td>\n",
       "      <td>1459294818966</td>\n",
       "      <td>NaN</td>\n",
       "      <td>{'utc_offset': None, 'profile_image_url_https'...</td>\n",
       "    </tr>\n",
       "    <tr>\n",
       "      <th>24</th>\n",
       "      <td>NaN</td>\n",
       "      <td>NaN</td>\n",
       "      <td>NaN</td>\n",
       "      <td>NaN</td>\n",
       "      <td>NaN</td>\n",
       "      <td>NaN</td>\n",
       "      <td>NaN</td>\n",
       "      <td>NaN</td>\n",
       "      <td>NaN</td>\n",
       "      <td>7.149604e+17</td>\n",
       "      <td>...</td>\n",
       "      <td>NaN</td>\n",
       "      <td>NaN</td>\n",
       "      <td>NaN</td>\n",
       "      <td>NaN</td>\n",
       "      <td>NaN</td>\n",
       "      <td>NaN</td>\n",
       "      <td>NaN</td>\n",
       "      <td>1459294818995</td>\n",
       "      <td>NaN</td>\n",
       "      <td>{'utc_offset': None, 'profile_image_url_https'...</td>\n",
       "    </tr>\n",
       "    <tr>\n",
       "      <th>25</th>\n",
       "      <td>NaN</td>\n",
       "      <td>NaN</td>\n",
       "      <td>NaN</td>\n",
       "      <td>NaN</td>\n",
       "      <td>NaN</td>\n",
       "      <td>NaN</td>\n",
       "      <td>NaN</td>\n",
       "      <td>NaN</td>\n",
       "      <td>NaN</td>\n",
       "      <td>7.149604e+17</td>\n",
       "      <td>...</td>\n",
       "      <td>NaN</td>\n",
       "      <td>NaN</td>\n",
       "      <td>NaN</td>\n",
       "      <td>NaN</td>\n",
       "      <td>NaN</td>\n",
       "      <td>NaN</td>\n",
       "      <td>NaN</td>\n",
       "      <td>1459294819017</td>\n",
       "      <td>NaN</td>\n",
       "      <td>{'utc_offset': None, 'profile_image_url_https'...</td>\n",
       "    </tr>\n",
       "    <tr>\n",
       "      <th>26</th>\n",
       "      <td>NaN</td>\n",
       "      <td>NaN</td>\n",
       "      <td>NaN</td>\n",
       "      <td>NaN</td>\n",
       "      <td>NaN</td>\n",
       "      <td>NaN</td>\n",
       "      <td>NaN</td>\n",
       "      <td>NaN</td>\n",
       "      <td>NaN</td>\n",
       "      <td>7.149604e+17</td>\n",
       "      <td>...</td>\n",
       "      <td>NaN</td>\n",
       "      <td>NaN</td>\n",
       "      <td>NaN</td>\n",
       "      <td>NaN</td>\n",
       "      <td>NaN</td>\n",
       "      <td>NaN</td>\n",
       "      <td>NaN</td>\n",
       "      <td>1459294819036</td>\n",
       "      <td>NaN</td>\n",
       "      <td>{'utc_offset': None, 'profile_image_url_https'...</td>\n",
       "    </tr>\n",
       "    <tr>\n",
       "      <th>27</th>\n",
       "      <td>NaN</td>\n",
       "      <td>NaN</td>\n",
       "      <td>NaN</td>\n",
       "      <td>NaN</td>\n",
       "      <td>NaN</td>\n",
       "      <td>NaN</td>\n",
       "      <td>NaN</td>\n",
       "      <td>NaN</td>\n",
       "      <td>NaN</td>\n",
       "      <td>7.149604e+17</td>\n",
       "      <td>...</td>\n",
       "      <td>NaN</td>\n",
       "      <td>NaN</td>\n",
       "      <td>NaN</td>\n",
       "      <td>NaN</td>\n",
       "      <td>NaN</td>\n",
       "      <td>NaN</td>\n",
       "      <td>NaN</td>\n",
       "      <td>1459294819044</td>\n",
       "      <td>NaN</td>\n",
       "      <td>{'utc_offset': None, 'profile_image_url_https'...</td>\n",
       "    </tr>\n",
       "    <tr>\n",
       "      <th>28</th>\n",
       "      <td>NaN</td>\n",
       "      <td>NaN</td>\n",
       "      <td>NaN</td>\n",
       "      <td>NaN</td>\n",
       "      <td>NaN</td>\n",
       "      <td>NaN</td>\n",
       "      <td>NaN</td>\n",
       "      <td>NaN</td>\n",
       "      <td>NaN</td>\n",
       "      <td>7.149604e+17</td>\n",
       "      <td>...</td>\n",
       "      <td>NaN</td>\n",
       "      <td>NaN</td>\n",
       "      <td>NaN</td>\n",
       "      <td>NaN</td>\n",
       "      <td>NaN</td>\n",
       "      <td>NaN</td>\n",
       "      <td>NaN</td>\n",
       "      <td>1459294819072</td>\n",
       "      <td>NaN</td>\n",
       "      <td>{'utc_offset': None, 'profile_image_url_https'...</td>\n",
       "    </tr>\n",
       "    <tr>\n",
       "      <th>29</th>\n",
       "      <td>NaN</td>\n",
       "      <td>NaN</td>\n",
       "      <td>NaN</td>\n",
       "      <td>NaN</td>\n",
       "      <td>NaN</td>\n",
       "      <td>NaN</td>\n",
       "      <td>NaN</td>\n",
       "      <td>NaN</td>\n",
       "      <td>NaN</td>\n",
       "      <td>7.149604e+17</td>\n",
       "      <td>...</td>\n",
       "      <td>NaN</td>\n",
       "      <td>NaN</td>\n",
       "      <td>NaN</td>\n",
       "      <td>NaN</td>\n",
       "      <td>NaN</td>\n",
       "      <td>NaN</td>\n",
       "      <td>NaN</td>\n",
       "      <td>1459294819126</td>\n",
       "      <td>NaN</td>\n",
       "      <td>{'utc_offset': None, 'profile_image_url_https'...</td>\n",
       "    </tr>\n",
       "    <tr>\n",
       "      <th>30</th>\n",
       "      <td>NaN</td>\n",
       "      <td>NaN</td>\n",
       "      <td>NaN</td>\n",
       "      <td>NaN</td>\n",
       "      <td>NaN</td>\n",
       "      <td>NaN</td>\n",
       "      <td>NaN</td>\n",
       "      <td>NaN</td>\n",
       "      <td>NaN</td>\n",
       "      <td>7.149604e+17</td>\n",
       "      <td>...</td>\n",
       "      <td>NaN</td>\n",
       "      <td>NaN</td>\n",
       "      <td>NaN</td>\n",
       "      <td>NaN</td>\n",
       "      <td>NaN</td>\n",
       "      <td>NaN</td>\n",
       "      <td>NaN</td>\n",
       "      <td>1459294819145</td>\n",
       "      <td>NaN</td>\n",
       "      <td>{'utc_offset': None, 'profile_image_url_https'...</td>\n",
       "    </tr>\n",
       "    <tr>\n",
       "      <th>31</th>\n",
       "      <td>NaN</td>\n",
       "      <td>NaN</td>\n",
       "      <td>NaN</td>\n",
       "      <td>NaN</td>\n",
       "      <td>NaN</td>\n",
       "      <td>NaN</td>\n",
       "      <td>NaN</td>\n",
       "      <td>NaN</td>\n",
       "      <td>NaN</td>\n",
       "      <td>7.149604e+17</td>\n",
       "      <td>...</td>\n",
       "      <td>NaN</td>\n",
       "      <td>NaN</td>\n",
       "      <td>NaN</td>\n",
       "      <td>NaN</td>\n",
       "      <td>NaN</td>\n",
       "      <td>NaN</td>\n",
       "      <td>NaN</td>\n",
       "      <td>1459294819213</td>\n",
       "      <td>NaN</td>\n",
       "      <td>{'utc_offset': None, 'profile_image_url_https'...</td>\n",
       "    </tr>\n",
       "    <tr>\n",
       "      <th>32</th>\n",
       "      <td>NaN</td>\n",
       "      <td>NaN</td>\n",
       "      <td>NaN</td>\n",
       "      <td>NaN</td>\n",
       "      <td>NaN</td>\n",
       "      <td>NaN</td>\n",
       "      <td>NaN</td>\n",
       "      <td>NaN</td>\n",
       "      <td>NaN</td>\n",
       "      <td>7.149604e+17</td>\n",
       "      <td>...</td>\n",
       "      <td>NaN</td>\n",
       "      <td>NaN</td>\n",
       "      <td>NaN</td>\n",
       "      <td>NaN</td>\n",
       "      <td>NaN</td>\n",
       "      <td>NaN</td>\n",
       "      <td>NaN</td>\n",
       "      <td>1459294819214</td>\n",
       "      <td>NaN</td>\n",
       "      <td>{'utc_offset': None, 'profile_image_url_https'...</td>\n",
       "    </tr>\n",
       "    <tr>\n",
       "      <th>33</th>\n",
       "      <td>NaN</td>\n",
       "      <td>NaN</td>\n",
       "      <td>NaN</td>\n",
       "      <td>NaN</td>\n",
       "      <td>NaN</td>\n",
       "      <td>NaN</td>\n",
       "      <td>NaN</td>\n",
       "      <td>NaN</td>\n",
       "      <td>NaN</td>\n",
       "      <td>7.149604e+17</td>\n",
       "      <td>...</td>\n",
       "      <td>NaN</td>\n",
       "      <td>NaN</td>\n",
       "      <td>NaN</td>\n",
       "      <td>NaN</td>\n",
       "      <td>NaN</td>\n",
       "      <td>NaN</td>\n",
       "      <td>NaN</td>\n",
       "      <td>1459294819267</td>\n",
       "      <td>NaN</td>\n",
       "      <td>{'utc_offset': None, 'profile_image_url_https'...</td>\n",
       "    </tr>\n",
       "    <tr>\n",
       "      <th>34</th>\n",
       "      <td>NaN</td>\n",
       "      <td>NaN</td>\n",
       "      <td>NaN</td>\n",
       "      <td>NaN</td>\n",
       "      <td>NaN</td>\n",
       "      <td>NaN</td>\n",
       "      <td>NaN</td>\n",
       "      <td>NaN</td>\n",
       "      <td>NaN</td>\n",
       "      <td>7.149604e+17</td>\n",
       "      <td>...</td>\n",
       "      <td>NaN</td>\n",
       "      <td>NaN</td>\n",
       "      <td>NaN</td>\n",
       "      <td>NaN</td>\n",
       "      <td>NaN</td>\n",
       "      <td>NaN</td>\n",
       "      <td>NaN</td>\n",
       "      <td>1459294819349</td>\n",
       "      <td>NaN</td>\n",
       "      <td>{'utc_offset': None, 'profile_image_url_https'...</td>\n",
       "    </tr>\n",
       "    <tr>\n",
       "      <th>35</th>\n",
       "      <td>NaN</td>\n",
       "      <td>NaN</td>\n",
       "      <td>NaN</td>\n",
       "      <td>NaN</td>\n",
       "      <td>NaN</td>\n",
       "      <td>NaN</td>\n",
       "      <td>NaN</td>\n",
       "      <td>NaN</td>\n",
       "      <td>NaN</td>\n",
       "      <td>NaN</td>\n",
       "      <td>...</td>\n",
       "      <td>NaN</td>\n",
       "      <td>NaN</td>\n",
       "      <td>NaN</td>\n",
       "      <td>NaN</td>\n",
       "      <td>NaN</td>\n",
       "      <td>NaN</td>\n",
       "      <td>NaN</td>\n",
       "      <td>1459294819766</td>\n",
       "      <td>NaN</td>\n",
       "      <td>NaN</td>\n",
       "    </tr>\n",
       "  </tbody>\n",
       "</table>\n",
       "<p>36 rows × 31 columns</p>\n",
       "</div>"
      ],
      "text/plain": [
       "    contributors  coordinates                      created_at  \\\n",
       "0            NaN          NaN  Tue Mar 29 23:40:18 +0000 2016   \n",
       "1            NaN          NaN                             NaN   \n",
       "2            NaN          NaN                             NaN   \n",
       "3            NaN          NaN                             NaN   \n",
       "4            NaN          NaN                             NaN   \n",
       "5            NaN          NaN                             NaN   \n",
       "6            NaN          NaN                             NaN   \n",
       "7            NaN          NaN                             NaN   \n",
       "8            NaN          NaN                             NaN   \n",
       "9            NaN          NaN                             NaN   \n",
       "10           NaN          NaN                             NaN   \n",
       "11           NaN          NaN                             NaN   \n",
       "12           NaN          NaN                             NaN   \n",
       "13           NaN          NaN                             NaN   \n",
       "14           NaN          NaN                             NaN   \n",
       "15           NaN          NaN                             NaN   \n",
       "16           NaN          NaN                             NaN   \n",
       "17           NaN          NaN                             NaN   \n",
       "18           NaN          NaN                             NaN   \n",
       "19           NaN          NaN                             NaN   \n",
       "20           NaN          NaN                             NaN   \n",
       "21           NaN          NaN                             NaN   \n",
       "22           NaN          NaN                             NaN   \n",
       "23           NaN          NaN                             NaN   \n",
       "24           NaN          NaN                             NaN   \n",
       "25           NaN          NaN                             NaN   \n",
       "26           NaN          NaN                             NaN   \n",
       "27           NaN          NaN                             NaN   \n",
       "28           NaN          NaN                             NaN   \n",
       "29           NaN          NaN                             NaN   \n",
       "30           NaN          NaN                             NaN   \n",
       "31           NaN          NaN                             NaN   \n",
       "32           NaN          NaN                             NaN   \n",
       "33           NaN          NaN                             NaN   \n",
       "34           NaN          NaN                             NaN   \n",
       "35           NaN          NaN                             NaN   \n",
       "\n",
       "                                             entities  \\\n",
       "0   {'hashtags': [], 'user_mentions': [{'screen_na...   \n",
       "1                                                 NaN   \n",
       "2                                                 NaN   \n",
       "3                                                 NaN   \n",
       "4                                                 NaN   \n",
       "5                                                 NaN   \n",
       "6                                                 NaN   \n",
       "7                                                 NaN   \n",
       "8                                                 NaN   \n",
       "9                                                 NaN   \n",
       "10                                                NaN   \n",
       "11                                                NaN   \n",
       "12                                                NaN   \n",
       "13                                                NaN   \n",
       "14                                                NaN   \n",
       "15                                                NaN   \n",
       "16                                                NaN   \n",
       "17                                                NaN   \n",
       "18                                                NaN   \n",
       "19                                                NaN   \n",
       "20                                                NaN   \n",
       "21                                                NaN   \n",
       "22                                                NaN   \n",
       "23                                                NaN   \n",
       "24                                                NaN   \n",
       "25                                                NaN   \n",
       "26                                                NaN   \n",
       "27                                                NaN   \n",
       "28                                                NaN   \n",
       "29                                                NaN   \n",
       "30                                                NaN   \n",
       "31                                                NaN   \n",
       "32                                                NaN   \n",
       "33                                                NaN   \n",
       "34                                                NaN   \n",
       "35                                                NaN   \n",
       "\n",
       "                                    extended_entities  favorite_count  \\\n",
       "0   {'media': [{'sizes': {'large': {'w': 1024, 'h'...             0.0   \n",
       "1   {'media': [{'sizes': {'large': {'w': 384, 'h':...             NaN   \n",
       "2   {'media': [{'sizes': {'large': {'w': 476, 'h':...             NaN   \n",
       "3   {'media': [{'sizes': {'large': {'w': 500, 'h':...             NaN   \n",
       "4   {'media': [{'sizes': {'large': {'w': 508, 'h':...             NaN   \n",
       "5   {'media': [{'sizes': {'large': {'w': 573, 'h':...             NaN   \n",
       "6   {'media': [{'sizes': {'large': {'w': 591, 'h':...             NaN   \n",
       "7                                                 NaN             NaN   \n",
       "8                                                 NaN             NaN   \n",
       "9                                                 NaN             NaN   \n",
       "10                                                NaN             NaN   \n",
       "11                                                NaN             NaN   \n",
       "12                                                NaN             NaN   \n",
       "13                                                NaN             NaN   \n",
       "14                                                NaN             NaN   \n",
       "15                                                NaN             NaN   \n",
       "16                                                NaN             NaN   \n",
       "17                                                NaN             NaN   \n",
       "18                                                NaN             NaN   \n",
       "19                                                NaN             NaN   \n",
       "20                                                NaN             NaN   \n",
       "21                                                NaN             NaN   \n",
       "22                                                NaN             NaN   \n",
       "23                                                NaN             NaN   \n",
       "24                                                NaN             NaN   \n",
       "25                                                NaN             NaN   \n",
       "26                                                NaN             NaN   \n",
       "27                                                NaN             NaN   \n",
       "28                                                NaN             NaN   \n",
       "29                                                NaN             NaN   \n",
       "30                                                NaN             NaN   \n",
       "31                                                NaN             NaN   \n",
       "32                                                NaN             NaN   \n",
       "33                                                NaN             NaN   \n",
       "34                                                NaN             NaN   \n",
       "35                                                NaN             NaN   \n",
       "\n",
       "   favorited filter_level  geo            id  ...  quoted_status_id  \\\n",
       "0      False          low  NaN  7.149604e+17  ...      7.149182e+17   \n",
       "1        NaN          NaN  NaN  7.149604e+17  ...      7.149239e+17   \n",
       "2        NaN          NaN  NaN  7.149604e+17  ...      7.149590e+17   \n",
       "3        NaN          NaN  NaN  7.149604e+17  ...      7.149602e+17   \n",
       "4        NaN          NaN  NaN  7.149604e+17  ...      7.149603e+17   \n",
       "5        NaN          NaN  NaN  7.149604e+17  ...               NaN   \n",
       "6        NaN          NaN  NaN  7.149604e+17  ...               NaN   \n",
       "7        NaN          NaN  NaN  7.149604e+17  ...               NaN   \n",
       "8        NaN          NaN  NaN  7.149604e+17  ...               NaN   \n",
       "9        NaN          NaN  NaN  7.149604e+17  ...               NaN   \n",
       "10       NaN          NaN  NaN  7.149604e+17  ...               NaN   \n",
       "11       NaN          NaN  NaN  7.149604e+17  ...               NaN   \n",
       "12       NaN          NaN  NaN  7.149604e+17  ...               NaN   \n",
       "13       NaN          NaN  NaN  7.149604e+17  ...               NaN   \n",
       "14       NaN          NaN  NaN  7.149604e+17  ...               NaN   \n",
       "15       NaN          NaN  NaN  7.149604e+17  ...               NaN   \n",
       "16       NaN          NaN  NaN  7.149604e+17  ...               NaN   \n",
       "17       NaN          NaN  NaN  7.149604e+17  ...               NaN   \n",
       "18       NaN          NaN  NaN  7.149604e+17  ...               NaN   \n",
       "19       NaN          NaN  NaN  7.149604e+17  ...               NaN   \n",
       "20       NaN          NaN  NaN  7.149604e+17  ...               NaN   \n",
       "21       NaN          NaN  NaN  7.149604e+17  ...               NaN   \n",
       "22       NaN          NaN  NaN  7.149604e+17  ...               NaN   \n",
       "23       NaN          NaN  NaN  7.149604e+17  ...               NaN   \n",
       "24       NaN          NaN  NaN  7.149604e+17  ...               NaN   \n",
       "25       NaN          NaN  NaN  7.149604e+17  ...               NaN   \n",
       "26       NaN          NaN  NaN  7.149604e+17  ...               NaN   \n",
       "27       NaN          NaN  NaN  7.149604e+17  ...               NaN   \n",
       "28       NaN          NaN  NaN  7.149604e+17  ...               NaN   \n",
       "29       NaN          NaN  NaN  7.149604e+17  ...               NaN   \n",
       "30       NaN          NaN  NaN  7.149604e+17  ...               NaN   \n",
       "31       NaN          NaN  NaN  7.149604e+17  ...               NaN   \n",
       "32       NaN          NaN  NaN  7.149604e+17  ...               NaN   \n",
       "33       NaN          NaN  NaN  7.149604e+17  ...               NaN   \n",
       "34       NaN          NaN  NaN  7.149604e+17  ...               NaN   \n",
       "35       NaN          NaN  NaN           NaN  ...               NaN   \n",
       "\n",
       "   quoted_status_id_str  retweet_count  retweeted  \\\n",
       "0          7.149182e+17            0.0      False   \n",
       "1          7.149239e+17            NaN        NaN   \n",
       "2          7.149590e+17            NaN        NaN   \n",
       "3          7.149602e+17            NaN        NaN   \n",
       "4          7.149603e+17            NaN        NaN   \n",
       "5                   NaN            NaN        NaN   \n",
       "6                   NaN            NaN        NaN   \n",
       "7                   NaN            NaN        NaN   \n",
       "8                   NaN            NaN        NaN   \n",
       "9                   NaN            NaN        NaN   \n",
       "10                  NaN            NaN        NaN   \n",
       "11                  NaN            NaN        NaN   \n",
       "12                  NaN            NaN        NaN   \n",
       "13                  NaN            NaN        NaN   \n",
       "14                  NaN            NaN        NaN   \n",
       "15                  NaN            NaN        NaN   \n",
       "16                  NaN            NaN        NaN   \n",
       "17                  NaN            NaN        NaN   \n",
       "18                  NaN            NaN        NaN   \n",
       "19                  NaN            NaN        NaN   \n",
       "20                  NaN            NaN        NaN   \n",
       "21                  NaN            NaN        NaN   \n",
       "22                  NaN            NaN        NaN   \n",
       "23                  NaN            NaN        NaN   \n",
       "24                  NaN            NaN        NaN   \n",
       "25                  NaN            NaN        NaN   \n",
       "26                  NaN            NaN        NaN   \n",
       "27                  NaN            NaN        NaN   \n",
       "28                  NaN            NaN        NaN   \n",
       "29                  NaN            NaN        NaN   \n",
       "30                  NaN            NaN        NaN   \n",
       "31                  NaN            NaN        NaN   \n",
       "32                  NaN            NaN        NaN   \n",
       "33                  NaN            NaN        NaN   \n",
       "34                  NaN            NaN        NaN   \n",
       "35                  NaN            NaN        NaN   \n",
       "\n",
       "                                     retweeted_status  \\\n",
       "0   {'retweeted': False, 'lang': 'en', 'favorite_c...   \n",
       "1   {'retweeted': False, 'lang': 'en', 'favorite_c...   \n",
       "2   {'retweeted': False, 'lang': 'en', 'favorite_c...   \n",
       "3   {'retweeted': False, 'lang': 'en', 'favorite_c...   \n",
       "4   {'retweeted': False, 'lang': 'en', 'favorite_c...   \n",
       "5   {'retweeted': False, 'lang': 'en', 'favorite_c...   \n",
       "6   {'retweeted': False, 'lang': 'en', 'favorite_c...   \n",
       "7   {'retweeted': False, 'lang': 'en', 'favorite_c...   \n",
       "8   {'retweeted': False, 'lang': 'en', 'favorite_c...   \n",
       "9   {'retweeted': False, 'lang': 'en', 'favorite_c...   \n",
       "10  {'retweeted': False, 'lang': 'en', 'favorite_c...   \n",
       "11  {'retweeted': False, 'lang': 'en', 'favorite_c...   \n",
       "12  {'retweeted': False, 'lang': 'en', 'favorite_c...   \n",
       "13  {'retweeted': False, 'lang': 'en', 'favorite_c...   \n",
       "14  {'retweeted': False, 'text': \"Thank God I seen...   \n",
       "15  {'retweeted': False, 'text': \"Trump's idiosync...   \n",
       "16  {'retweeted': False, 'text': '@realDonaldTrump...   \n",
       "17  {'retweeted': False, 'text': 'How #Trump Sacks...   \n",
       "18  {'retweeted': False, 'text': 'RT for Brendon U...   \n",
       "19  {'retweeted': False, 'text': 'RT for Jerrie (L...   \n",
       "20  {'retweeted': False, 'text': 'Remember when th...   \n",
       "21  {'retweeted': False, 'text': 'The media spent ...   \n",
       "22  {'retweeted': False, 'text': 'This is how I se...   \n",
       "23                                                NaN   \n",
       "24                                                NaN   \n",
       "25                                                NaN   \n",
       "26                                                NaN   \n",
       "27                                                NaN   \n",
       "28                                                NaN   \n",
       "29                                                NaN   \n",
       "30                                                NaN   \n",
       "31                                                NaN   \n",
       "32                                                NaN   \n",
       "33                                                NaN   \n",
       "34                                                NaN   \n",
       "35                                                NaN   \n",
       "\n",
       "                                               source  \\\n",
       "0   <a href=\"http://twitter.com/download/iphone\" r...   \n",
       "1                                                 NaN   \n",
       "2                                                 NaN   \n",
       "3                                                 NaN   \n",
       "4                                                 NaN   \n",
       "5                                                 NaN   \n",
       "6                                                 NaN   \n",
       "7                                                 NaN   \n",
       "8                                                 NaN   \n",
       "9                                                 NaN   \n",
       "10                                                NaN   \n",
       "11                                                NaN   \n",
       "12                                                NaN   \n",
       "13                                                NaN   \n",
       "14                                                NaN   \n",
       "15                                                NaN   \n",
       "16                                                NaN   \n",
       "17                                                NaN   \n",
       "18                                                NaN   \n",
       "19                                                NaN   \n",
       "20                                                NaN   \n",
       "21                                                NaN   \n",
       "22                                                NaN   \n",
       "23                                                NaN   \n",
       "24                                                NaN   \n",
       "25                                                NaN   \n",
       "26                                                NaN   \n",
       "27                                                NaN   \n",
       "28                                                NaN   \n",
       "29                                                NaN   \n",
       "30                                                NaN   \n",
       "31                                                NaN   \n",
       "32                                                NaN   \n",
       "33                                                NaN   \n",
       "34                                                NaN   \n",
       "35                                                NaN   \n",
       "\n",
       "                                                 text   timestamp_ms  \\\n",
       "0   RT @ggreenwald: The media spent all day claimi...  1459294817758   \n",
       "1                                                 NaN  1459294817870   \n",
       "2                                                 NaN  1459294817882   \n",
       "3                                                 NaN  1459294817903   \n",
       "4                                                 NaN  1459294818004   \n",
       "5                                                 NaN  1459294818018   \n",
       "6                                                 NaN  1459294818019   \n",
       "7                                                 NaN  1459294818024   \n",
       "8                                                 NaN  1459294818080   \n",
       "9                                                 NaN  1459294818081   \n",
       "10                                                NaN  1459294818123   \n",
       "11                                                NaN  1459294818133   \n",
       "12                                                NaN  1459294818231   \n",
       "13                                                NaN  1459294818392   \n",
       "14                                                NaN  1459294818638   \n",
       "15                                                NaN  1459294818733   \n",
       "16                                                NaN  1459294818820   \n",
       "17                                                NaN  1459294818844   \n",
       "18                                                NaN  1459294818862   \n",
       "19                                                NaN  1459294818893   \n",
       "20                                                NaN  1459294818943   \n",
       "21                                                NaN  1459294818948   \n",
       "22                                                NaN  1459294818965   \n",
       "23                                                NaN  1459294818966   \n",
       "24                                                NaN  1459294818995   \n",
       "25                                                NaN  1459294819017   \n",
       "26                                                NaN  1459294819036   \n",
       "27                                                NaN  1459294819044   \n",
       "28                                                NaN  1459294819072   \n",
       "29                                                NaN  1459294819126   \n",
       "30                                                NaN  1459294819145   \n",
       "31                                                NaN  1459294819213   \n",
       "32                                                NaN  1459294819214   \n",
       "33                                                NaN  1459294819267   \n",
       "34                                                NaN  1459294819349   \n",
       "35                                                NaN  1459294819766   \n",
       "\n",
       "   truncated                                               user  \n",
       "0      False  {'utc_offset': -14400, 'profile_image_url_http...  \n",
       "1        NaN  {'utc_offset': -14400, 'profile_image_url_http...  \n",
       "2        NaN  {'utc_offset': -14400, 'profile_image_url_http...  \n",
       "3        NaN  {'utc_offset': -14400, 'profile_image_url_http...  \n",
       "4        NaN  {'utc_offset': -18000, 'profile_image_url_http...  \n",
       "5        NaN  {'utc_offset': -18000, 'profile_image_url_http...  \n",
       "6        NaN  {'utc_offset': -25200, 'profile_image_url_http...  \n",
       "7        NaN  {'utc_offset': -25200, 'profile_image_url_http...  \n",
       "8        NaN  {'utc_offset': -25200, 'profile_image_url_http...  \n",
       "9        NaN  {'utc_offset': -25200, 'profile_image_url_http...  \n",
       "10       NaN  {'utc_offset': -25200, 'profile_image_url_http...  \n",
       "11       NaN  {'utc_offset': -36000, 'profile_image_url_http...  \n",
       "12       NaN  {'utc_offset': 10800, 'profile_image_url_https...  \n",
       "13       NaN  {'utc_offset': None, 'profile_image_url_https'...  \n",
       "14       NaN  {'utc_offset': None, 'profile_image_url_https'...  \n",
       "15       NaN  {'utc_offset': None, 'profile_image_url_https'...  \n",
       "16       NaN  {'utc_offset': None, 'profile_image_url_https'...  \n",
       "17       NaN  {'utc_offset': None, 'profile_image_url_https'...  \n",
       "18       NaN  {'utc_offset': None, 'profile_image_url_https'...  \n",
       "19       NaN  {'utc_offset': None, 'profile_image_url_https'...  \n",
       "20       NaN  {'utc_offset': None, 'profile_image_url_https'...  \n",
       "21       NaN  {'utc_offset': None, 'profile_image_url_https'...  \n",
       "22       NaN  {'utc_offset': None, 'profile_image_url_https'...  \n",
       "23       NaN  {'utc_offset': None, 'profile_image_url_https'...  \n",
       "24       NaN  {'utc_offset': None, 'profile_image_url_https'...  \n",
       "25       NaN  {'utc_offset': None, 'profile_image_url_https'...  \n",
       "26       NaN  {'utc_offset': None, 'profile_image_url_https'...  \n",
       "27       NaN  {'utc_offset': None, 'profile_image_url_https'...  \n",
       "28       NaN  {'utc_offset': None, 'profile_image_url_https'...  \n",
       "29       NaN  {'utc_offset': None, 'profile_image_url_https'...  \n",
       "30       NaN  {'utc_offset': None, 'profile_image_url_https'...  \n",
       "31       NaN  {'utc_offset': None, 'profile_image_url_https'...  \n",
       "32       NaN  {'utc_offset': None, 'profile_image_url_https'...  \n",
       "33       NaN  {'utc_offset': None, 'profile_image_url_https'...  \n",
       "34       NaN  {'utc_offset': None, 'profile_image_url_https'...  \n",
       "35       NaN                                                NaN  \n",
       "\n",
       "[36 rows x 31 columns]"
      ]
     },
     "execution_count": 193,
     "metadata": {},
     "output_type": "execute_result"
    }
   ],
   "source": [
    "# The mode of a set of values is the value that appears most often.\n",
    "#It can be multiple values.\n",
    "df.mode()"
   ]
  },
  {
   "cell_type": "code",
   "execution_count": 194,
   "id": "d515ad57",
   "metadata": {},
   "outputs": [],
   "source": [
    "# create an empty dictionary, to save the data we get. \n",
    "\n",
    "num_of_languages = {}"
   ]
  },
  {
   "cell_type": "code",
   "execution_count": 195,
   "id": "5ea241f8",
   "metadata": {},
   "outputs": [],
   "source": [
    "# select lang col from dataset\n",
    "\n",
    "lang_col = df[\"lang\"]"
   ]
  },
  {
   "cell_type": "code",
   "execution_count": 196,
   "id": "fcfc2b2a",
   "metadata": {},
   "outputs": [
    {
     "data": {
      "text/plain": [
       "0    en\n",
       "1    en\n",
       "2    et\n",
       "3    en\n",
       "4    en\n",
       "Name: lang, dtype: object"
      ]
     },
     "execution_count": 196,
     "metadata": {},
     "output_type": "execute_result"
    }
   ],
   "source": [
    "lang_col.head()"
   ]
  },
  {
   "cell_type": "code",
   "execution_count": 197,
   "id": "202cfb24",
   "metadata": {},
   "outputs": [
    {
     "data": {
      "text/plain": [
       "95    en\n",
       "96    en\n",
       "97    en\n",
       "98    en\n",
       "99    en\n",
       "Name: lang, dtype: object"
      ]
     },
     "execution_count": 197,
     "metadata": {},
     "output_type": "execute_result"
    }
   ],
   "source": [
    "lang_col.tail()"
   ]
  },
  {
   "cell_type": "code",
   "execution_count": 198,
   "id": "9b136bb5",
   "metadata": {},
   "outputs": [],
   "source": [
    "# apply for loop over the lang_col to access the data of the entire column\n",
    "\n",
    "\n",
    "for languages in lang_col:\n",
    "    if languages in num_of_languages.keys():\n",
    "        num_of_languages[languages] +=1\n",
    "    else:\n",
    "        num_of_languages[languages] = 1"
   ]
  },
  {
   "cell_type": "code",
   "execution_count": 199,
   "id": "e6ddd7fe",
   "metadata": {},
   "outputs": [
    {
     "name": "stdout",
     "output_type": "stream",
     "text": [
      "{'en': 97, 'et': 1, 'und': 2}\n"
     ]
    }
   ],
   "source": [
    "print(num_of_languages)"
   ]
  },
  {
   "cell_type": "markdown",
   "id": "2c51f6dc",
   "metadata": {},
   "source": [
    "# Bringing it all together (2)\n",
    "Great job! You've now defined the functionality for iterating over entries in a column and building a dictionary with keys the names of languages and values the number of tweets in the given language.\n",
    "\n",
    "In this exercise, you will define a function with the functionality you developed in the previous exercise, return the resulting dictionary from within the function, and call the function with the appropriate arguments.\n",
    "\n",
    "For your convenience, the pandas package has been imported as pd and the 'tweets.csv' file has been imported into the tweets_df variable."
   ]
  },
  {
   "cell_type": "code",
   "execution_count": 1,
   "id": "4759ff11",
   "metadata": {},
   "outputs": [],
   "source": [
    "# Define the function count_entries(), which has two parameters. \n",
    "#The first parameter is df for the DataFrame and the second is col_name for the column name.\n",
    "\n",
    "def count_entries(data, col_name):\n",
    "    \n",
    "    \"\"\"Return a dictionary with counts of \n",
    "    occurrences as value for each key.\"\"\"\n",
    "    \n",
    "    \n",
    "    # empty dictionary \n",
    "    \n",
    "    counts = {}\n",
    "    \n",
    "    \n",
    "    # extract the column from the dataset\n",
    "    \n",
    "    column = df[col_name]\n",
    "    \n",
    "    \n",
    "    # apply for loop to read the column\n",
    "    \n",
    "    for entry in column:\n",
    "        \n",
    "        if entry in counts.keys():\n",
    "            \n",
    "            counts[entry] +=1\n",
    "            \n",
    "        else:\n",
    "            \n",
    "            counts[entry] = 1\n",
    "            \n",
    "            #Return the langs_count dictionary from inside the count_entries() function\n",
    "            \n",
    "    return counts"
   ]
  },
  {
   "cell_type": "code",
   "execution_count": 2,
   "id": "a1a6212f",
   "metadata": {},
   "outputs": [
    {
     "ename": "NameError",
     "evalue": "name 'df' is not defined",
     "output_type": "error",
     "traceback": [
      "\u001b[1;31m---------------------------------------------------------------------------\u001b[0m",
      "\u001b[1;31mNameError\u001b[0m                                 Traceback (most recent call last)",
      "\u001b[1;32m~\\AppData\\Local\\Temp/ipykernel_5388/3596133193.py\u001b[0m in \u001b[0;36m<module>\u001b[1;34m\u001b[0m\n\u001b[0;32m      1\u001b[0m \u001b[1;31m# number of languages used\u001b[0m\u001b[1;33m\u001b[0m\u001b[1;33m\u001b[0m\u001b[0m\n\u001b[0;32m      2\u001b[0m \u001b[1;33m\u001b[0m\u001b[0m\n\u001b[1;32m----> 3\u001b[1;33m \u001b[0mcount_entries\u001b[0m\u001b[1;33m(\u001b[0m\u001b[0mdf\u001b[0m\u001b[1;33m,\u001b[0m \u001b[1;34m\"lang\"\u001b[0m\u001b[1;33m)\u001b[0m\u001b[1;33m\u001b[0m\u001b[1;33m\u001b[0m\u001b[0m\n\u001b[0m",
      "\u001b[1;31mNameError\u001b[0m: name 'df' is not defined"
     ]
    }
   ],
   "source": [
    "# number of languages used \n",
    "\n",
    "count_entries(df, \"lang\")"
   ]
  },
  {
   "cell_type": "code",
   "execution_count": 217,
   "id": "0ba49e09",
   "metadata": {},
   "outputs": [
    {
     "data": {
      "text/plain": [
       "{\"{'hashtags': [], 'user_mentions': [{'screen_name': 'bpolitics', 'name': 'Bloomberg Politics', 'id': 564111558, 'id_str': '564111558', 'indices': [3, 13]}, {'screen_name': 'krollbondrating', 'name': 'Kroll Bond Ratings', 'id': 1963523857, 'id_str': '1963523857', 'indices': [16, 32]}], 'symbols': [], 'media': [{'sizes': {'large': {'w': 1024, 'h': 691, 'resize': 'fit'}, 'medium': {'w': 600, 'h': 405, 'resize': 'fit'}, 'small': {'w': 340, 'h': 229, 'resize': 'fit'}, 'thumb': {'w': 150, 'h': 150, 'resize': 'crop'}}, 'expanded_url': 'http://twitter.com/bpolitics/status/714950482930896897/photo/1', 'url': 'https://t.co/lJcw0N8EZf', 'media_url_https': 'https://pbs.twimg.com/media/CewDrPtWAAMerOm.jpg', 'source_user_id': 564111558, 'media_url': 'http://pbs.twimg.com/media/CewDrPtWAAMerOm.jpg', 'type': 'photo', 'indices': [139, 140], 'source_status_id': 714950482930896897, 'id_str': '714950482331041795', 'source_user_id_str': '564111558', 'id': 714950482331041795, 'display_url': 'pic.twitter.com/lJcw0N8EZf', 'source_status_id_str': '714950482930896897'}], 'urls': [{'expanded_url': 'http://bloom.bg/1RETAha', 'url': 'https://t.co/pLk7rvoRSn', 'display_url': 'bloom.bg/1RETAha', 'indices': [108, 131]}]}\": 1,\n",
       " \"{'hashtags': [{'text': 'cruzsexscandal', 'indices': [75, 90]}], 'user_mentions': [{'screen_name': 'HeidiAlpine', 'name': 'Heidi', 'id': 932568674, 'id_str': '932568674', 'indices': [3, 15]}, {'screen_name': 'dmartosko', 'name': 'David Martosko', 'id': 38497702, 'id_str': '38497702', 'indices': [17, 27]}], 'symbols': [], 'media': [{'sizes': {'large': {'w': 500, 'h': 290, 'resize': 'fit'}, 'medium': {'w': 500, 'h': 290, 'resize': 'fit'}, 'small': {'w': 340, 'h': 197, 'resize': 'fit'}, 'thumb': {'w': 150, 'h': 150, 'resize': 'crop'}}, 'expanded_url': 'http://twitter.com/HeidiAlpine/status/714656471963688960/photo/1', 'url': 'https://t.co/zuAPZfQDk3', 'media_url_https': 'https://pbs.twimg.com/tweet_video_thumb/Cer4OcrWsAAh-9p.jpg', 'source_user_id': 932568674, 'media_url': 'http://pbs.twimg.com/tweet_video_thumb/Cer4OcrWsAAh-9p.jpg', 'type': 'photo', 'indices': [91, 114], 'source_status_id': 714656471963688960, 'id_str': '714656417991536640', 'source_user_id_str': '932568674', 'id': 714656417991536640, 'display_url': 'pic.twitter.com/zuAPZfQDk3', 'source_status_id_str': '714656471963688960'}], 'urls': []}\": 1,\n",
       " \"{'hashtags': [], 'user_mentions': [], 'symbols': [], 'urls': [{'expanded_url': 'http://fb.me/3ZOkPfHWn', 'url': 'https://t.co/4KmsQi47VD', 'display_url': 'fb.me/3ZOkPfHWn', 'indices': [41, 64]}]}\": 1,\n",
       " \"{'hashtags': [], 'user_mentions': [], 'symbols': [], 'urls': [{'expanded_url': 'https://twitter.com/benshapiro/status/714923934400061440', 'url': 'https://t.co/lpASyeNVpG', 'display_url': 'twitter.com/benshapiro/sta…', 'indices': [83, 106]}]}\": 2,\n",
       " \"{'hashtags': [], 'user_mentions': [{'screen_name': 'AlanLohner', 'name': 'Alan Lohner', 'id': 246578276, 'id_str': '246578276', 'indices': [3, 14]}], 'symbols': [], 'urls': [{'expanded_url': 'https://twitter.com/Brooke_dheaaa/status/714651520126423042', 'url': 'https://t.co/cytYOBsyIU', 'display_url': 'twitter.com/Brooke_dheaaa/…', 'indices': [139, 140]}]}\": 1,\n",
       " \"{'hashtags': [], 'user_mentions': [{'screen_name': 'BIackPplTweets', 'name': 'Black People Tweets', 'id': 472769001, 'id_str': '472769001', 'indices': [3, 18]}], 'symbols': [], 'urls': [{'expanded_url': 'https://vine.co/v/ippWn5vUF3F', 'url': 'https://t.co/RFlu17Z1eE', 'display_url': 'vine.co/v/ippWn5vUF3F', 'indices': [59, 82]}]}\": 1,\n",
       " \"{'hashtags': [], 'user_mentions': [{'screen_name': 'trumpresearch', 'name': 'I miss Marco', 'id': 708090928100028416, 'id_str': '708090928100028416', 'indices': [3, 17]}, {'screen_name': 'WaitingInBagdad', 'name': 'Johann Sebastian Bac', 'id': 2569487083, 'id_str': '2569487083', 'indices': [19, 35]}, {'screen_name': 'thehill', 'name': 'The Hill', 'id': 1917731, 'id_str': '1917731', 'indices': [36, 44]}], 'symbols': [], 'urls': []}\": 2,\n",
       " \"{'hashtags': [], 'user_mentions': [{'screen_name': 'HouseCracka', 'name': 'HouseCracka', 'id': 16190478, 'id_str': '16190478', 'indices': [3, 15]}], 'symbols': [], 'urls': [{'expanded_url': 'https://www.youtube.com/watch?v=F-5N6Bxy_h4', 'url': 'https://t.co/7QCFz9ehNe', 'display_url': 'youtube.com/watch?v=F-5N6B…', 'indices': [70, 93]}]}\": 1,\n",
       " \"{'hashtags': [], 'user_mentions': [{'screen_name': 'urfavandtrump', 'name': 'rt ur fave OR trump', 'id': 714428593313480704, 'id_str': '714428593313480704', 'indices': [3, 17]}], 'symbols': [], 'media': [{'sizes': {'large': {'w': 384, 'h': 383, 'resize': 'fit'}, 'medium': {'w': 384, 'h': 383, 'resize': 'fit'}, 'small': {'w': 340, 'h': 339, 'resize': 'fit'}, 'thumb': {'w': 150, 'h': 150, 'resize': 'crop'}}, 'expanded_url': 'http://twitter.com/urfavandtrump/status/714602109098786816/photo/1', 'url': 'https://t.co/PZ5vS94lOg', 'media_url_https': 'https://pbs.twimg.com/media/CerG057WIAAe2pC.jpg', 'source_user_id': 714428593313480704, 'media_url': 'http://pbs.twimg.com/media/CerG057WIAAe2pC.jpg', 'type': 'photo', 'indices': [60, 83], 'source_status_id': 714602109098786816, 'id_str': '714602103096877056', 'source_user_id_str': '714428593313480704', 'id': 714602103096877056, 'display_url': 'pic.twitter.com/PZ5vS94lOg', 'source_status_id_str': '714602109098786816'}], 'urls': []}\": 2,\n",
       " \"{'hashtags': [{'text': 'Trump', 'indices': [34, 40]}], 'user_mentions': [{'screen_name': 'trapgrampa', 'name': 'Trap Grampa', 'id': 2890400179, 'id_str': '2890400179', 'indices': [3, 14]}], 'symbols': [], 'media': [{'sizes': {'large': {'w': 573, 'h': 620, 'resize': 'fit'}, 'medium': {'w': 573, 'h': 620, 'resize': 'fit'}, 'small': {'w': 340, 'h': 368, 'resize': 'fit'}, 'thumb': {'w': 150, 'h': 150, 'resize': 'crop'}}, 'expanded_url': 'http://twitter.com/trapgrampa/status/714918156171665408/photo/1', 'url': 'https://t.co/fYSiHNS0nT', 'media_url_https': 'https://pbs.twimg.com/media/CevmRbcWsAAf-ec.jpg', 'source_user_id': 2890400179, 'media_url': 'http://pbs.twimg.com/media/CevmRbcWsAAf-ec.jpg', 'type': 'photo', 'indices': [63, 86], 'source_status_id': 714918156171665408, 'id_str': '714918152967204864', 'source_user_id_str': '2890400179', 'id': 714918152967204864, 'display_url': 'pic.twitter.com/fYSiHNS0nT', 'source_status_id_str': '714918156171665408'}], 'urls': []}\": 2,\n",
       " \"{'hashtags': [{'text': 'SleazyDonald', 'indices': [29, 42]}, {'text': 'LyinTrump', 'indices': [99, 109]}, {'text': 'NeverTrump', 'indices': [110, 121]}, {'text': 'CruzCrew', 'indices': [123, 132]}], 'user_mentions': [{'screen_name': 'Pjw20161951', 'name': 'PJW', 'id': 4729714512, 'id_str': '4729714512', 'indices': [3, 15]}], 'symbols': [], 'urls': [{'expanded_url': 'http://m.therightscoop.com/not-kidding-donald-trump-just-attacked-scott-walker-for-not-raising-taxes-in-wisconsin/', 'url': 'https://t.co/5X4OEcbfvO', 'display_url': 'm.therightscoop.com/not-kidding-do…', 'indices': [139, 140]}]}\": 2,\n",
       " \"{'hashtags': [], 'user_mentions': [{'screen_name': 'ggreenwald', 'name': 'Glenn Greenwald', 'id': 16076032, 'id_str': '16076032', 'indices': [3, 14]}, {'screen_name': 'SusanSarandon', 'name': 'Susan Sarandon', 'id': 618300542, 'id_str': '618300542', 'indices': [49, 63]}], 'symbols': [], 'urls': [{'expanded_url': 'https://twitter.com/SusanSarandon/status/714940487833153536', 'url': 'https://t.co/AbgnHPpjnp', 'display_url': 'twitter.com/SusanSarandon/…', 'indices': [139, 140]}]}\": 3,\n",
       " \"{'hashtags': [], 'user_mentions': [{'screen_name': 'mitchellvii', 'name': 'Bill Mitchell', 'id': 17980523, 'id_str': '17980523', 'indices': [3, 15]}], 'symbols': [], 'urls': []}\": 2,\n",
       " \"{'hashtags': [{'text': 'Trump', 'indices': [23, 29]}, {'text': 'tcot', 'indices': [121, 126]}, {'text': 'PJNET', 'indices': [127, 133]}], 'user_mentions': [{'screen_name': 'paulbenedict7', 'name': 'Paul Benedict', 'id': 46303458, 'id_str': '46303458', 'indices': [3, 17]}], 'symbols': [], 'media': [{'sizes': {'large': {'w': 1024, 'h': 797, 'resize': 'fit'}, 'medium': {'w': 600, 'h': 467, 'resize': 'fit'}, 'small': {'w': 340, 'h': 265, 'resize': 'fit'}, 'thumb': {'w': 150, 'h': 150, 'resize': 'crop'}}, 'expanded_url': 'http://twitter.com/paulbenedict7/status/714270998380437505/photo/1', 'url': 'https://t.co/gzb6G51Whk', 'media_url_https': 'https://pbs.twimg.com/media/CemZsAoWEAAsKiP.jpg', 'source_user_id': 46303458, 'media_url': 'http://pbs.twimg.com/media/CemZsAoWEAAsKiP.jpg', 'type': 'photo', 'indices': [139, 140], 'source_status_id': 714270998380437505, 'id_str': '714270997277446144', 'source_user_id_str': '46303458', 'id': 714270997277446144, 'display_url': 'pic.twitter.com/gzb6G51Whk', 'source_status_id_str': '714270998380437505'}], 'urls': [{'expanded_url': 'http://theminutemenmedia.com/2015/12/sacking-rino-strongholds-how-to-recapture-the-republican-party/', 'url': 'https://t.co/D7ulnAJhis', 'display_url': 'theminutemenmedia.com/2015/12/sackin…', 'indices': [95, 118]}]}\": 2,\n",
       " \"{'hashtags': [], 'user_mentions': [{'screen_name': 'DRUDGE_REPORT', 'name': 'DRUDGE REPORT', 'id': 14669951, 'id_str': '14669951', 'indices': [3, 17]}], 'symbols': [], 'urls': [{'expanded_url': 'http://bit.ly/1RpIktd', 'url': 'https://t.co/qt06aG9inT', 'display_url': 'bit.ly/1RpIktd', 'indices': [105, 128]}]}\": 2,\n",
       " \"{'hashtags': [{'text': 'HillYes', 'indices': [0, 8]}, {'text': 'ImWithHer', 'indices': [9, 19]}, {'text': 'RollHillary', 'indices': [20, 32]}], 'user_mentions': [{'screen_name': 'HillaryClinton', 'name': 'Hillary Clinton', 'id': 1339835893, 'id_str': '1339835893', 'indices': [33, 48]}], 'symbols': [], 'urls': [{'expanded_url': 'https://twitter.com/steveweinstein/status/714918223997632512', 'url': 'https://t.co/OwYXKIalyn', 'display_url': 'twitter.com/steveweinstein…', 'indices': [50, 73]}]}\": 2,\n",
       " \"{'hashtags': [], 'user_mentions': [{'screen_name': 'DennisApgar', 'name': 'Dennis Apgar', 'id': 383854909, 'id_str': '383854909', 'indices': [3, 15]}], 'symbols': [], 'urls': [{'expanded_url': 'https://twitter.com/UTHornsRawk/status/714958131441192960', 'url': 'https://t.co/hfGTuz7Ul3', 'display_url': 'twitter.com/UTHornsRawk/st…', 'indices': [139, 140]}]}\": 2,\n",
       " \"{'hashtags': [], 'user_mentions': [], 'symbols': [], 'urls': [{'expanded_url': 'http://www.politico.com/blogs/2016-dem-primary-live-updates-and-results/2016/03/hillary-clinton-bernie-sanders-tone-debate-221328', 'url': 'https://t.co/r3WkGZDjPH', 'display_url': 'politico.com/blogs/2016-dem…', 'indices': [38, 61]}]}\": 1,\n",
       " \"{'hashtags': [], 'user_mentions': [{'screen_name': 'sciam', 'name': 'Scientific American', 'id': 14647570, 'id_str': '14647570', 'indices': [3, 9]}], 'symbols': [], 'media': [{'sizes': {'large': {'w': 591, 'h': 395, 'resize': 'fit'}, 'medium': {'w': 591, 'h': 395, 'resize': 'fit'}, 'small': {'w': 340, 'h': 227, 'resize': 'fit'}, 'thumb': {'w': 150, 'h': 150, 'resize': 'crop'}}, 'expanded_url': 'http://twitter.com/sciam/status/713435943638863873/photo/1', 'url': 'https://t.co/P9NP5eQSLj', 'media_url_https': 'https://pbs.twimg.com/media/CeaiNelWIAAbM7z.jpg', 'source_user_id': 14647570, 'media_url': 'http://pbs.twimg.com/media/CeaiNelWIAAbM7z.jpg', 'type': 'photo', 'indices': [123, 140], 'source_status_id': 713435943638863873, 'id_str': '713435943416504320', 'source_user_id_str': '14647570', 'id': 713435943416504320, 'display_url': 'pic.twitter.com/P9NP5eQSLj', 'source_status_id_str': '713435943638863873'}], 'urls': [{'expanded_url': 'http://bit.ly/1UhG4Xi', 'url': 'https://t.co/QXwquVgs3c', 'display_url': 'bit.ly/1UhG4Xi', 'indices': [99, 122]}]}\": 2,\n",
       " \"{'hashtags': [{'text': 'NeverTrump', 'indices': [117, 128]}], 'user_mentions': [{'screen_name': 'Norsu2', 'name': 'Norsu', 'id': 149315713, 'id_str': '149315713', 'indices': [3, 10]}], 'symbols': [], 'urls': [{'expanded_url': 'http://www.politico.com/tipsheets/morning-score/2016/03/delegate-chase-tight-race-in-wisconsin-trump-running-up-the-score-in-new-york-dem-oppo-picks-up-2014-republicans-tactics-king-predicts-very-nasty-race-in-ia-04-213432', 'url': 'https://t.co/lJsgbLYY1P', 'display_url': 'politico.com/tipsheets/morn…', 'indices': [93, 116]}]}\": 1,\n",
       " \"{'hashtags': [], 'user_mentions': [{'screen_name': 'thehill', 'name': 'The Hill', 'id': 1917731, 'id_str': '1917731', 'indices': [3, 11]}], 'symbols': [], 'media': [{'sizes': {'large': {'w': 1024, 'h': 569, 'resize': 'fit'}, 'medium': {'w': 600, 'h': 333, 'resize': 'fit'}, 'small': {'w': 340, 'h': 189, 'resize': 'fit'}, 'thumb': {'w': 150, 'h': 150, 'resize': 'crop'}}, 'expanded_url': 'http://twitter.com/thehill/status/714959102980591617/photo/1', 'url': 'https://t.co/skAfByXuQc', 'media_url_https': 'https://pbs.twimg.com/media/CewLg92WAAAA52o.jpg', 'source_user_id': 1917731, 'media_url': 'http://pbs.twimg.com/media/CewLg92WAAAA52o.jpg', 'type': 'photo', 'indices': [96, 119], 'source_status_id': 714959102980591617, 'id_str': '714959101831282688', 'source_user_id_str': '1917731', 'id': 714959101831282688, 'display_url': 'pic.twitter.com/skAfByXuQc', 'source_status_id_str': '714959102980591617'}], 'urls': [{'expanded_url': 'http://hill.cm/Wrfjdvs', 'url': 'https://t.co/B5f65Al9ld', 'display_url': 'hill.cm/Wrfjdvs', 'indices': [72, 95]}]}\": 1,\n",
       " \"{'hashtags': [], 'user_mentions': [], 'symbols': [], 'urls': [{'expanded_url': 'http://goo.gl/fb/8OkMqj', 'url': 'https://t.co/9Z9ZVnZ1Zi', 'display_url': 'goo.gl/fb/8OkMqj', 'indices': [37, 60]}]}\": 2,\n",
       " \"{'hashtags': [], 'user_mentions': [], 'symbols': [], 'urls': [{'expanded_url': 'http://thehill.com/blogs/ballot-box/presidential-races/274608-gop-speechwriter-by-november-ivanka-will-be-voting-for', 'url': 'https://t.co/tUT7LpEHak', 'display_url': 'thehill.com/blogs/ballot-b…', 'indices': [75, 98]}]}\": 1,\n",
       " \"{'hashtags': [], 'user_mentions': [], 'symbols': [], 'urls': [{'expanded_url': 'https://twitter.com/nytopinion/status/714844447423512576', 'url': 'https://t.co/ojYaDpnSoe', 'display_url': 'twitter.com/nytopinion/sta…', 'indices': [41, 64]}]}\": 1,\n",
       " \"{'hashtags': [], 'user_mentions': [{'screen_name': 'DebbieStout5', 'name': 'Debbie Stout', 'id': 713159635, 'id_str': '713159635', 'indices': [3, 16]}], 'symbols': [], 'urls': [{'expanded_url': 'https://twitter.com/valente_montes/status/714876323899056128', 'url': 'https://t.co/e7ogyYlVkW', 'display_url': 'twitter.com/valente_montes…', 'indices': [143, 144]}]}\": 1,\n",
       " \"{'hashtags': [], 'user_mentions': [{'screen_name': 'tyleroakley', 'name': 'Tyler Oakley', 'id': 14222536, 'id_str': '14222536', 'indices': [3, 15]}], 'symbols': [], 'urls': []}\": 1,\n",
       " \"{'hashtags': [], 'user_mentions': [{'screen_name': 'vandives', 'name': 'AEV', 'id': 163505280, 'id_str': '163505280', 'indices': [3, 12]}], 'symbols': [], 'urls': []}\": 1,\n",
       " \"{'hashtags': [], 'user_mentions': [{'screen_name': 'AP', 'name': 'The Associated Press', 'id': 51241574, 'id_str': '51241574', 'indices': [3, 6]}], 'symbols': [], 'urls': []}\": 2,\n",
       " \"{'hashtags': [{'text': 'Trump', 'indices': [65, 71]}, {'text': 'Election2016', 'indices': [72, 85]}], 'user_mentions': [], 'symbols': [], 'media': [{'sizes': {'large': {'w': 600, 'h': 632, 'resize': 'fit'}, 'medium': {'w': 600, 'h': 632, 'resize': 'fit'}, 'small': {'w': 340, 'h': 358, 'resize': 'fit'}, 'thumb': {'w': 150, 'h': 150, 'resize': 'crop'}}, 'expanded_url': 'http://twitter.com/Maximius3000/status/714960403822804992/photo/1', 'url': 'https://t.co/W4ZXQfUHi8', 'id_str': '714960403088994306', 'indices': [86, 109], 'media_url_https': 'https://pbs.twimg.com/media/CewMstaW8AIAdDR.jpg', 'media_url': 'http://pbs.twimg.com/media/CewMstaW8AIAdDR.jpg', 'type': 'photo', 'id': 714960403088994306, 'display_url': 'pic.twitter.com/W4ZXQfUHi8'}], 'urls': [{'expanded_url': 'http://www.unz.com/freed/it-cometh-from-the-pit-and-hath-a-knout/', 'url': 'https://t.co/iyF5HPDJNU', 'display_url': 'unz.com/freed/it-comet…', 'indices': [41, 64]}]}\": 1,\n",
       " \"{'hashtags': [], 'user_mentions': [{'screen_name': 'footlooseracer', 'name': 'EdM', 'id': 504899058, 'id_str': '504899058', 'indices': [0, 15]}, {'screen_name': 'hautedamn', 'name': 'hautedamn', 'id': 70883367, 'id_str': '70883367', 'indices': [16, 26]}, {'screen_name': 'z0mgItsHutch', 'name': 'Hutch', 'id': 284422688, 'id_str': '284422688', 'indices': [27, 40]}], 'symbols': [], 'urls': []}\": 1,\n",
       " \"{'hashtags': [], 'user_mentions': [{'screen_name': 'urfavandtrump', 'name': 'rt ur fave OR trump', 'id': 714428593313480704, 'id_str': '714428593313480704', 'indices': [3, 17]}], 'symbols': [], 'media': [{'sizes': {'large': {'w': 500, 'h': 503, 'resize': 'fit'}, 'medium': {'w': 500, 'h': 503, 'resize': 'fit'}, 'small': {'w': 340, 'h': 342, 'resize': 'fit'}, 'thumb': {'w': 150, 'h': 150, 'resize': 'crop'}}, 'expanded_url': 'http://twitter.com/urfavandtrump/status/714869436797296640/photo/1', 'url': 'https://t.co/nEVxElW6iG', 'media_url_https': 'https://pbs.twimg.com/media/Ceu59D_XEAIndNh.jpg', 'source_user_id': 714428593313480704, 'media_url': 'http://pbs.twimg.com/media/Ceu59D_XEAIndNh.jpg', 'type': 'photo', 'indices': [67, 90], 'source_status_id': 714869436797296640, 'id_str': '714869424562573314', 'source_user_id_str': '714428593313480704', 'id': 714869424562573314, 'display_url': 'pic.twitter.com/nEVxElW6iG', 'source_status_id_str': '714869436797296640'}], 'urls': []}\": 2,\n",
       " \"{'hashtags': [], 'user_mentions': [{'screen_name': 'piersmorgan', 'name': 'Piers Morgan', 'id': 216299334, 'id_str': '216299334', 'indices': [5, 17]}], 'symbols': [], 'urls': [{'expanded_url': 'https://twitter.com/mattdpearce/status/714959042830077953', 'url': 'https://t.co/2Gjp2NPo0w', 'display_url': 'twitter.com/mattdpearce/st…', 'indices': [32, 55]}]}\": 2,\n",
       " \"{'hashtags': [], 'user_mentions': [{'screen_name': 'NoahCRothman', 'name': 'Noah Rothman', 'id': 168531961, 'id_str': '168531961', 'indices': [3, 16]}], 'symbols': [], 'urls': [{'expanded_url': 'http://bit.ly/1Rpsgrw', 'url': 'https://t.co/e1UWNNo475', 'display_url': 'bit.ly/1Rpsgrw', 'indices': [120, 140]}]}\": 2,\n",
       " \"{'hashtags': [], 'user_mentions': [{'screen_name': 'RedheadAndRight', 'name': 'Ginger Snap', 'id': 701784218, 'id_str': '701784218', 'indices': [3, 19]}], 'symbols': [], 'urls': [{'expanded_url': 'http://bit.ly/1pZ5yMS', 'url': 'https://t.co/c5c2sD8VO2', 'display_url': 'bit.ly/1pZ5yMS', 'indices': [79, 102]}]}\": 2,\n",
       " \"{'hashtags': [], 'user_mentions': [], 'symbols': [], 'media': [{'sizes': {'large': {'w': 1024, 'h': 685, 'resize': 'fit'}, 'medium': {'w': 600, 'h': 401, 'resize': 'fit'}, 'small': {'w': 340, 'h': 227, 'resize': 'fit'}, 'thumb': {'w': 150, 'h': 150, 'resize': 'crop'}}, 'expanded_url': 'http://twitter.com/Mr_Jangojim/status/714960404947070976/photo/1', 'url': 'https://t.co/IwD9Lg84HY', 'id_str': '714960403554500609', 'indices': [101, 124], 'media_url_https': 'https://pbs.twimg.com/media/CewMsvJWAAE8lNY.jpg', 'media_url': 'http://pbs.twimg.com/media/CewMsvJWAAE8lNY.jpg', 'type': 'photo', 'id': 714960403554500609, 'display_url': 'pic.twitter.com/IwD9Lg84HY'}], 'urls': [{'expanded_url': 'https://youtu.be/86sLolIPxLU', 'url': 'https://t.co/LhUYdi8Vgf', 'display_url': 'youtu.be/86sLolIPxLU', 'indices': [77, 100]}]}\": 1,\n",
       " \"{'hashtags': [], 'user_mentions': [{'screen_name': 'AIIAmericanGirI', 'name': 'All American Girl', 'id': 1494835716, 'id_str': '1494835716', 'indices': [3, 19]}], 'symbols': [], 'urls': [{'expanded_url': 'http://www.thegatewaypundit.com/2016/03/video-anti-trump-protester-slugs-elderly-trump-supporter-face/', 'url': 'https://t.co/GeEryMDuDY', 'display_url': 'thegatewaypundit.com/2016/03/video-…', 'indices': [95, 118]}]}\": 2,\n",
       " \"{'hashtags': [], 'user_mentions': [{'screen_name': 'JusticeRanger1', 'name': 'Clarence Malcolm', 'id': 3387831732, 'id_str': '3387831732', 'indices': [3, 18]}, {'screen_name': 'realDonaldTrump', 'name': 'Donald J. Trump', 'id': 25073877, 'id_str': '25073877', 'indices': [20, 36]}, {'screen_name': 'Pudingtane', 'name': 'di kele', 'id': 45450902, 'id_str': '45450902', 'indices': [37, 48]}, {'screen_name': 'DanScavino', 'name': 'Dan Scavino', 'id': 620571475, 'id_str': '620571475', 'indices': [49, 60]}, {'screen_name': 'GOP', 'name': 'GOP', 'id': 11134252, 'id_str': '11134252', 'indices': [61, 65]}, {'screen_name': 'infowars', 'name': 'infowars', 'id': 14505245, 'id_str': '14505245', 'indices': [66, 75]}, {'screen_name': 'EricTrump', 'name': 'Eric Trump', 'id': 39349894, 'id_str': '39349894', 'indices': [76, 86]}], 'symbols': [], 'media': [{'sizes': {'large': {'w': 476, 'h': 631, 'resize': 'fit'}, 'medium': {'w': 476, 'h': 631, 'resize': 'fit'}, 'small': {'w': 340, 'h': 451, 'resize': 'fit'}, 'thumb': {'w': 150, 'h': 150, 'resize': 'crop'}}, 'expanded_url': 'http://twitter.com/JusticeRanger1/status/714950736610611200/photo/1', 'url': 'https://t.co/OAYyNJXKiA', 'media_url_https': 'https://pbs.twimg.com/media/CewD5kkW8AQEGFA.jpg', 'source_user_id': 3387831732, 'media_url': 'http://pbs.twimg.com/media/CewD5kkW8AQEGFA.jpg', 'type': 'photo', 'indices': [139, 140], 'source_status_id': 714950736610611200, 'id_str': '714950728448667652', 'source_user_id_str': '3387831732', 'id': 714950728448667652, 'display_url': 'pic.twitter.com/OAYyNJXKiA', 'source_status_id_str': '714950736610611200'}], 'urls': []}\": 2,\n",
       " \"{'hashtags': [], 'user_mentions': [], 'symbols': [], 'urls': [{'expanded_url': 'http://ln.is/www.vulture.com/2016/C7yjB', 'url': 'https://t.co/Gjzkpr5mrH', 'display_url': 'ln.is/www.vulture.co…', 'indices': [58, 81]}]}\": 2,\n",
       " \"{'hashtags': [], 'user_mentions': [{'screen_name': 'jbrading', 'name': 'Jay-B', 'id': 23132617, 'id_str': '23132617', 'indices': [0, 9]}], 'symbols': [], 'urls': []}\": 2,\n",
       " \"{'hashtags': [], 'user_mentions': [{'screen_name': 'Schneider_CM', 'name': 'Christian Schneider', 'id': 42965000, 'id_str': '42965000', 'indices': [3, 16]}], 'symbols': [], 'urls': []}\": 2,\n",
       " \"{'hashtags': [], 'user_mentions': [{'screen_name': 'RonBasler1', 'name': 'Ron Basler', 'id': 3286910690, 'id_str': '3286910690', 'indices': [3, 14]}, {'screen_name': 'DavidWhitDennis', 'name': 'David Dennis', 'id': 1547177328, 'id_str': '1547177328', 'indices': [16, 32]}, {'screen_name': 'realDonaldTrump', 'name': 'Donald J. Trump', 'id': 25073877, 'id_str': '25073877', 'indices': [33, 49]}, {'screen_name': 'tedcruz', 'name': 'Ted Cruz', 'id': 23022687, 'id_str': '23022687', 'indices': [50, 58]}], 'symbols': [], 'urls': []}\": 2,\n",
       " \"{'hashtags': [], 'user_mentions': [{'screen_name': 'realDonaldTrump', 'name': 'Donald J. Trump', 'id': 25073877, 'id_str': '25073877', 'indices': [0, 16]}], 'symbols': [], 'urls': []}\": 2,\n",
       " '{\\'hashtags\\': [], \\'user_mentions\\': [{\\'screen_name\\': \\'DonaldsAngel\\', \\'name\\': \"Donald\\'s Angel\", \\'id\\': 3325408622, \\'id_str\\': \\'3325408622\\', \\'indices\\': [3, 16]}], \\'symbols\\': [], \\'urls\\': []}': 2,\n",
       " \"{'hashtags': [{'text': 'Donald', 'indices': [7, 14]}, {'text': 'Trump', 'indices': [15, 21]}, {'text': 'Protest', 'indices': [22, 30]}, {'text': 'Milwaukee', 'indices': [34, 44]}, {'text': 'Town', 'indices': [62, 67]}, {'text': 'Hall', 'indices': [68, 73]}, {'text': 'Trump', 'indices': [79, 85]}, {'text': 'Cruz', 'indices': [91, 96]}], 'user_mentions': [], 'symbols': [], 'urls': [{'expanded_url': 'http://bit.ly/25v9GUR', 'url': 'https://t.co/8NOguZUSCK', 'display_url': 'bit.ly/25v9GUR', 'indices': [102, 125]}]}\": 2,\n",
       " \"{'hashtags': [], 'user_mentions': [{'screen_name': 'Dodarey', 'name': 'Doda', 'id': 532545303, 'id_str': '532545303', 'indices': [3, 11]}, {'screen_name': 'DR8801', 'name': 'David', 'id': 469381281, 'id_str': '469381281', 'indices': [13, 20]}, {'screen_name': 'SykesCharlie', 'name': 'Charles Sykes', 'id': 95463107, 'id_str': '95463107', 'indices': [21, 34]}, {'screen_name': 'TheLastRefuge2', 'name': 'TheLastRefuge', 'id': 594886554, 'id_str': '594886554', 'indices': [137, 140]}], 'symbols': [], 'urls': []}\": 2,\n",
       " \"{'hashtags': [{'text': 'Trump', 'indices': [120, 126]}, {'text': 'GOP', 'indices': [127, 131]}], 'user_mentions': [{'screen_name': 'RockCliffOne', 'name': 'Potomac RiverBanks', 'id': 3426130359, 'id_str': '3426130359', 'indices': [3, 16]}], 'symbols': [], 'media': [{'sizes': {'large': {'w': 508, 'h': 505, 'resize': 'fit'}, 'medium': {'w': 508, 'h': 505, 'resize': 'fit'}, 'small': {'w': 340, 'h': 338, 'resize': 'fit'}, 'thumb': {'w': 150, 'h': 150, 'resize': 'crop'}}, 'expanded_url': 'http://twitter.com/RockCliffOne/status/713744863896985604/photo/1', 'url': 'https://t.co/ZF2VaViTX3', 'media_url_https': 'https://pbs.twimg.com/media/Cee7Ks-W8AICtP3.jpg', 'source_user_id': 3426130359, 'media_url': 'http://pbs.twimg.com/media/Cee7Ks-W8AICtP3.jpg', 'type': 'photo', 'indices': [139, 140], 'source_status_id': 713744863896985604, 'id_str': '713744858507309058', 'source_user_id_str': '3426130359', 'id': 713744858507309058, 'display_url': 'pic.twitter.com/ZF2VaViTX3', 'source_status_id_str': '713744863896985604'}], 'urls': []}\": 2,\n",
       " \"{'hashtags': [], 'user_mentions': [{'screen_name': 'HillaryClinton', 'name': 'Hillary Clinton', 'id': 1339835893, 'id_str': '1339835893', 'indices': [3, 18]}], 'symbols': [], 'urls': [{'expanded_url': 'https://amp.twimg.com/v/81644139-c349-4a07-9c73-182d1e268ec1', 'url': 'https://t.co/pupR70Pm55', 'display_url': 'amp.twimg.com/v/81644139-c34…', 'indices': [139, 140]}]}\": 2,\n",
       " \"{'hashtags': [], 'user_mentions': [{'screen_name': 'realDonaldTrump', 'name': 'Donald J. Trump', 'id': 25073877, 'id_str': '25073877', 'indices': [0, 16]}, {'screen_name': 'MELANIATRUMP', 'name': 'MELANIA TRUMP', 'id': 108471631, 'id_str': '108471631', 'indices': [17, 30]}], 'symbols': [], 'urls': []}\": 2,\n",
       " \"{'hashtags': [], 'user_mentions': [], 'symbols': [], 'urls': [{'expanded_url': 'https://twitter.com/Bencjacobs/status/714960257408217088', 'url': 'https://t.co/cmUYxtrX0Y', 'display_url': 'twitter.com/Bencjacobs/sta…', 'indices': [34, 57]}]}\": 2,\n",
       " \"{'hashtags': [], 'user_mentions': [], 'symbols': [], 'urls': [{'expanded_url': 'http://ift.tt/22Ztn56', 'url': 'https://t.co/SpIukqj3Rb', 'display_url': 'ift.tt/22Ztn56', 'indices': [42, 65]}]}\": 1,\n",
       " \"{'hashtags': [], 'user_mentions': [{'screen_name': 'immigrant4trump', 'name': 'Mark F.', 'id': 3677742792, 'id_str': '3677742792', 'indices': [3, 19]}, {'screen_name': 'immigrant4trump', 'name': 'Mark F.', 'id': 3677742792, 'id_str': '3677742792', 'indices': [21, 37]}], 'symbols': [], 'urls': []}\": 2,\n",
       " \"{'hashtags': [], 'user_mentions': [{'screen_name': 'ErinBurnett', 'name': 'Erin Burnett', 'id': 322603418, 'id_str': '322603418', 'indices': [0, 12]}, {'screen_name': 'Bakari_Sellers', 'name': 'Bakari Sellers', 'id': 241201438, 'id_str': '241201438', 'indices': [13, 28]}, {'screen_name': 'benfergusonshow', 'name': 'Ben Ferguson', 'id': 45445747, 'id_str': '45445747', 'indices': [29, 45]}, {'screen_name': 'BernieSanders', 'name': 'Bernie Sanders', 'id': 216776631, 'id_str': '216776631', 'indices': [46, 60]}, {'screen_name': 'CNN', 'name': 'CNN', 'id': 759251, 'id_str': '759251', 'indices': [67, 71]}], 'symbols': [], 'urls': []}\": 2,\n",
       " \"{'hashtags': [], 'user_mentions': [{'screen_name': 'noreallyhowcome', 'name': 'SanBernaDingDong', 'id': 2567842008, 'id_str': '2567842008', 'indices': [0, 16]}, {'screen_name': 'TVineberg', 'name': 'Tony Vinebern', 'id': 923536003, 'id_str': '923536003', 'indices': [17, 27]}], 'symbols': [], 'media': [{'sizes': {'large': {'w': 470, 'h': 470, 'resize': 'fit'}, 'medium': {'w': 470, 'h': 470, 'resize': 'fit'}, 'small': {'w': 340, 'h': 340, 'resize': 'fit'}, 'thumb': {'w': 150, 'h': 150, 'resize': 'crop'}}, 'expanded_url': 'http://twitter.com/Maynard1Rick/status/714960407572537345/photo/1', 'url': 'https://t.co/W53JJCkDFv', 'id_str': '714960406293430272', 'indices': [115, 138], 'media_url_https': 'https://pbs.twimg.com/media/CewMs5WWwAAAF7V.jpg', 'media_url': 'http://pbs.twimg.com/media/CewMs5WWwAAAF7V.jpg', 'type': 'photo', 'id': 714960406293430272, 'display_url': 'pic.twitter.com/W53JJCkDFv'}], 'urls': [{'expanded_url': 'http://www.berniesandersvideo.com/', 'url': 'https://t.co/bhaUnQ4jrr', 'display_url': 'berniesandersvideo.com', 'indices': [47, 70]}, {'expanded_url': 'http://www.berniesandersvideo.com/hillary-clinton.html', 'url': 'https://t.co/eAbfWrAG4G', 'display_url': 'berniesandersvideo.com/hillary-clinto…', 'indices': [91, 114]}]}\": 1,\n",
       " \"{'hashtags': [], 'user_mentions': [{'screen_name': 'GlendaJazzey', 'name': 'Glenda Slayton', 'id': 1895563525, 'id_str': '1895563525', 'indices': [3, 16]}, {'screen_name': 'rrotunda', 'name': 'Ronald Rotunda', 'id': 22510065, 'id_str': '22510065', 'indices': [59, 68]}, {'screen_name': 'VerdictJustia', 'name': 'Justia Verdict', 'id': 323414599, 'id_str': '323414599', 'indices': [97, 111]}], 'symbols': [], 'urls': [{'expanded_url': 'http://ln.is/verdict.justia.com/2/WrMNl', 'url': 'https://t.co/L8flI4lswG', 'display_url': 'ln.is/verdict.justia…', 'indices': [69, 92]}]}\": 1,\n",
       " \"{'hashtags': [], 'user_mentions': [], 'symbols': [], 'urls': [{'expanded_url': 'http://www.businessinsider.com/how-cruz-outfoxed-trump-in-louisiana-2016-3', 'url': 'https://t.co/MZrvWwTWZV', 'display_url': 'businessinsider.com/how-cruz-outfo…', 'indices': [113, 136]}]}\": 1,\n",
       " \"{'hashtags': [], 'user_mentions': [], 'symbols': [], 'urls': [{'expanded_url': 'http://jwatch.us/qVVY4x', 'url': 'https://t.co/EuW9J1WVm1', 'display_url': 'jwatch.us/qVVY4x', 'indices': [94, 117]}]}\": 1,\n",
       " \"{'hashtags': [], 'user_mentions': [{'screen_name': 'realDonaldTrump', 'name': 'Donald J. Trump', 'id': 25073877, 'id_str': '25073877', 'indices': [64, 80]}], 'symbols': [], 'urls': [{'expanded_url': 'https://twitter.com/HillaryClinton/status/714904719819341824', 'url': 'https://t.co/BbYMxRWadC', 'display_url': 'twitter.com/HillaryClinton…', 'indices': [82, 105]}]}\": 1,\n",
       " \"{'hashtags': [], 'user_mentions': [{'screen_name': 'TUSK81', 'name': '¡Gabe! Ortíz', 'id': 14526877, 'id_str': '14526877', 'indices': [3, 10]}], 'symbols': [], 'urls': [{'expanded_url': 'https://twitter.com/goldietaylor/status/714615332485390336', 'url': 'https://t.co/hlPVyNLXzx', 'display_url': 'twitter.com/goldietaylor/s…', 'indices': [46, 69]}]}\": 1,\n",
       " \"{'hashtags': [], 'user_mentions': [{'screen_name': 'loopzoop', 'name': 'rat mic', 'id': 326292008, 'id_str': '326292008', 'indices': [3, 12]}], 'symbols': [], 'urls': [{'expanded_url': 'https://twitter.com/nymag/status/714452914685788160', 'url': 'https://t.co/8Yb7BDT5VM', 'display_url': 'twitter.com/nymag/status/7…', 'indices': [33, 56]}]}\": 1,\n",
       " \"{'hashtags': [], 'user_mentions': [], 'symbols': [], 'urls': [{'expanded_url': 'https://twitter.com/realDonaldTrump/status/714898756420939780', 'url': 'https://t.co/qvK17ZnUTZ', 'display_url': 'twitter.com/realDonaldTrum…', 'indices': [22, 45]}]}\": 1,\n",
       " \"{'hashtags': [], 'user_mentions': [{'screen_name': 'claytoncubitt', 'name': 'Clayton Cubitt', 'id': 15875898, 'id_str': '15875898', 'indices': [3, 17]}], 'symbols': [], 'urls': []}\": 1,\n",
       " \"{'hashtags': [], 'user_mentions': [], 'symbols': [], 'urls': [{'expanded_url': 'https://twitter.com/Norsu2/status/714960230703054848', 'url': 'https://t.co/JYYok5qx7R', 'display_url': 'twitter.com/Norsu2/status/…', 'indices': [43, 66]}]}\": 2,\n",
       " \"{'hashtags': [{'text': 'NeverTrump', 'indices': [59, 70]}], 'user_mentions': [{'screen_name': 'akaMaude13', 'name': 'Michele M. Rogers', 'id': 1276453176, 'id_str': '1276453176', 'indices': [3, 14]}], 'symbols': [], 'urls': [{'expanded_url': 'https://twitter.com/ddale8/status/714948362118774784', 'url': 'https://t.co/JkTx6mdRgC', 'display_url': 'twitter.com/ddale8/status/…', 'indices': [72, 95]}]}\": 1,\n",
       " \"{'hashtags': [], 'user_mentions': [{'screen_name': 'marklevinshow', 'name': 'Mark R. Levin', 'id': 38495835, 'id_str': '38495835', 'indices': [0, 14]}], 'symbols': [], 'urls': [{'expanded_url': 'https://twitter.com/trump_prez/status/714925360480133122', 'url': 'https://t.co/z76fZzCRK3', 'display_url': 'twitter.com/trump_prez/sta…', 'indices': [41, 64]}]}\": 1}"
      ]
     },
     "execution_count": 217,
     "metadata": {},
     "output_type": "execute_result"
    }
   ],
   "source": [
    "\n",
    "\n",
    "count_entries(df, \"entities\")"
   ]
  },
  {
   "cell_type": "code",
   "execution_count": 218,
   "id": "38ea89cc",
   "metadata": {},
   "outputs": [
    {
     "data": {
      "text/plain": [
       "{False: 100}"
      ]
     },
     "execution_count": 218,
     "metadata": {},
     "output_type": "execute_result"
    }
   ],
   "source": [
    "count_entries(df, \"retweeted\")"
   ]
  },
  {
   "cell_type": "code",
   "execution_count": 219,
   "id": "6834ee48",
   "metadata": {},
   "outputs": [
    {
     "data": {
      "text/plain": [
       "{\"RT @bpolitics: .@krollbondrating's Christopher Whalen says Clinton is the weakest Dem candidate in 50 years https://t.co/pLk7rvoRSn https:/…\": 1,\n",
       " 'RT @HeidiAlpine: @dmartosko Cruz video found.....racing from the scene.... #cruzsexscandal https://t.co/zuAPZfQDk3': 1,\n",
       " 'Njihuni me Zonjën Trump !!! | Ekskluzive https://t.co/4KmsQi47VD': 1,\n",
       " \"Your an idiot she shouldn't have tried to grab trump after the fact she's an idiot https://t.co/lpASyeNVpG\": 2,\n",
       " 'RT @AlanLohner: The anti-American D.C. elites despise Trump for his America-first foreign policy. Trump threatens their gravy train. https:…': 1,\n",
       " 'RT @BIackPplTweets: Young Donald trump meets his neighbor  https://t.co/RFlu17Z1eE': 1,\n",
       " 'RT @trumpresearch: @WaitingInBagdad @thehill Trump supporters have selective amnisia.': 2,\n",
       " 'RT @HouseCracka: 29,000+ PEOPLE WATCHING TRUMP LIVE ON ONE STREAM!!!\\r\\n\\r\\nhttps://t.co/7QCFz9ehNe': 1,\n",
       " 'RT @urfavandtrump: RT for Brendon Urie\\r\\nFav for Donald Trump https://t.co/PZ5vS94lOg': 2,\n",
       " 'RT @trapgrampa: This is how I see #Trump every time he speaks. https://t.co/fYSiHNS0nT': 2,\n",
       " 'RT @Pjw20161951: NO KIDDING: #SleazyDonald just attacked Scott Walker for NOT RAISING TAXES in WI! #LyinTrump\\r\\n#NeverTrump  #CruzCrew  https…': 2,\n",
       " 'RT @ggreenwald: The media spent all day claiming @SusanSarandon said she might vote for Trump. A total fabrication, but whatever... https:/…': 3,\n",
       " 'RT @mitchellvii: So let me get this straight.  Any reporter can assault Mr Trump at any time and Corey can do nothing?  Michelle is clearly…': 2,\n",
       " 'RT @paulbenedict7: How #Trump Sacks RINO Strongholds by Hitting Positions Held by Dems and GOP https://t.co/D7ulnAJhis   #tcot #PJNET https…': 2,\n",
       " 'RT @DRUDGE_REPORT: VIDEO:  Trump emotional moment with Former Miss Wisconsin who has terminal illness... https://t.co/qt06aG9inT': 2,\n",
       " '#HillYes #ImWithHer #RollHillary @HillaryClinton  https://t.co/OwYXKIalyn': 2,\n",
       " \"RT @DennisApgar: Thank God I seen Trump at first stop in Wisconsin media doesn't know how great he is, advice watch live streaming https://…\": 2,\n",
       " \"Trump won't do a yes ma'am for this.  https://t.co/r3WkGZDjPH\": 1,\n",
       " \"RT @sciam: Trump's idiosyncratic patterns of speech are why people tend either to love or hate him https://t.co/QXwquVgs3c https://t.co/P9N…\": 2,\n",
       " 'RT @Norsu2: Nightmare WI poll for Ted Cruz has Kasich surging: Trump 29, Kasich 27, Cruz 25. https://t.co/lJsgbLYY1P #NeverTrump': 1,\n",
       " 'RT @thehill: WATCH: Protester pepper-sprayed point blank at Trump rally https://t.co/B5f65Al9ld https://t.co/skAfByXuQc': 1,\n",
       " 'Opinion: The big story is -- Sanders https://t.co/9Z9ZVnZ1Zi': 2,\n",
       " 'GOP speechwriter: By November, Ivanka will be voting for Clinton | TheHill https://t.co/tUT7LpEHak': 1,\n",
       " 'This dude must have some serious issues  https://t.co/ojYaDpnSoe': 1,\n",
       " \"RT @DebbieStout5: Wow! Last I checked it was just 12 points &amp; that wasn't more than a day ago. Oh boy Trump ppl might want to rethink🤔 http…\": 1,\n",
       " \"RT @tyleroakley: i'm a messy bitch, but at least i'm not voting for trump\": 1,\n",
       " \"RT @vandives: Trump supporters r tired of justice NOT being served. There's no justice anymore. Hardworking Americans get screwed. That's n…\": 1,\n",
       " 'RT @AP: BREAKING: Trump vows to stand by campaign manager charged with battery, says he does not discard people.': 2,\n",
       " 'It Cometh from the Pit. And Hath a Knout https://t.co/iyF5HPDJNU\\r\\n#Trump\\r\\n#Election2016 https://t.co/W4ZXQfUHi8': 1,\n",
       " '@footlooseracer @hautedamn @z0mgItsHutch So much sadness and pure stupidity from the people who support Trump. Very sad.': 1,\n",
       " 'RT @urfavandtrump: RT for Jerrie (Little Mix)\\r\\nFav for Donald Trump https://t.co/nEVxElW6iG': 2,\n",
       " 'PSA: @piersmorgan is a asshole. https://t.co/2Gjp2NPo0w': 2,\n",
       " 'RT @NoahCRothman: When Walker was fighting for reforms, Trump was defending unions and collective bargaining privileges https://t.co/e1UWNN…': 2,\n",
       " 'RT @RedheadAndRight: Report: Secret Service Says Michelle Fields Touched Trump https://t.co/c5c2sD8VO2\\r\\n\\r\\nThis is the only article you will n…': 2,\n",
       " 'Me listening to DONALD TRUMP saying that he has no small hands ( allegedly ) https://t.co/LhUYdi8Vgf https://t.co/IwD9Lg84HY': 1,\n",
       " 'RT @AIIAmericanGirI: VIDEO=&gt; Anti-Trump Protester SLUGS Elderly Trump Supporter in the Face\\r\\nhttps://t.co/GeEryMDuDY': 2,\n",
       " 'RT @JusticeRanger1: @realDonaldTrump @Pudingtane @DanScavino @GOP @infowars @EricTrump \\r\\nURGENT PUBLIC TRUMP ALERT:\\r\\nCOVERT KILL MEANS https:…': 2,\n",
       " 'Susan Sarandon Shares Interesting Opinion on Donald Trump https://t.co/Gjzkpr5mrH': 2,\n",
       " '@jbrading dude you are annoying af. Deion sanders fucking hates you guys.': 2,\n",
       " 'RT @Schneider_CM: Trump says nobody had ever heard of executive orders before Obama started signing them. Never heard of the Emancipation P…': 2,\n",
       " 'RT @RonBasler1: @DavidWhitDennis @realDonaldTrump @tedcruz \\r\\n\\r\\nCRUZ SCREWS HOOKERS\\r\\n\\r\\nCRUZ / CLINTON': 2,\n",
       " \"@realDonaldTrump Its too bad Cruz doesn't have enough brains to realize he's being led down the primrose lane to be neutered by the Elites!!\": 2,\n",
       " 'RT @DonaldsAngel: Former Ms. WI just said that she is terminally ill but because of Trump pageant, her 7 yr. old son has his college educat…': 2,\n",
       " 'Photo: #Donald #Trump #Protest in #Milwaukee ahead of CNN GOP #Town #Hall with #Trump, Ted #Cruz, ... https://t.co/8NOguZUSCK': 2,\n",
       " 'RT @Dodarey: @DR8801 @SykesCharlie Charlie, let\\'s see you get a straight \"yes\" or \"no\" answer from Cruz a/b being unfaithful to his wife @T…': 2,\n",
       " 'RT @RockCliffOne: Remember when the idea of a diabolical moron holding the world hostage was an idea for a funny movie? #Trump #GOP https:/…': 2,\n",
       " 'RT @HillaryClinton: \"Every day, another Republican bemoans the rise of Donald Trump... but [he] didn’t come out of nowhere.\" —Hillary\\r\\nhttps…': 2,\n",
       " '@realDonaldTrump @MELANIATRUMP Get Them Good Mr.Trump ,Great Picture of You and The First Lady': 2,\n",
       " \"I just saw this. I'm speechless.  https://t.co/cmUYxtrX0Y\": 2,\n",
       " 'Trump campaign chief charged with battery https://t.co/SpIukqj3Rb': 1,\n",
       " 'RT @immigrant4trump: @immigrant4trump msm, cable news attacking trump all day, from 8am to 10pm today, then the reruns come on, repeating t…': 2,\n",
       " '@ErinBurnett @Bakari_Sellers @benfergusonshow @BernieSanders Again @CNN allows Jeff Lord far too much time to spin wacky Trump.': 2,\n",
       " '@noreallyhowcome @TVineberg Learn about Bernie https://t.co/bhaUnQ4jrr Learn about Hillary https://t.co/eAbfWrAG4G https://t.co/W53JJCkDFv': 1,\n",
       " 'RT @GlendaJazzey: Donald Trump’s Campaign Financing Dodge, @rrotunda https://t.co/L8flI4lswG via @VerdictJustia': 1,\n",
       " \"Trump who prides himself on the ability to spot a good deal missed out on a big one in Louisiana. C'est la vie.  https://t.co/MZrvWwTWZV\": 1,\n",
       " 'Judicial Watch: Obama Administration Withholds Draft Whitewater Indictment of Hillary Clinton https://t.co/EuW9J1WVm1': 1,\n",
       " \"I don't understand how anyone can support a hateful person like @realDonaldTrump  https://t.co/BbYMxRWadC\": 1,\n",
       " 'RT @TUSK81: LOUDER FOR THE PEOPLE IN THE BACK https://t.co/hlPVyNLXzx': 1,\n",
       " 'RT @loopzoop: Well...put it back https://t.co/8Yb7BDT5VM': 1,\n",
       " 'Donald Trump: Victim. https://t.co/qvK17ZnUTZ': 1,\n",
       " 'RT @claytoncubitt: Stop asking Bernie supporters if they’ll vote for Hillary against Trump. We got a plan to beat Trump already. Called Ber…': 1,\n",
       " 'Kasich is gonna fuck this up for Ted Cruz  https://t.co/JYYok5qx7R': 2,\n",
       " \"RT @akaMaude13: Seriously can't make this up. What a joke. #NeverTrump  https://t.co/JkTx6mdRgC\": 1,\n",
       " '@marklevinshow try reporting this truth. https://t.co/z76fZzCRK3': 1}"
      ]
     },
     "execution_count": 219,
     "metadata": {},
     "output_type": "execute_result"
    }
   ],
   "source": [
    "count_entries(df, \"text\")"
   ]
  },
  {
   "cell_type": "code",
   "execution_count": 220,
   "id": "44fd5ebb",
   "metadata": {},
   "outputs": [
    {
     "data": {
      "text/plain": [
       "{False: 70, nan: 28, True: 2}"
      ]
     },
     "execution_count": 220,
     "metadata": {},
     "output_type": "execute_result"
    }
   ],
   "source": [
    "count_entries(df, \"possibly_sensitive\")"
   ]
  },
  {
   "cell_type": "code",
   "execution_count": null,
   "id": "10565b0a",
   "metadata": {},
   "outputs": [],
   "source": []
  },
  {
   "cell_type": "code",
   "execution_count": 227,
   "id": "0c3a422a",
   "metadata": {},
   "outputs": [],
   "source": [
    "def count_entry(dataset, columns):\n",
    "    \n",
    "    \"\"\"this function goes into the selected column from the mentioned data set. \n",
    "    Reads the entire column and tells us how many times each data point is available in the column.\"\"\"\n",
    "    \n",
    "    \n",
    "    # empty list to store the data from the columns\n",
    "    \n",
    "    column_data = {}\n",
    "    \n",
    "    \n",
    "    # extract column \n",
    "    column = df[columns]\n",
    "    \n",
    "    \n",
    "    # to read the entire column, apply loop on the colum\n",
    "    \n",
    "    for entry in column:\n",
    "        if entry in column_data.keys():\n",
    "            \n",
    "            column_data[entry] += 1\n",
    "            \n",
    "        else:\n",
    "            \n",
    "            column_data[entry] = 1\n",
    "            \n",
    "            \n",
    "    return column_data\n",
    "    "
   ]
  },
  {
   "cell_type": "code",
   "execution_count": 228,
   "id": "047d136c",
   "metadata": {},
   "outputs": [
    {
     "data": {
      "text/plain": [
       "{'en': 97, 'et': 1, 'und': 2}"
      ]
     },
     "execution_count": 228,
     "metadata": {},
     "output_type": "execute_result"
    }
   ],
   "source": [
    "count_entry(df, \"lang\")"
   ]
  },
  {
   "cell_type": "code",
   "execution_count": null,
   "id": "3c72d54e",
   "metadata": {},
   "outputs": [],
   "source": []
  }
 ],
 "metadata": {
  "kernelspec": {
   "display_name": "Python 3 (ipykernel)",
   "language": "python",
   "name": "python3"
  },
  "language_info": {
   "codemirror_mode": {
    "name": "ipython",
    "version": 3
   },
   "file_extension": ".py",
   "mimetype": "text/x-python",
   "name": "python",
   "nbconvert_exporter": "python",
   "pygments_lexer": "ipython3",
   "version": "3.9.7"
  }
 },
 "nbformat": 4,
 "nbformat_minor": 5
}
